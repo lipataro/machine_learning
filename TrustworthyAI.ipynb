{
  "nbformat": 4,
  "nbformat_minor": 0,
  "metadata": {
    "colab": {
      "name": "TrustworthyAI.ipynb",
      "provenance": []
    },
    "kernelspec": {
      "name": "python3",
      "display_name": "Python 3"
    },
    "language_info": {
      "name": "python"
    }
  },
  "cells": [
    {
      "cell_type": "markdown",
      "source": [
        "# Fairness Metrics - Trustworthy AI\n",
        "German Credit Dataset - https://archive.ics.uci.edu/ml/datasets/statlog+(german+credit+data) \\\n",
        "This dataset is commonly used in fairness literature. It contains information about 1000 loan applicants and includes 20 attributes describing each applicant, e.g., credit history, purpose of the loan, loan amount requested, marital status, gender, age, job, and housing status. It also contains an additional attribute that describes the classification outcome – whether an applicant has a good or a bad credit score.\n",
        "## Overview \n",
        "\n",
        "Is there a way to measure fairness of our machine learning model? Is our model/database biased? \n",
        "\n",
        "*   In this notebook, we explore the german credit database\n",
        "*   A machine learning model is chosen in order to classify good/bad credit \n",
        "*   The **PPV** (positive predictive value) is calculated for both genders in order to see gender bias \n",
        "*   ***Aequitas*** is used in order to calculate the other fairness metrics \\\n",
        "https://github.com/dssg/aequitas "
      ],
      "metadata": {
        "id": "bLfSSOumxGqU"
      }
    },
    {
      "cell_type": "markdown",
      "source": [
        "## Reading/cleaning data"
      ],
      "metadata": {
        "id": "DR4SYwAJsz3a"
      }
    },
    {
      "cell_type": "code",
      "execution_count": 100,
      "metadata": {
        "id": "S3BP6e696nrv"
      },
      "outputs": [],
      "source": [
        "# Import the needed packages\n",
        "import numpy as np\n",
        "import pandas as pd\n",
        "import matplotlib.pyplot as plt\n",
        "import graphviz\n",
        "import seaborn as sns"
      ]
    },
    {
      "cell_type": "markdown",
      "source": [
        "The german.data file can be read as a .csv, but we need to be careful with the separator in this case, which is a single or multiple whitespaces. "
      ],
      "metadata": {
        "id": "wB4-g4_zQvPQ"
      }
    },
    {
      "cell_type": "code",
      "source": [
        "df_init = pd.read_csv('https://archive.ics.uci.edu/ml/machine-learning-databases/statlog/german/german.data', header=None, sep='\\s+')"
      ],
      "metadata": {
        "id": "XLcRE-0hODE7"
      },
      "execution_count": 101,
      "outputs": []
    },
    {
      "cell_type": "code",
      "source": [
        "# Giving names to the columns\n",
        "df_init.columns = ['Checking_account', 'Duration_months', 'Credit_history', 'Purpose', 'Credit_amount', 'Savings', \n",
        "                   'Present_employment_since', 'Installment_rate', 'Personal_status_sex', 'Other_debtors',\n",
        "                   'Present_residence_since','Property', 'Age', 'Other_installment_plans','Housing','existing_credits',\n",
        "                   'Job','People_provide_maintenance_for','Telephone','foreign_worker', 'Target']"
      ],
      "metadata": {
        "id": "LjkAVUXBAAt-"
      },
      "execution_count": 102,
      "outputs": []
    },
    {
      "cell_type": "markdown",
      "source": [
        "The dataframe has 1000 rows and 21 columns, of which 8 have integer values and 13 object ones, as we can see below:"
      ],
      "metadata": {
        "id": "qhV4nflmThlj"
      }
    },
    {
      "cell_type": "code",
      "source": [
        "df_init.info()"
      ],
      "metadata": {
        "colab": {
          "base_uri": "https://localhost:8080/"
        },
        "id": "uQrzAZbwgz7G",
        "outputId": "5aadef3a-25e5-42dd-f7df-6cea92cc208c"
      },
      "execution_count": 4,
      "outputs": [
        {
          "output_type": "stream",
          "name": "stdout",
          "text": [
            "<class 'pandas.core.frame.DataFrame'>\n",
            "RangeIndex: 1000 entries, 0 to 999\n",
            "Data columns (total 21 columns):\n",
            " #   Column                          Non-Null Count  Dtype \n",
            "---  ------                          --------------  ----- \n",
            " 0   Checking_account                1000 non-null   object\n",
            " 1   Duration_months                 1000 non-null   int64 \n",
            " 2   Credit_history                  1000 non-null   object\n",
            " 3   Purpose                         1000 non-null   object\n",
            " 4   Credit_amount                   1000 non-null   int64 \n",
            " 5   Savings                         1000 non-null   object\n",
            " 6   Present_employment_since        1000 non-null   object\n",
            " 7   Installment_rate                1000 non-null   int64 \n",
            " 8   Personal_status_sex             1000 non-null   object\n",
            " 9   Other_debtors                   1000 non-null   object\n",
            " 10  Present_residence_since         1000 non-null   int64 \n",
            " 11  Property                        1000 non-null   object\n",
            " 12  Age                             1000 non-null   int64 \n",
            " 13  Other_installment_plans         1000 non-null   object\n",
            " 14  Housing                         1000 non-null   object\n",
            " 15  existing_credits                1000 non-null   int64 \n",
            " 16  Job                             1000 non-null   object\n",
            " 17  People_provide_maintenance_for  1000 non-null   int64 \n",
            " 18  Telephone                       1000 non-null   object\n",
            " 19  foreign_worker                  1000 non-null   object\n",
            " 20  Target                          1000 non-null   int64 \n",
            "dtypes: int64(8), object(13)\n",
            "memory usage: 164.2+ KB\n"
          ]
        }
      ]
    },
    {
      "cell_type": "code",
      "source": [
        "df_init.shape"
      ],
      "metadata": {
        "colab": {
          "base_uri": "https://localhost:8080/"
        },
        "id": "E-LHW6uoT-Q4",
        "outputId": "3aaf37c1-6e4d-41f9-dbfe-0c5a8efac3ac"
      },
      "execution_count": 5,
      "outputs": [
        {
          "output_type": "execute_result",
          "data": {
            "text/plain": [
              "(1000, 21)"
            ]
          },
          "metadata": {},
          "execution_count": 5
        }
      ]
    },
    {
      "cell_type": "code",
      "source": [
        "df_init.head(10)"
      ],
      "metadata": {
        "colab": {
          "base_uri": "https://localhost:8080/",
          "height": 456
        },
        "id": "TL-btov_-IWD",
        "outputId": "e25b3268-2a95-46fb-85da-a9378a595531"
      },
      "execution_count": 4,
      "outputs": [
        {
          "output_type": "execute_result",
          "data": {
            "text/plain": [
              "  Checking_account  Duration_months Credit_history Purpose  Credit_amount  \\\n",
              "0              A11                6            A34     A43           1169   \n",
              "1              A12               48            A32     A43           5951   \n",
              "2              A14               12            A34     A46           2096   \n",
              "3              A11               42            A32     A42           7882   \n",
              "4              A11               24            A33     A40           4870   \n",
              "5              A14               36            A32     A46           9055   \n",
              "6              A14               24            A32     A42           2835   \n",
              "7              A12               36            A32     A41           6948   \n",
              "8              A14               12            A32     A43           3059   \n",
              "9              A12               30            A34     A40           5234   \n",
              "\n",
              "  Savings Present_employment_since  Installment_rate Personal_status_sex  \\\n",
              "0     A65                      A75                 4                 A93   \n",
              "1     A61                      A73                 2                 A92   \n",
              "2     A61                      A74                 2                 A93   \n",
              "3     A61                      A74                 2                 A93   \n",
              "4     A61                      A73                 3                 A93   \n",
              "5     A65                      A73                 2                 A93   \n",
              "6     A63                      A75                 3                 A93   \n",
              "7     A61                      A73                 2                 A93   \n",
              "8     A64                      A74                 2                 A91   \n",
              "9     A61                      A71                 4                 A94   \n",
              "\n",
              "  Other_debtors  ...  Property Age  Other_installment_plans Housing  \\\n",
              "0          A101  ...      A121  67                     A143    A152   \n",
              "1          A101  ...      A121  22                     A143    A152   \n",
              "2          A101  ...      A121  49                     A143    A152   \n",
              "3          A103  ...      A122  45                     A143    A153   \n",
              "4          A101  ...      A124  53                     A143    A153   \n",
              "5          A101  ...      A124  35                     A143    A153   \n",
              "6          A101  ...      A122  53                     A143    A152   \n",
              "7          A101  ...      A123  35                     A143    A151   \n",
              "8          A101  ...      A121  61                     A143    A152   \n",
              "9          A101  ...      A123  28                     A143    A152   \n",
              "\n",
              "  existing_credits   Job People_provide_maintenance_for  Telephone  \\\n",
              "0                2  A173                              1       A192   \n",
              "1                1  A173                              1       A191   \n",
              "2                1  A172                              2       A191   \n",
              "3                1  A173                              2       A191   \n",
              "4                2  A173                              2       A191   \n",
              "5                1  A172                              2       A192   \n",
              "6                1  A173                              1       A191   \n",
              "7                1  A174                              1       A192   \n",
              "8                1  A172                              1       A191   \n",
              "9                2  A174                              1       A191   \n",
              "\n",
              "  foreign_worker Target  \n",
              "0           A201      1  \n",
              "1           A201      2  \n",
              "2           A201      1  \n",
              "3           A201      1  \n",
              "4           A201      2  \n",
              "5           A201      1  \n",
              "6           A201      1  \n",
              "7           A201      1  \n",
              "8           A201      1  \n",
              "9           A201      2  \n",
              "\n",
              "[10 rows x 21 columns]"
            ],
            "text/html": [
              "\n",
              "  <div id=\"df-1286dcec-f099-43ef-8dbe-218e82de1482\">\n",
              "    <div class=\"colab-df-container\">\n",
              "      <div>\n",
              "<style scoped>\n",
              "    .dataframe tbody tr th:only-of-type {\n",
              "        vertical-align: middle;\n",
              "    }\n",
              "\n",
              "    .dataframe tbody tr th {\n",
              "        vertical-align: top;\n",
              "    }\n",
              "\n",
              "    .dataframe thead th {\n",
              "        text-align: right;\n",
              "    }\n",
              "</style>\n",
              "<table border=\"1\" class=\"dataframe\">\n",
              "  <thead>\n",
              "    <tr style=\"text-align: right;\">\n",
              "      <th></th>\n",
              "      <th>Checking_account</th>\n",
              "      <th>Duration_months</th>\n",
              "      <th>Credit_history</th>\n",
              "      <th>Purpose</th>\n",
              "      <th>Credit_amount</th>\n",
              "      <th>Savings</th>\n",
              "      <th>Present_employment_since</th>\n",
              "      <th>Installment_rate</th>\n",
              "      <th>Personal_status_sex</th>\n",
              "      <th>Other_debtors</th>\n",
              "      <th>...</th>\n",
              "      <th>Property</th>\n",
              "      <th>Age</th>\n",
              "      <th>Other_installment_plans</th>\n",
              "      <th>Housing</th>\n",
              "      <th>existing_credits</th>\n",
              "      <th>Job</th>\n",
              "      <th>People_provide_maintenance_for</th>\n",
              "      <th>Telephone</th>\n",
              "      <th>foreign_worker</th>\n",
              "      <th>Target</th>\n",
              "    </tr>\n",
              "  </thead>\n",
              "  <tbody>\n",
              "    <tr>\n",
              "      <th>0</th>\n",
              "      <td>A11</td>\n",
              "      <td>6</td>\n",
              "      <td>A34</td>\n",
              "      <td>A43</td>\n",
              "      <td>1169</td>\n",
              "      <td>A65</td>\n",
              "      <td>A75</td>\n",
              "      <td>4</td>\n",
              "      <td>A93</td>\n",
              "      <td>A101</td>\n",
              "      <td>...</td>\n",
              "      <td>A121</td>\n",
              "      <td>67</td>\n",
              "      <td>A143</td>\n",
              "      <td>A152</td>\n",
              "      <td>2</td>\n",
              "      <td>A173</td>\n",
              "      <td>1</td>\n",
              "      <td>A192</td>\n",
              "      <td>A201</td>\n",
              "      <td>1</td>\n",
              "    </tr>\n",
              "    <tr>\n",
              "      <th>1</th>\n",
              "      <td>A12</td>\n",
              "      <td>48</td>\n",
              "      <td>A32</td>\n",
              "      <td>A43</td>\n",
              "      <td>5951</td>\n",
              "      <td>A61</td>\n",
              "      <td>A73</td>\n",
              "      <td>2</td>\n",
              "      <td>A92</td>\n",
              "      <td>A101</td>\n",
              "      <td>...</td>\n",
              "      <td>A121</td>\n",
              "      <td>22</td>\n",
              "      <td>A143</td>\n",
              "      <td>A152</td>\n",
              "      <td>1</td>\n",
              "      <td>A173</td>\n",
              "      <td>1</td>\n",
              "      <td>A191</td>\n",
              "      <td>A201</td>\n",
              "      <td>2</td>\n",
              "    </tr>\n",
              "    <tr>\n",
              "      <th>2</th>\n",
              "      <td>A14</td>\n",
              "      <td>12</td>\n",
              "      <td>A34</td>\n",
              "      <td>A46</td>\n",
              "      <td>2096</td>\n",
              "      <td>A61</td>\n",
              "      <td>A74</td>\n",
              "      <td>2</td>\n",
              "      <td>A93</td>\n",
              "      <td>A101</td>\n",
              "      <td>...</td>\n",
              "      <td>A121</td>\n",
              "      <td>49</td>\n",
              "      <td>A143</td>\n",
              "      <td>A152</td>\n",
              "      <td>1</td>\n",
              "      <td>A172</td>\n",
              "      <td>2</td>\n",
              "      <td>A191</td>\n",
              "      <td>A201</td>\n",
              "      <td>1</td>\n",
              "    </tr>\n",
              "    <tr>\n",
              "      <th>3</th>\n",
              "      <td>A11</td>\n",
              "      <td>42</td>\n",
              "      <td>A32</td>\n",
              "      <td>A42</td>\n",
              "      <td>7882</td>\n",
              "      <td>A61</td>\n",
              "      <td>A74</td>\n",
              "      <td>2</td>\n",
              "      <td>A93</td>\n",
              "      <td>A103</td>\n",
              "      <td>...</td>\n",
              "      <td>A122</td>\n",
              "      <td>45</td>\n",
              "      <td>A143</td>\n",
              "      <td>A153</td>\n",
              "      <td>1</td>\n",
              "      <td>A173</td>\n",
              "      <td>2</td>\n",
              "      <td>A191</td>\n",
              "      <td>A201</td>\n",
              "      <td>1</td>\n",
              "    </tr>\n",
              "    <tr>\n",
              "      <th>4</th>\n",
              "      <td>A11</td>\n",
              "      <td>24</td>\n",
              "      <td>A33</td>\n",
              "      <td>A40</td>\n",
              "      <td>4870</td>\n",
              "      <td>A61</td>\n",
              "      <td>A73</td>\n",
              "      <td>3</td>\n",
              "      <td>A93</td>\n",
              "      <td>A101</td>\n",
              "      <td>...</td>\n",
              "      <td>A124</td>\n",
              "      <td>53</td>\n",
              "      <td>A143</td>\n",
              "      <td>A153</td>\n",
              "      <td>2</td>\n",
              "      <td>A173</td>\n",
              "      <td>2</td>\n",
              "      <td>A191</td>\n",
              "      <td>A201</td>\n",
              "      <td>2</td>\n",
              "    </tr>\n",
              "    <tr>\n",
              "      <th>5</th>\n",
              "      <td>A14</td>\n",
              "      <td>36</td>\n",
              "      <td>A32</td>\n",
              "      <td>A46</td>\n",
              "      <td>9055</td>\n",
              "      <td>A65</td>\n",
              "      <td>A73</td>\n",
              "      <td>2</td>\n",
              "      <td>A93</td>\n",
              "      <td>A101</td>\n",
              "      <td>...</td>\n",
              "      <td>A124</td>\n",
              "      <td>35</td>\n",
              "      <td>A143</td>\n",
              "      <td>A153</td>\n",
              "      <td>1</td>\n",
              "      <td>A172</td>\n",
              "      <td>2</td>\n",
              "      <td>A192</td>\n",
              "      <td>A201</td>\n",
              "      <td>1</td>\n",
              "    </tr>\n",
              "    <tr>\n",
              "      <th>6</th>\n",
              "      <td>A14</td>\n",
              "      <td>24</td>\n",
              "      <td>A32</td>\n",
              "      <td>A42</td>\n",
              "      <td>2835</td>\n",
              "      <td>A63</td>\n",
              "      <td>A75</td>\n",
              "      <td>3</td>\n",
              "      <td>A93</td>\n",
              "      <td>A101</td>\n",
              "      <td>...</td>\n",
              "      <td>A122</td>\n",
              "      <td>53</td>\n",
              "      <td>A143</td>\n",
              "      <td>A152</td>\n",
              "      <td>1</td>\n",
              "      <td>A173</td>\n",
              "      <td>1</td>\n",
              "      <td>A191</td>\n",
              "      <td>A201</td>\n",
              "      <td>1</td>\n",
              "    </tr>\n",
              "    <tr>\n",
              "      <th>7</th>\n",
              "      <td>A12</td>\n",
              "      <td>36</td>\n",
              "      <td>A32</td>\n",
              "      <td>A41</td>\n",
              "      <td>6948</td>\n",
              "      <td>A61</td>\n",
              "      <td>A73</td>\n",
              "      <td>2</td>\n",
              "      <td>A93</td>\n",
              "      <td>A101</td>\n",
              "      <td>...</td>\n",
              "      <td>A123</td>\n",
              "      <td>35</td>\n",
              "      <td>A143</td>\n",
              "      <td>A151</td>\n",
              "      <td>1</td>\n",
              "      <td>A174</td>\n",
              "      <td>1</td>\n",
              "      <td>A192</td>\n",
              "      <td>A201</td>\n",
              "      <td>1</td>\n",
              "    </tr>\n",
              "    <tr>\n",
              "      <th>8</th>\n",
              "      <td>A14</td>\n",
              "      <td>12</td>\n",
              "      <td>A32</td>\n",
              "      <td>A43</td>\n",
              "      <td>3059</td>\n",
              "      <td>A64</td>\n",
              "      <td>A74</td>\n",
              "      <td>2</td>\n",
              "      <td>A91</td>\n",
              "      <td>A101</td>\n",
              "      <td>...</td>\n",
              "      <td>A121</td>\n",
              "      <td>61</td>\n",
              "      <td>A143</td>\n",
              "      <td>A152</td>\n",
              "      <td>1</td>\n",
              "      <td>A172</td>\n",
              "      <td>1</td>\n",
              "      <td>A191</td>\n",
              "      <td>A201</td>\n",
              "      <td>1</td>\n",
              "    </tr>\n",
              "    <tr>\n",
              "      <th>9</th>\n",
              "      <td>A12</td>\n",
              "      <td>30</td>\n",
              "      <td>A34</td>\n",
              "      <td>A40</td>\n",
              "      <td>5234</td>\n",
              "      <td>A61</td>\n",
              "      <td>A71</td>\n",
              "      <td>4</td>\n",
              "      <td>A94</td>\n",
              "      <td>A101</td>\n",
              "      <td>...</td>\n",
              "      <td>A123</td>\n",
              "      <td>28</td>\n",
              "      <td>A143</td>\n",
              "      <td>A152</td>\n",
              "      <td>2</td>\n",
              "      <td>A174</td>\n",
              "      <td>1</td>\n",
              "      <td>A191</td>\n",
              "      <td>A201</td>\n",
              "      <td>2</td>\n",
              "    </tr>\n",
              "  </tbody>\n",
              "</table>\n",
              "<p>10 rows × 21 columns</p>\n",
              "</div>\n",
              "      <button class=\"colab-df-convert\" onclick=\"convertToInteractive('df-1286dcec-f099-43ef-8dbe-218e82de1482')\"\n",
              "              title=\"Convert this dataframe to an interactive table.\"\n",
              "              style=\"display:none;\">\n",
              "        \n",
              "  <svg xmlns=\"http://www.w3.org/2000/svg\" height=\"24px\"viewBox=\"0 0 24 24\"\n",
              "       width=\"24px\">\n",
              "    <path d=\"M0 0h24v24H0V0z\" fill=\"none\"/>\n",
              "    <path d=\"M18.56 5.44l.94 2.06.94-2.06 2.06-.94-2.06-.94-.94-2.06-.94 2.06-2.06.94zm-11 1L8.5 8.5l.94-2.06 2.06-.94-2.06-.94L8.5 2.5l-.94 2.06-2.06.94zm10 10l.94 2.06.94-2.06 2.06-.94-2.06-.94-.94-2.06-.94 2.06-2.06.94z\"/><path d=\"M17.41 7.96l-1.37-1.37c-.4-.4-.92-.59-1.43-.59-.52 0-1.04.2-1.43.59L10.3 9.45l-7.72 7.72c-.78.78-.78 2.05 0 2.83L4 21.41c.39.39.9.59 1.41.59.51 0 1.02-.2 1.41-.59l7.78-7.78 2.81-2.81c.8-.78.8-2.07 0-2.86zM5.41 20L4 18.59l7.72-7.72 1.47 1.35L5.41 20z\"/>\n",
              "  </svg>\n",
              "      </button>\n",
              "      \n",
              "  <style>\n",
              "    .colab-df-container {\n",
              "      display:flex;\n",
              "      flex-wrap:wrap;\n",
              "      gap: 12px;\n",
              "    }\n",
              "\n",
              "    .colab-df-convert {\n",
              "      background-color: #E8F0FE;\n",
              "      border: none;\n",
              "      border-radius: 50%;\n",
              "      cursor: pointer;\n",
              "      display: none;\n",
              "      fill: #1967D2;\n",
              "      height: 32px;\n",
              "      padding: 0 0 0 0;\n",
              "      width: 32px;\n",
              "    }\n",
              "\n",
              "    .colab-df-convert:hover {\n",
              "      background-color: #E2EBFA;\n",
              "      box-shadow: 0px 1px 2px rgba(60, 64, 67, 0.3), 0px 1px 3px 1px rgba(60, 64, 67, 0.15);\n",
              "      fill: #174EA6;\n",
              "    }\n",
              "\n",
              "    [theme=dark] .colab-df-convert {\n",
              "      background-color: #3B4455;\n",
              "      fill: #D2E3FC;\n",
              "    }\n",
              "\n",
              "    [theme=dark] .colab-df-convert:hover {\n",
              "      background-color: #434B5C;\n",
              "      box-shadow: 0px 1px 3px 1px rgba(0, 0, 0, 0.15);\n",
              "      filter: drop-shadow(0px 1px 2px rgba(0, 0, 0, 0.3));\n",
              "      fill: #FFFFFF;\n",
              "    }\n",
              "  </style>\n",
              "\n",
              "      <script>\n",
              "        const buttonEl =\n",
              "          document.querySelector('#df-1286dcec-f099-43ef-8dbe-218e82de1482 button.colab-df-convert');\n",
              "        buttonEl.style.display =\n",
              "          google.colab.kernel.accessAllowed ? 'block' : 'none';\n",
              "\n",
              "        async function convertToInteractive(key) {\n",
              "          const element = document.querySelector('#df-1286dcec-f099-43ef-8dbe-218e82de1482');\n",
              "          const dataTable =\n",
              "            await google.colab.kernel.invokeFunction('convertToInteractive',\n",
              "                                                     [key], {});\n",
              "          if (!dataTable) return;\n",
              "\n",
              "          const docLinkHtml = 'Like what you see? Visit the ' +\n",
              "            '<a target=\"_blank\" href=https://colab.research.google.com/notebooks/data_table.ipynb>data table notebook</a>'\n",
              "            + ' to learn more about interactive tables.';\n",
              "          element.innerHTML = '';\n",
              "          dataTable['output_type'] = 'display_data';\n",
              "          await google.colab.output.renderOutput(dataTable, element);\n",
              "          const docLink = document.createElement('div');\n",
              "          docLink.innerHTML = docLinkHtml;\n",
              "          element.appendChild(docLink);\n",
              "        }\n",
              "      </script>\n",
              "    </div>\n",
              "  </div>\n",
              "  "
            ]
          },
          "metadata": {},
          "execution_count": 4
        }
      ]
    },
    {
      "cell_type": "code",
      "source": [
        "df_init.isna().sum()"
      ],
      "metadata": {
        "id": "2syVy1qJqQ7G"
      },
      "execution_count": null,
      "outputs": []
    },
    {
      "cell_type": "markdown",
      "source": [
        "## Exploring Data Properties"
      ],
      "metadata": {
        "id": "QMroPKT9X32L"
      }
    },
    {
      "cell_type": "code",
      "source": [
        "# Properties of the Numerical columns\n",
        "df_init.describe().T"
      ],
      "metadata": {
        "colab": {
          "base_uri": "https://localhost:8080/",
          "height": 300
        },
        "id": "t9YOfm0zqREu",
        "outputId": "855ae062-595b-43df-eb4f-48950d76a618"
      },
      "execution_count": 5,
      "outputs": [
        {
          "output_type": "execute_result",
          "data": {
            "text/plain": [
              "                                 count      mean          std    min     25%  \\\n",
              "Duration_months                 1000.0    20.903    12.058814    4.0    12.0   \n",
              "Credit_amount                   1000.0  3271.258  2822.736876  250.0  1365.5   \n",
              "Installment_rate                1000.0     2.973     1.118715    1.0     2.0   \n",
              "Present_residence_since         1000.0     2.845     1.103718    1.0     2.0   \n",
              "Age                             1000.0    35.546    11.375469   19.0    27.0   \n",
              "existing_credits                1000.0     1.407     0.577654    1.0     1.0   \n",
              "People_provide_maintenance_for  1000.0     1.155     0.362086    1.0     1.0   \n",
              "Target                          1000.0     1.300     0.458487    1.0     1.0   \n",
              "\n",
              "                                   50%      75%      max  \n",
              "Duration_months                   18.0    24.00     72.0  \n",
              "Credit_amount                   2319.5  3972.25  18424.0  \n",
              "Installment_rate                   3.0     4.00      4.0  \n",
              "Present_residence_since            3.0     4.00      4.0  \n",
              "Age                               33.0    42.00     75.0  \n",
              "existing_credits                   1.0     2.00      4.0  \n",
              "People_provide_maintenance_for     1.0     1.00      2.0  \n",
              "Target                             1.0     2.00      2.0  "
            ],
            "text/html": [
              "\n",
              "  <div id=\"df-a8c3e5ba-3627-459f-8b0e-0b572a883496\">\n",
              "    <div class=\"colab-df-container\">\n",
              "      <div>\n",
              "<style scoped>\n",
              "    .dataframe tbody tr th:only-of-type {\n",
              "        vertical-align: middle;\n",
              "    }\n",
              "\n",
              "    .dataframe tbody tr th {\n",
              "        vertical-align: top;\n",
              "    }\n",
              "\n",
              "    .dataframe thead th {\n",
              "        text-align: right;\n",
              "    }\n",
              "</style>\n",
              "<table border=\"1\" class=\"dataframe\">\n",
              "  <thead>\n",
              "    <tr style=\"text-align: right;\">\n",
              "      <th></th>\n",
              "      <th>count</th>\n",
              "      <th>mean</th>\n",
              "      <th>std</th>\n",
              "      <th>min</th>\n",
              "      <th>25%</th>\n",
              "      <th>50%</th>\n",
              "      <th>75%</th>\n",
              "      <th>max</th>\n",
              "    </tr>\n",
              "  </thead>\n",
              "  <tbody>\n",
              "    <tr>\n",
              "      <th>Duration_months</th>\n",
              "      <td>1000.0</td>\n",
              "      <td>20.903</td>\n",
              "      <td>12.058814</td>\n",
              "      <td>4.0</td>\n",
              "      <td>12.0</td>\n",
              "      <td>18.0</td>\n",
              "      <td>24.00</td>\n",
              "      <td>72.0</td>\n",
              "    </tr>\n",
              "    <tr>\n",
              "      <th>Credit_amount</th>\n",
              "      <td>1000.0</td>\n",
              "      <td>3271.258</td>\n",
              "      <td>2822.736876</td>\n",
              "      <td>250.0</td>\n",
              "      <td>1365.5</td>\n",
              "      <td>2319.5</td>\n",
              "      <td>3972.25</td>\n",
              "      <td>18424.0</td>\n",
              "    </tr>\n",
              "    <tr>\n",
              "      <th>Installment_rate</th>\n",
              "      <td>1000.0</td>\n",
              "      <td>2.973</td>\n",
              "      <td>1.118715</td>\n",
              "      <td>1.0</td>\n",
              "      <td>2.0</td>\n",
              "      <td>3.0</td>\n",
              "      <td>4.00</td>\n",
              "      <td>4.0</td>\n",
              "    </tr>\n",
              "    <tr>\n",
              "      <th>Present_residence_since</th>\n",
              "      <td>1000.0</td>\n",
              "      <td>2.845</td>\n",
              "      <td>1.103718</td>\n",
              "      <td>1.0</td>\n",
              "      <td>2.0</td>\n",
              "      <td>3.0</td>\n",
              "      <td>4.00</td>\n",
              "      <td>4.0</td>\n",
              "    </tr>\n",
              "    <tr>\n",
              "      <th>Age</th>\n",
              "      <td>1000.0</td>\n",
              "      <td>35.546</td>\n",
              "      <td>11.375469</td>\n",
              "      <td>19.0</td>\n",
              "      <td>27.0</td>\n",
              "      <td>33.0</td>\n",
              "      <td>42.00</td>\n",
              "      <td>75.0</td>\n",
              "    </tr>\n",
              "    <tr>\n",
              "      <th>existing_credits</th>\n",
              "      <td>1000.0</td>\n",
              "      <td>1.407</td>\n",
              "      <td>0.577654</td>\n",
              "      <td>1.0</td>\n",
              "      <td>1.0</td>\n",
              "      <td>1.0</td>\n",
              "      <td>2.00</td>\n",
              "      <td>4.0</td>\n",
              "    </tr>\n",
              "    <tr>\n",
              "      <th>People_provide_maintenance_for</th>\n",
              "      <td>1000.0</td>\n",
              "      <td>1.155</td>\n",
              "      <td>0.362086</td>\n",
              "      <td>1.0</td>\n",
              "      <td>1.0</td>\n",
              "      <td>1.0</td>\n",
              "      <td>1.00</td>\n",
              "      <td>2.0</td>\n",
              "    </tr>\n",
              "    <tr>\n",
              "      <th>Target</th>\n",
              "      <td>1000.0</td>\n",
              "      <td>1.300</td>\n",
              "      <td>0.458487</td>\n",
              "      <td>1.0</td>\n",
              "      <td>1.0</td>\n",
              "      <td>1.0</td>\n",
              "      <td>2.00</td>\n",
              "      <td>2.0</td>\n",
              "    </tr>\n",
              "  </tbody>\n",
              "</table>\n",
              "</div>\n",
              "      <button class=\"colab-df-convert\" onclick=\"convertToInteractive('df-a8c3e5ba-3627-459f-8b0e-0b572a883496')\"\n",
              "              title=\"Convert this dataframe to an interactive table.\"\n",
              "              style=\"display:none;\">\n",
              "        \n",
              "  <svg xmlns=\"http://www.w3.org/2000/svg\" height=\"24px\"viewBox=\"0 0 24 24\"\n",
              "       width=\"24px\">\n",
              "    <path d=\"M0 0h24v24H0V0z\" fill=\"none\"/>\n",
              "    <path d=\"M18.56 5.44l.94 2.06.94-2.06 2.06-.94-2.06-.94-.94-2.06-.94 2.06-2.06.94zm-11 1L8.5 8.5l.94-2.06 2.06-.94-2.06-.94L8.5 2.5l-.94 2.06-2.06.94zm10 10l.94 2.06.94-2.06 2.06-.94-2.06-.94-.94-2.06-.94 2.06-2.06.94z\"/><path d=\"M17.41 7.96l-1.37-1.37c-.4-.4-.92-.59-1.43-.59-.52 0-1.04.2-1.43.59L10.3 9.45l-7.72 7.72c-.78.78-.78 2.05 0 2.83L4 21.41c.39.39.9.59 1.41.59.51 0 1.02-.2 1.41-.59l7.78-7.78 2.81-2.81c.8-.78.8-2.07 0-2.86zM5.41 20L4 18.59l7.72-7.72 1.47 1.35L5.41 20z\"/>\n",
              "  </svg>\n",
              "      </button>\n",
              "      \n",
              "  <style>\n",
              "    .colab-df-container {\n",
              "      display:flex;\n",
              "      flex-wrap:wrap;\n",
              "      gap: 12px;\n",
              "    }\n",
              "\n",
              "    .colab-df-convert {\n",
              "      background-color: #E8F0FE;\n",
              "      border: none;\n",
              "      border-radius: 50%;\n",
              "      cursor: pointer;\n",
              "      display: none;\n",
              "      fill: #1967D2;\n",
              "      height: 32px;\n",
              "      padding: 0 0 0 0;\n",
              "      width: 32px;\n",
              "    }\n",
              "\n",
              "    .colab-df-convert:hover {\n",
              "      background-color: #E2EBFA;\n",
              "      box-shadow: 0px 1px 2px rgba(60, 64, 67, 0.3), 0px 1px 3px 1px rgba(60, 64, 67, 0.15);\n",
              "      fill: #174EA6;\n",
              "    }\n",
              "\n",
              "    [theme=dark] .colab-df-convert {\n",
              "      background-color: #3B4455;\n",
              "      fill: #D2E3FC;\n",
              "    }\n",
              "\n",
              "    [theme=dark] .colab-df-convert:hover {\n",
              "      background-color: #434B5C;\n",
              "      box-shadow: 0px 1px 3px 1px rgba(0, 0, 0, 0.15);\n",
              "      filter: drop-shadow(0px 1px 2px rgba(0, 0, 0, 0.3));\n",
              "      fill: #FFFFFF;\n",
              "    }\n",
              "  </style>\n",
              "\n",
              "      <script>\n",
              "        const buttonEl =\n",
              "          document.querySelector('#df-a8c3e5ba-3627-459f-8b0e-0b572a883496 button.colab-df-convert');\n",
              "        buttonEl.style.display =\n",
              "          google.colab.kernel.accessAllowed ? 'block' : 'none';\n",
              "\n",
              "        async function convertToInteractive(key) {\n",
              "          const element = document.querySelector('#df-a8c3e5ba-3627-459f-8b0e-0b572a883496');\n",
              "          const dataTable =\n",
              "            await google.colab.kernel.invokeFunction('convertToInteractive',\n",
              "                                                     [key], {});\n",
              "          if (!dataTable) return;\n",
              "\n",
              "          const docLinkHtml = 'Like what you see? Visit the ' +\n",
              "            '<a target=\"_blank\" href=https://colab.research.google.com/notebooks/data_table.ipynb>data table notebook</a>'\n",
              "            + ' to learn more about interactive tables.';\n",
              "          element.innerHTML = '';\n",
              "          dataTable['output_type'] = 'display_data';\n",
              "          await google.colab.output.renderOutput(dataTable, element);\n",
              "          const docLink = document.createElement('div');\n",
              "          docLink.innerHTML = docLinkHtml;\n",
              "          element.appendChild(docLink);\n",
              "        }\n",
              "      </script>\n",
              "    </div>\n",
              "  </div>\n",
              "  "
            ]
          },
          "metadata": {},
          "execution_count": 5
        }
      ]
    },
    {
      "cell_type": "markdown",
      "source": [
        "The data is unbalanced: 70% good credit, 30% bad credit."
      ],
      "metadata": {
        "id": "sG6KP5q2DE7O"
      }
    },
    {
      "cell_type": "code",
      "source": [
        "# Target column: Good (1) or Bad (2) Credit \n",
        "df_init['Target'].value_counts()"
      ],
      "metadata": {
        "colab": {
          "base_uri": "https://localhost:8080/"
        },
        "id": "DdZfuqBDqQyH",
        "outputId": "adc424a7-fdd1-4866-bcc8-1d27abe51b78"
      },
      "execution_count": 6,
      "outputs": [
        {
          "output_type": "execute_result",
          "data": {
            "text/plain": [
              "1    700\n",
              "2    300\n",
              "Name: Target, dtype: int64"
            ]
          },
          "metadata": {},
          "execution_count": 6
        }
      ]
    },
    {
      "cell_type": "code",
      "source": [
        "# Properties of the Non-numerical (categorical) columns\n",
        "# First select the columns which would be categorical (object):\n",
        "cat_cols = [col for col in df_init.columns if df_init[col].dtypes == 'O']\n",
        "\n",
        "for col in cat_cols:\n",
        "    print(df_init[col].value_counts(), \"\\n\\n\")"
      ],
      "metadata": {
        "colab": {
          "base_uri": "https://localhost:8080/"
        },
        "id": "PEXvhtzNqQhR",
        "outputId": "66a36406-ba36-4b5c-e0eb-db9e87598992"
      },
      "execution_count": 7,
      "outputs": [
        {
          "output_type": "stream",
          "name": "stdout",
          "text": [
            "A14    394\n",
            "A11    274\n",
            "A12    269\n",
            "A13     63\n",
            "Name: Checking_account, dtype: int64 \n",
            "\n",
            "\n",
            "A32    530\n",
            "A34    293\n",
            "A33     88\n",
            "A31     49\n",
            "A30     40\n",
            "Name: Credit_history, dtype: int64 \n",
            "\n",
            "\n",
            "A43     280\n",
            "A40     234\n",
            "A42     181\n",
            "A41     103\n",
            "A49      97\n",
            "A46      50\n",
            "A45      22\n",
            "A44      12\n",
            "A410     12\n",
            "A48       9\n",
            "Name: Purpose, dtype: int64 \n",
            "\n",
            "\n",
            "A61    603\n",
            "A65    183\n",
            "A62    103\n",
            "A63     63\n",
            "A64     48\n",
            "Name: Savings, dtype: int64 \n",
            "\n",
            "\n",
            "A73    339\n",
            "A75    253\n",
            "A74    174\n",
            "A72    172\n",
            "A71     62\n",
            "Name: Present_employment_since, dtype: int64 \n",
            "\n",
            "\n",
            "A93    548\n",
            "A92    310\n",
            "A94     92\n",
            "A91     50\n",
            "Name: Personal_status_sex, dtype: int64 \n",
            "\n",
            "\n",
            "A101    907\n",
            "A103     52\n",
            "A102     41\n",
            "Name: Other_debtors, dtype: int64 \n",
            "\n",
            "\n",
            "A123    332\n",
            "A121    282\n",
            "A122    232\n",
            "A124    154\n",
            "Name: Property, dtype: int64 \n",
            "\n",
            "\n",
            "A143    814\n",
            "A141    139\n",
            "A142     47\n",
            "Name: Other_installment_plans, dtype: int64 \n",
            "\n",
            "\n",
            "A152    713\n",
            "A151    179\n",
            "A153    108\n",
            "Name: Housing, dtype: int64 \n",
            "\n",
            "\n",
            "A173    630\n",
            "A172    200\n",
            "A174    148\n",
            "A171     22\n",
            "Name: Job, dtype: int64 \n",
            "\n",
            "\n",
            "A191    596\n",
            "A192    404\n",
            "Name: Telephone, dtype: int64 \n",
            "\n",
            "\n",
            "A201    963\n",
            "A202     37\n",
            "Name: foreign_worker, dtype: int64 \n",
            "\n",
            "\n"
          ]
        }
      ]
    },
    {
      "cell_type": "markdown",
      "source": [
        "The gender and the marital status of the applicants is specified in one attribute (*Personal_status_sex*), which has five possible categorical values: single male, married male, divorced male, single female, married or divorced female. \\\n",
        "In all the 1000 records of this dataset there is no case of a single female applicant. \\\n",
        "\\\n",
        "**Attribute 9:** (qualitative) \\\n",
        "**Personal status and sex** \\\n",
        "A91 : male : divorced/separated - 50 values\\\n",
        "A92 : female : divorced/separated/married - 310 values\\\n",
        "A93 : male : single - 548 values\\\n",
        "A94 : male : married/widowed -  92 values\\\n",
        "A95 : female : single - none \\\n",
        "\\\n",
        "Using cross tabulation, it is possible to check the frequency of a good (1) or bad (2) credit for the unpriviliged groups: women and divorced men, in this case. Those groups are less likely to get credit than other men. \n"
      ],
      "metadata": {
        "id": "d5gqBuybY89v"
      }
    },
    {
      "cell_type": "code",
      "source": [
        "# Divorced men A91 and women A92 are less likely to get credit than other men. \n",
        "pd.crosstab(df_init.Personal_status_sex, df_init.Target).apply(lambda r: r/r.sum(), axis=1)"
      ],
      "metadata": {
        "colab": {
          "base_uri": "https://localhost:8080/",
          "height": 206
        },
        "id": "INIytKo2jITB",
        "outputId": "5019a2fa-df11-40bd-a903-7dff5b6b73cf"
      },
      "execution_count": 8,
      "outputs": [
        {
          "output_type": "execute_result",
          "data": {
            "text/plain": [
              "Target                      1         2\n",
              "Personal_status_sex                    \n",
              "A91                  0.600000  0.400000\n",
              "A92                  0.648387  0.351613\n",
              "A93                  0.733577  0.266423\n",
              "A94                  0.728261  0.271739"
            ],
            "text/html": [
              "\n",
              "  <div id=\"df-f0fd4bae-13fd-4af4-9fc1-02135102c2de\">\n",
              "    <div class=\"colab-df-container\">\n",
              "      <div>\n",
              "<style scoped>\n",
              "    .dataframe tbody tr th:only-of-type {\n",
              "        vertical-align: middle;\n",
              "    }\n",
              "\n",
              "    .dataframe tbody tr th {\n",
              "        vertical-align: top;\n",
              "    }\n",
              "\n",
              "    .dataframe thead th {\n",
              "        text-align: right;\n",
              "    }\n",
              "</style>\n",
              "<table border=\"1\" class=\"dataframe\">\n",
              "  <thead>\n",
              "    <tr style=\"text-align: right;\">\n",
              "      <th>Target</th>\n",
              "      <th>1</th>\n",
              "      <th>2</th>\n",
              "    </tr>\n",
              "    <tr>\n",
              "      <th>Personal_status_sex</th>\n",
              "      <th></th>\n",
              "      <th></th>\n",
              "    </tr>\n",
              "  </thead>\n",
              "  <tbody>\n",
              "    <tr>\n",
              "      <th>A91</th>\n",
              "      <td>0.600000</td>\n",
              "      <td>0.400000</td>\n",
              "    </tr>\n",
              "    <tr>\n",
              "      <th>A92</th>\n",
              "      <td>0.648387</td>\n",
              "      <td>0.351613</td>\n",
              "    </tr>\n",
              "    <tr>\n",
              "      <th>A93</th>\n",
              "      <td>0.733577</td>\n",
              "      <td>0.266423</td>\n",
              "    </tr>\n",
              "    <tr>\n",
              "      <th>A94</th>\n",
              "      <td>0.728261</td>\n",
              "      <td>0.271739</td>\n",
              "    </tr>\n",
              "  </tbody>\n",
              "</table>\n",
              "</div>\n",
              "      <button class=\"colab-df-convert\" onclick=\"convertToInteractive('df-f0fd4bae-13fd-4af4-9fc1-02135102c2de')\"\n",
              "              title=\"Convert this dataframe to an interactive table.\"\n",
              "              style=\"display:none;\">\n",
              "        \n",
              "  <svg xmlns=\"http://www.w3.org/2000/svg\" height=\"24px\"viewBox=\"0 0 24 24\"\n",
              "       width=\"24px\">\n",
              "    <path d=\"M0 0h24v24H0V0z\" fill=\"none\"/>\n",
              "    <path d=\"M18.56 5.44l.94 2.06.94-2.06 2.06-.94-2.06-.94-.94-2.06-.94 2.06-2.06.94zm-11 1L8.5 8.5l.94-2.06 2.06-.94-2.06-.94L8.5 2.5l-.94 2.06-2.06.94zm10 10l.94 2.06.94-2.06 2.06-.94-2.06-.94-.94-2.06-.94 2.06-2.06.94z\"/><path d=\"M17.41 7.96l-1.37-1.37c-.4-.4-.92-.59-1.43-.59-.52 0-1.04.2-1.43.59L10.3 9.45l-7.72 7.72c-.78.78-.78 2.05 0 2.83L4 21.41c.39.39.9.59 1.41.59.51 0 1.02-.2 1.41-.59l7.78-7.78 2.81-2.81c.8-.78.8-2.07 0-2.86zM5.41 20L4 18.59l7.72-7.72 1.47 1.35L5.41 20z\"/>\n",
              "  </svg>\n",
              "      </button>\n",
              "      \n",
              "  <style>\n",
              "    .colab-df-container {\n",
              "      display:flex;\n",
              "      flex-wrap:wrap;\n",
              "      gap: 12px;\n",
              "    }\n",
              "\n",
              "    .colab-df-convert {\n",
              "      background-color: #E8F0FE;\n",
              "      border: none;\n",
              "      border-radius: 50%;\n",
              "      cursor: pointer;\n",
              "      display: none;\n",
              "      fill: #1967D2;\n",
              "      height: 32px;\n",
              "      padding: 0 0 0 0;\n",
              "      width: 32px;\n",
              "    }\n",
              "\n",
              "    .colab-df-convert:hover {\n",
              "      background-color: #E2EBFA;\n",
              "      box-shadow: 0px 1px 2px rgba(60, 64, 67, 0.3), 0px 1px 3px 1px rgba(60, 64, 67, 0.15);\n",
              "      fill: #174EA6;\n",
              "    }\n",
              "\n",
              "    [theme=dark] .colab-df-convert {\n",
              "      background-color: #3B4455;\n",
              "      fill: #D2E3FC;\n",
              "    }\n",
              "\n",
              "    [theme=dark] .colab-df-convert:hover {\n",
              "      background-color: #434B5C;\n",
              "      box-shadow: 0px 1px 3px 1px rgba(0, 0, 0, 0.15);\n",
              "      filter: drop-shadow(0px 1px 2px rgba(0, 0, 0, 0.3));\n",
              "      fill: #FFFFFF;\n",
              "    }\n",
              "  </style>\n",
              "\n",
              "      <script>\n",
              "        const buttonEl =\n",
              "          document.querySelector('#df-f0fd4bae-13fd-4af4-9fc1-02135102c2de button.colab-df-convert');\n",
              "        buttonEl.style.display =\n",
              "          google.colab.kernel.accessAllowed ? 'block' : 'none';\n",
              "\n",
              "        async function convertToInteractive(key) {\n",
              "          const element = document.querySelector('#df-f0fd4bae-13fd-4af4-9fc1-02135102c2de');\n",
              "          const dataTable =\n",
              "            await google.colab.kernel.invokeFunction('convertToInteractive',\n",
              "                                                     [key], {});\n",
              "          if (!dataTable) return;\n",
              "\n",
              "          const docLinkHtml = 'Like what you see? Visit the ' +\n",
              "            '<a target=\"_blank\" href=https://colab.research.google.com/notebooks/data_table.ipynb>data table notebook</a>'\n",
              "            + ' to learn more about interactive tables.';\n",
              "          element.innerHTML = '';\n",
              "          dataTable['output_type'] = 'display_data';\n",
              "          await google.colab.output.renderOutput(dataTable, element);\n",
              "          const docLink = document.createElement('div');\n",
              "          docLink.innerHTML = docLinkHtml;\n",
              "          element.appendChild(docLink);\n",
              "        }\n",
              "      </script>\n",
              "    </div>\n",
              "  </div>\n",
              "  "
            ]
          },
          "metadata": {},
          "execution_count": 8
        }
      ]
    },
    {
      "cell_type": "code",
      "source": [
        "#A91 -> Divorced men\n",
        "#A92 -> Women (married or divorced)\n",
        "df_init.hist(column='Credit_amount', by='Personal_status_sex');\n",
        "#plt.ylim(ymin=0,ymax=150)"
      ],
      "metadata": {
        "colab": {
          "base_uri": "https://localhost:8080/",
          "height": 433
        },
        "id": "t17GTbhZM61e",
        "outputId": "89dabe7e-1bac-455f-9435-8f026ceb0b1b"
      },
      "execution_count": 69,
      "outputs": [
        {
          "output_type": "display_data",
          "data": {
            "text/plain": [
              "<Figure size 576x432 with 4 Axes>"
            ],
            "image/png": "[encoded data removed]"
          },
          "metadata": {}
        }
      ]
    },
    {
      "cell_type": "code",
      "source": [
        "df_init.hist(column='Age', by='Personal_status_sex');"
      ],
      "metadata": {
        "colab": {
          "base_uri": "https://localhost:8080/",
          "height": 404
        },
        "id": "FhW0rnQLq5jp",
        "outputId": "3dee9b88-a460-49c6-e329-b7890cfaebbc"
      },
      "execution_count": 70,
      "outputs": [
        {
          "output_type": "display_data",
          "data": {
            "text/plain": [
              "<Figure size 576x432 with 4 Axes>"
            ],
            "image/png": "[encoded data removed]"
          },
          "metadata": {}
        }
      ]
    },
    {
      "cell_type": "markdown",
      "source": [
        "## Preparing the Data\n"
      ],
      "metadata": {
        "id": "b5yRYUL7nVkg"
      }
    },
    {
      "cell_type": "code",
      "source": [
        "# Getting the names of the columns that are not numerical (as we already before)\n",
        "cat_cols = [col for col in df_init.columns if df_init[col].dtypes == 'O']\n",
        "cat_cols"
      ],
      "metadata": {
        "id": "cfygYLSK6pTH",
        "colab": {
          "base_uri": "https://localhost:8080/"
        },
        "outputId": "67646bd0-1193-4e5f-bdb3-7319f6c0e761"
      },
      "execution_count": 103,
      "outputs": [
        {
          "output_type": "execute_result",
          "data": {
            "text/plain": [
              "['Checking_account',\n",
              " 'Credit_history',\n",
              " 'Purpose',\n",
              " 'Savings',\n",
              " 'Present_employment_since',\n",
              " 'Personal_status_sex',\n",
              " 'Other_debtors',\n",
              " 'Property',\n",
              " 'Other_installment_plans',\n",
              " 'Housing',\n",
              " 'Job',\n",
              " 'Telephone',\n",
              " 'foreign_worker']"
            ]
          },
          "metadata": {},
          "execution_count": 103
        }
      ]
    },
    {
      "cell_type": "code",
      "source": [
        "# Transforming the columns into numerical ones, using LabelEncoder.\n",
        "df_num = df_init.copy()\n",
        "from sklearn.preprocessing import LabelEncoder\n",
        "le = LabelEncoder()\n",
        "# Creating a dataframe which is completely numerical df_num\n",
        "for i in cat_cols:\n",
        "  df_num[i] = le.fit_transform(df_num[i])"
      ],
      "metadata": {
        "id": "vwj9ze5QB7uL"
      },
      "execution_count": 104,
      "outputs": []
    },
    {
      "cell_type": "code",
      "source": [
        "df_num.head(10)"
      ],
      "metadata": {
        "colab": {
          "base_uri": "https://localhost:8080/",
          "height": 456
        },
        "id": "xe-HnSXjPla5",
        "outputId": "ff3a219c-2c23-4ff0-b417-addeda764d7b"
      },
      "execution_count": 105,
      "outputs": [
        {
          "output_type": "execute_result",
          "data": {
            "text/plain": [
              "   Checking_account  Duration_months  Credit_history  Purpose  Credit_amount  \\\n",
              "0                 0                6               4        4           1169   \n",
              "1                 1               48               2        4           5951   \n",
              "2                 3               12               4        7           2096   \n",
              "3                 0               42               2        3           7882   \n",
              "4                 0               24               3        0           4870   \n",
              "5                 3               36               2        7           9055   \n",
              "6                 3               24               2        3           2835   \n",
              "7                 1               36               2        1           6948   \n",
              "8                 3               12               2        4           3059   \n",
              "9                 1               30               4        0           5234   \n",
              "\n",
              "   Savings  Present_employment_since  Installment_rate  Personal_status_sex  \\\n",
              "0        4                         4                 4                    2   \n",
              "1        0                         2                 2                    1   \n",
              "2        0                         3                 2                    2   \n",
              "3        0                         3                 2                    2   \n",
              "4        0                         2                 3                    2   \n",
              "5        4                         2                 2                    2   \n",
              "6        2                         4                 3                    2   \n",
              "7        0                         2                 2                    2   \n",
              "8        3                         3                 2                    0   \n",
              "9        0                         0                 4                    3   \n",
              "\n",
              "   Other_debtors  ...  Property  Age  Other_installment_plans  Housing  \\\n",
              "0              0  ...         0   67                        2        1   \n",
              "1              0  ...         0   22                        2        1   \n",
              "2              0  ...         0   49                        2        1   \n",
              "3              2  ...         1   45                        2        2   \n",
              "4              0  ...         3   53                        2        2   \n",
              "5              0  ...         3   35                        2        2   \n",
              "6              0  ...         1   53                        2        1   \n",
              "7              0  ...         2   35                        2        0   \n",
              "8              0  ...         0   61                        2        1   \n",
              "9              0  ...         2   28                        2        1   \n",
              "\n",
              "   existing_credits  Job  People_provide_maintenance_for  Telephone  \\\n",
              "0                 2    2                               1          1   \n",
              "1                 1    2                               1          0   \n",
              "2                 1    1                               2          0   \n",
              "3                 1    2                               2          0   \n",
              "4                 2    2                               2          0   \n",
              "5                 1    1                               2          1   \n",
              "6                 1    2                               1          0   \n",
              "7                 1    3                               1          1   \n",
              "8                 1    1                               1          0   \n",
              "9                 2    3                               1          0   \n",
              "\n",
              "   foreign_worker  Target  \n",
              "0               0       1  \n",
              "1               0       2  \n",
              "2               0       1  \n",
              "3               0       1  \n",
              "4               0       2  \n",
              "5               0       1  \n",
              "6               0       1  \n",
              "7               0       1  \n",
              "8               0       1  \n",
              "9               0       2  \n",
              "\n",
              "[10 rows x 21 columns]"
            ],
            "text/html": [
              "\n",
              "  <div id=\"df-5ff2830a-2030-4512-8672-d0d71c57e29a\">\n",
              "    <div class=\"colab-df-container\">\n",
              "      <div>\n",
              "<style scoped>\n",
              "    .dataframe tbody tr th:only-of-type {\n",
              "        vertical-align: middle;\n",
              "    }\n",
              "\n",
              "    .dataframe tbody tr th {\n",
              "        vertical-align: top;\n",
              "    }\n",
              "\n",
              "    .dataframe thead th {\n",
              "        text-align: right;\n",
              "    }\n",
              "</style>\n",
              "<table border=\"1\" class=\"dataframe\">\n",
              "  <thead>\n",
              "    <tr style=\"text-align: right;\">\n",
              "      <th></th>\n",
              "      <th>Checking_account</th>\n",
              "      <th>Duration_months</th>\n",
              "      <th>Credit_history</th>\n",
              "      <th>Purpose</th>\n",
              "      <th>Credit_amount</th>\n",
              "      <th>Savings</th>\n",
              "      <th>Present_employment_since</th>\n",
              "      <th>Installment_rate</th>\n",
              "      <th>Personal_status_sex</th>\n",
              "      <th>Other_debtors</th>\n",
              "      <th>...</th>\n",
              "      <th>Property</th>\n",
              "      <th>Age</th>\n",
              "      <th>Other_installment_plans</th>\n",
              "      <th>Housing</th>\n",
              "      <th>existing_credits</th>\n",
              "      <th>Job</th>\n",
              "      <th>People_provide_maintenance_for</th>\n",
              "      <th>Telephone</th>\n",
              "      <th>foreign_worker</th>\n",
              "      <th>Target</th>\n",
              "    </tr>\n",
              "  </thead>\n",
              "  <tbody>\n",
              "    <tr>\n",
              "      <th>0</th>\n",
              "      <td>0</td>\n",
              "      <td>6</td>\n",
              "      <td>4</td>\n",
              "      <td>4</td>\n",
              "      <td>1169</td>\n",
              "      <td>4</td>\n",
              "      <td>4</td>\n",
              "      <td>4</td>\n",
              "      <td>2</td>\n",
              "      <td>0</td>\n",
              "      <td>...</td>\n",
              "      <td>0</td>\n",
              "      <td>67</td>\n",
              "      <td>2</td>\n",
              "      <td>1</td>\n",
              "      <td>2</td>\n",
              "      <td>2</td>\n",
              "      <td>1</td>\n",
              "      <td>1</td>\n",
              "      <td>0</td>\n",
              "      <td>1</td>\n",
              "    </tr>\n",
              "    <tr>\n",
              "      <th>1</th>\n",
              "      <td>1</td>\n",
              "      <td>48</td>\n",
              "      <td>2</td>\n",
              "      <td>4</td>\n",
              "      <td>5951</td>\n",
              "      <td>0</td>\n",
              "      <td>2</td>\n",
              "      <td>2</td>\n",
              "      <td>1</td>\n",
              "      <td>0</td>\n",
              "      <td>...</td>\n",
              "      <td>0</td>\n",
              "      <td>22</td>\n",
              "      <td>2</td>\n",
              "      <td>1</td>\n",
              "      <td>1</td>\n",
              "      <td>2</td>\n",
              "      <td>1</td>\n",
              "      <td>0</td>\n",
              "      <td>0</td>\n",
              "      <td>2</td>\n",
              "    </tr>\n",
              "    <tr>\n",
              "      <th>2</th>\n",
              "      <td>3</td>\n",
              "      <td>12</td>\n",
              "      <td>4</td>\n",
              "      <td>7</td>\n",
              "      <td>2096</td>\n",
              "      <td>0</td>\n",
              "      <td>3</td>\n",
              "      <td>2</td>\n",
              "      <td>2</td>\n",
              "      <td>0</td>\n",
              "      <td>...</td>\n",
              "      <td>0</td>\n",
              "      <td>49</td>\n",
              "      <td>2</td>\n",
              "      <td>1</td>\n",
              "      <td>1</td>\n",
              "      <td>1</td>\n",
              "      <td>2</td>\n",
              "      <td>0</td>\n",
              "      <td>0</td>\n",
              "      <td>1</td>\n",
              "    </tr>\n",
              "    <tr>\n",
              "      <th>3</th>\n",
              "      <td>0</td>\n",
              "      <td>42</td>\n",
              "      <td>2</td>\n",
              "      <td>3</td>\n",
              "      <td>7882</td>\n",
              "      <td>0</td>\n",
              "      <td>3</td>\n",
              "      <td>2</td>\n",
              "      <td>2</td>\n",
              "      <td>2</td>\n",
              "      <td>...</td>\n",
              "      <td>1</td>\n",
              "      <td>45</td>\n",
              "      <td>2</td>\n",
              "      <td>2</td>\n",
              "      <td>1</td>\n",
              "      <td>2</td>\n",
              "      <td>2</td>\n",
              "      <td>0</td>\n",
              "      <td>0</td>\n",
              "      <td>1</td>\n",
              "    </tr>\n",
              "    <tr>\n",
              "      <th>4</th>\n",
              "      <td>0</td>\n",
              "      <td>24</td>\n",
              "      <td>3</td>\n",
              "      <td>0</td>\n",
              "      <td>4870</td>\n",
              "      <td>0</td>\n",
              "      <td>2</td>\n",
              "      <td>3</td>\n",
              "      <td>2</td>\n",
              "      <td>0</td>\n",
              "      <td>...</td>\n",
              "      <td>3</td>\n",
              "      <td>53</td>\n",
              "      <td>2</td>\n",
              "      <td>2</td>\n",
              "      <td>2</td>\n",
              "      <td>2</td>\n",
              "      <td>2</td>\n",
              "      <td>0</td>\n",
              "      <td>0</td>\n",
              "      <td>2</td>\n",
              "    </tr>\n",
              "    <tr>\n",
              "      <th>5</th>\n",
              "      <td>3</td>\n",
              "      <td>36</td>\n",
              "      <td>2</td>\n",
              "      <td>7</td>\n",
              "      <td>9055</td>\n",
              "      <td>4</td>\n",
              "      <td>2</td>\n",
              "      <td>2</td>\n",
              "      <td>2</td>\n",
              "      <td>0</td>\n",
              "      <td>...</td>\n",
              "      <td>3</td>\n",
              "      <td>35</td>\n",
              "      <td>2</td>\n",
              "      <td>2</td>\n",
              "      <td>1</td>\n",
              "      <td>1</td>\n",
              "      <td>2</td>\n",
              "      <td>1</td>\n",
              "      <td>0</td>\n",
              "      <td>1</td>\n",
              "    </tr>\n",
              "    <tr>\n",
              "      <th>6</th>\n",
              "      <td>3</td>\n",
              "      <td>24</td>\n",
              "      <td>2</td>\n",
              "      <td>3</td>\n",
              "      <td>2835</td>\n",
              "      <td>2</td>\n",
              "      <td>4</td>\n",
              "      <td>3</td>\n",
              "      <td>2</td>\n",
              "      <td>0</td>\n",
              "      <td>...</td>\n",
              "      <td>1</td>\n",
              "      <td>53</td>\n",
              "      <td>2</td>\n",
              "      <td>1</td>\n",
              "      <td>1</td>\n",
              "      <td>2</td>\n",
              "      <td>1</td>\n",
              "      <td>0</td>\n",
              "      <td>0</td>\n",
              "      <td>1</td>\n",
              "    </tr>\n",
              "    <tr>\n",
              "      <th>7</th>\n",
              "      <td>1</td>\n",
              "      <td>36</td>\n",
              "      <td>2</td>\n",
              "      <td>1</td>\n",
              "      <td>6948</td>\n",
              "      <td>0</td>\n",
              "      <td>2</td>\n",
              "      <td>2</td>\n",
              "      <td>2</td>\n",
              "      <td>0</td>\n",
              "      <td>...</td>\n",
              "      <td>2</td>\n",
              "      <td>35</td>\n",
              "      <td>2</td>\n",
              "      <td>0</td>\n",
              "      <td>1</td>\n",
              "      <td>3</td>\n",
              "      <td>1</td>\n",
              "      <td>1</td>\n",
              "      <td>0</td>\n",
              "      <td>1</td>\n",
              "    </tr>\n",
              "    <tr>\n",
              "      <th>8</th>\n",
              "      <td>3</td>\n",
              "      <td>12</td>\n",
              "      <td>2</td>\n",
              "      <td>4</td>\n",
              "      <td>3059</td>\n",
              "      <td>3</td>\n",
              "      <td>3</td>\n",
              "      <td>2</td>\n",
              "      <td>0</td>\n",
              "      <td>0</td>\n",
              "      <td>...</td>\n",
              "      <td>0</td>\n",
              "      <td>61</td>\n",
              "      <td>2</td>\n",
              "      <td>1</td>\n",
              "      <td>1</td>\n",
              "      <td>1</td>\n",
              "      <td>1</td>\n",
              "      <td>0</td>\n",
              "      <td>0</td>\n",
              "      <td>1</td>\n",
              "    </tr>\n",
              "    <tr>\n",
              "      <th>9</th>\n",
              "      <td>1</td>\n",
              "      <td>30</td>\n",
              "      <td>4</td>\n",
              "      <td>0</td>\n",
              "      <td>5234</td>\n",
              "      <td>0</td>\n",
              "      <td>0</td>\n",
              "      <td>4</td>\n",
              "      <td>3</td>\n",
              "      <td>0</td>\n",
              "      <td>...</td>\n",
              "      <td>2</td>\n",
              "      <td>28</td>\n",
              "      <td>2</td>\n",
              "      <td>1</td>\n",
              "      <td>2</td>\n",
              "      <td>3</td>\n",
              "      <td>1</td>\n",
              "      <td>0</td>\n",
              "      <td>0</td>\n",
              "      <td>2</td>\n",
              "    </tr>\n",
              "  </tbody>\n",
              "</table>\n",
              "<p>10 rows × 21 columns</p>\n",
              "</div>\n",
              "      <button class=\"colab-df-convert\" onclick=\"convertToInteractive('df-5ff2830a-2030-4512-8672-d0d71c57e29a')\"\n",
              "              title=\"Convert this dataframe to an interactive table.\"\n",
              "              style=\"display:none;\">\n",
              "        \n",
              "  <svg xmlns=\"http://www.w3.org/2000/svg\" height=\"24px\"viewBox=\"0 0 24 24\"\n",
              "       width=\"24px\">\n",
              "    <path d=\"M0 0h24v24H0V0z\" fill=\"none\"/>\n",
              "    <path d=\"M18.56 5.44l.94 2.06.94-2.06 2.06-.94-2.06-.94-.94-2.06-.94 2.06-2.06.94zm-11 1L8.5 8.5l.94-2.06 2.06-.94-2.06-.94L8.5 2.5l-.94 2.06-2.06.94zm10 10l.94 2.06.94-2.06 2.06-.94-2.06-.94-.94-2.06-.94 2.06-2.06.94z\"/><path d=\"M17.41 7.96l-1.37-1.37c-.4-.4-.92-.59-1.43-.59-.52 0-1.04.2-1.43.59L10.3 9.45l-7.72 7.72c-.78.78-.78 2.05 0 2.83L4 21.41c.39.39.9.59 1.41.59.51 0 1.02-.2 1.41-.59l7.78-7.78 2.81-2.81c.8-.78.8-2.07 0-2.86zM5.41 20L4 18.59l7.72-7.72 1.47 1.35L5.41 20z\"/>\n",
              "  </svg>\n",
              "      </button>\n",
              "      \n",
              "  <style>\n",
              "    .colab-df-container {\n",
              "      display:flex;\n",
              "      flex-wrap:wrap;\n",
              "      gap: 12px;\n",
              "    }\n",
              "\n",
              "    .colab-df-convert {\n",
              "      background-color: #E8F0FE;\n",
              "      border: none;\n",
              "      border-radius: 50%;\n",
              "      cursor: pointer;\n",
              "      display: none;\n",
              "      fill: #1967D2;\n",
              "      height: 32px;\n",
              "      padding: 0 0 0 0;\n",
              "      width: 32px;\n",
              "    }\n",
              "\n",
              "    .colab-df-convert:hover {\n",
              "      background-color: #E2EBFA;\n",
              "      box-shadow: 0px 1px 2px rgba(60, 64, 67, 0.3), 0px 1px 3px 1px rgba(60, 64, 67, 0.15);\n",
              "      fill: #174EA6;\n",
              "    }\n",
              "\n",
              "    [theme=dark] .colab-df-convert {\n",
              "      background-color: #3B4455;\n",
              "      fill: #D2E3FC;\n",
              "    }\n",
              "\n",
              "    [theme=dark] .colab-df-convert:hover {\n",
              "      background-color: #434B5C;\n",
              "      box-shadow: 0px 1px 3px 1px rgba(0, 0, 0, 0.15);\n",
              "      filter: drop-shadow(0px 1px 2px rgba(0, 0, 0, 0.3));\n",
              "      fill: #FFFFFF;\n",
              "    }\n",
              "  </style>\n",
              "\n",
              "      <script>\n",
              "        const buttonEl =\n",
              "          document.querySelector('#df-5ff2830a-2030-4512-8672-d0d71c57e29a button.colab-df-convert');\n",
              "        buttonEl.style.display =\n",
              "          google.colab.kernel.accessAllowed ? 'block' : 'none';\n",
              "\n",
              "        async function convertToInteractive(key) {\n",
              "          const element = document.querySelector('#df-5ff2830a-2030-4512-8672-d0d71c57e29a');\n",
              "          const dataTable =\n",
              "            await google.colab.kernel.invokeFunction('convertToInteractive',\n",
              "                                                     [key], {});\n",
              "          if (!dataTable) return;\n",
              "\n",
              "          const docLinkHtml = 'Like what you see? Visit the ' +\n",
              "            '<a target=\"_blank\" href=https://colab.research.google.com/notebooks/data_table.ipynb>data table notebook</a>'\n",
              "            + ' to learn more about interactive tables.';\n",
              "          element.innerHTML = '';\n",
              "          dataTable['output_type'] = 'display_data';\n",
              "          await google.colab.output.renderOutput(dataTable, element);\n",
              "          const docLink = document.createElement('div');\n",
              "          docLink.innerHTML = docLinkHtml;\n",
              "          element.appendChild(docLink);\n",
              "        }\n",
              "      </script>\n",
              "    </div>\n",
              "  </div>\n",
              "  "
            ]
          },
          "metadata": {},
          "execution_count": 105
        }
      ]
    },
    {
      "cell_type": "markdown",
      "source": [
        "After the numerical categorization, we have:\\\n",
        "**Personal status and sex** \\\n",
        "A91 : male : divorced/separated - **\"0\"**\\\n",
        "A92 : female : divorced/separated/married - **\"1\"**\\\n",
        "A93 : male : single - **\"2\"**\\\n",
        "A94 : male : married/widowed -  **\"3\"**\\\n",
        "A95 : female : single - none "
      ],
      "metadata": {
        "id": "IlIVh3BMZxUU"
      }
    },
    {
      "cell_type": "code",
      "source": [
        "# Spliting the sample into train and test\n",
        "from sklearn.model_selection import train_test_split\n",
        "y=df_num.Target\n",
        "X=df_num.drop(['Target'], axis=1)\n",
        "X_train, X_test, y_train, y_test = train_test_split(X, y, test_size=0.25, random_state=42)"
      ],
      "metadata": {
        "id": "8TGzv8INtsi8"
      },
      "execution_count": 106,
      "outputs": []
    },
    {
      "cell_type": "code",
      "source": [
        "X_train.shape"
      ],
      "metadata": {
        "colab": {
          "base_uri": "https://localhost:8080/"
        },
        "id": "2zhTzwdsPtC_",
        "outputId": "7637668c-5733-4c54-b6dd-a20e3cdbe56a"
      },
      "execution_count": 107,
      "outputs": [
        {
          "output_type": "execute_result",
          "data": {
            "text/plain": [
              "(750, 20)"
            ]
          },
          "metadata": {},
          "execution_count": 107
        }
      ]
    },
    {
      "cell_type": "code",
      "source": [
        "# Checking the balance between train and test\n",
        "y_test.value_counts()/y_train.value_counts()"
      ],
      "metadata": {
        "colab": {
          "base_uri": "https://localhost:8080/"
        },
        "id": "Gnrzq-OtPx82",
        "outputId": "643bb3ea-caf2-4997-9cf5-ce138dfbc323"
      },
      "execution_count": 108,
      "outputs": [
        {
          "output_type": "execute_result",
          "data": {
            "text/plain": [
              "1    0.340996\n",
              "2    0.315789\n",
              "Name: Target, dtype: float64"
            ]
          },
          "metadata": {},
          "execution_count": 108
        }
      ]
    },
    {
      "cell_type": "markdown",
      "source": [
        "## Functions for Metrics\n",
        "**show_results(y_test, y_preds):**\\\n",
        "Since a classifier model is going to be used, it desirable to have some organized metrics, as MCC score, the classification report and confusion matrix. \\\n",
        "**PPV(group)**:\\\n",
        "Another metric we want to verify is the PPV (Positive Predictive Value or Precision) for both groups in our dataset: the reference and the privileged ones. "
      ],
      "metadata": {
        "id": "IhTLyo9zY1x-"
      }
    },
    {
      "cell_type": "code",
      "source": [
        "from sklearn import tree\n",
        "from sklearn.metrics import classification_report, matthews_corrcoef, confusion_matrix\n",
        "import xgboost as xgb\n",
        "import seaborn as sns\n",
        "%matplotlib inline\n",
        "sns.set(style='white', context='notebook', rc={'figure.figsize':(8,6)})"
      ],
      "metadata": {
        "id": "CGeI36pJOYml"
      },
      "execution_count": 109,
      "outputs": []
    },
    {
      "cell_type": "code",
      "source": [
        "# This is a function that returns some metrics for the classifier.\n",
        "def show_results(y_test, y_preds):\n",
        "  \"\"\" This function:\n",
        "  - prints the MCC score\n",
        "  - prints a classification report \n",
        "  - prints a heatmap colored confusion matrix \n",
        "  \"\"\"\n",
        "  print(f'mcc score: {matthews_corrcoef(y_test, preds)}')\n",
        "  print(classification_report(y_test, preds))\n",
        "\n",
        "  conf_mat = confusion_matrix(y_test, y_preds) \n",
        "  label_names = y_test.astype('category').cat.categories\n",
        "  df_cm = pd.DataFrame(conf_mat, label_names, label_names) \n",
        "\n",
        "  sns.set(font_scale=1.4) \n",
        "  sns.heatmap(df_cm, annot=True, fmt='d', cmap=\"GnBu\")"
      ],
      "metadata": {
        "id": "0c3GOOAiOm_k"
      },
      "execution_count": 110,
      "outputs": []
    },
    {
      "cell_type": "code",
      "source": [
        "# This is a function that calculates the PPV Fairness metric\n",
        "# PPV = TP/(Predicted Positives)\n",
        "# We can use group = 1 for women, since the categorical value for woman is 1 and group = 0 for men, \n",
        "# which are all the other categories.\n",
        "def PPV(group):\n",
        "    TP = 0\n",
        "    Positives = 0\n",
        "    y_test1 = y_test.reset_index(drop=True)\n",
        "    X_test1 = X_test.reset_index(drop=True)\n",
        "    \n",
        "    for i in range(len(preds)): \n",
        "      if group==1:\n",
        "        if y_test1[i]==preds[i]==X_test1['Personal_status_sex'].iloc[i]==1:\n",
        "          TP += 1\n",
        "        if preds[i]==X_test1['Personal_status_sex'].iloc[i]==1:\n",
        "          Positives += 1\n",
        "      \n",
        "      if group==0:\n",
        "        if y_test1[i]==preds[i]==1 and X_test1['Personal_status_sex'].iloc[i]!=1:\n",
        "          TP += 1\n",
        "        if preds[i]==1 and X_test1['Personal_status_sex'].iloc[i]!=1:\n",
        "          Positives += 1\n",
        "\n",
        "    PPV = TP/Positives  \n",
        "\n",
        "    return(PPV)\n"
      ],
      "metadata": {
        "id": "SpJ4HQkm4wNH"
      },
      "execution_count": 111,
      "outputs": []
    },
    {
      "cell_type": "markdown",
      "source": [
        "## Training the Model - XGBoost"
      ],
      "metadata": {
        "id": "Mxy4Ioxlanfo"
      }
    },
    {
      "cell_type": "code",
      "source": [
        "# Model - XGBoost - First we need to prepare the data for XGBoost:\n",
        "xgboost_train_data = xgb.DMatrix(X_train, label=y_train.astype('category').cat.codes)"
      ],
      "metadata": {
        "id": "3szAFCb4tsUb"
      },
      "execution_count": 112,
      "outputs": []
    },
    {
      "cell_type": "code",
      "source": [
        "# XGBClassifier - XGB Classifier - a boosted ensemble of classifiers\n",
        "reg = xgb.XGBClassifier()\n",
        "xgb_clf = reg.fit(X_train, y_train)\n",
        "\n",
        "preds = xgb_clf.predict(X_test)\n",
        "show_results(y_test, preds) "
      ],
      "metadata": {
        "colab": {
          "base_uri": "https://localhost:8080/",
          "height": 559
        },
        "id": "YcCEU00WtsNM",
        "outputId": "64e0b795-4596-4162-cce9-ab9a13d86a78"
      },
      "execution_count": 113,
      "outputs": [
        {
          "output_type": "stream",
          "name": "stdout",
          "text": [
            "mcc score: 0.42333033065612286\n",
            "              precision    recall  f1-score   support\n",
            "\n",
            "           1       0.81      0.90      0.85       178\n",
            "           2       0.67      0.47      0.55        72\n",
            "\n",
            "    accuracy                           0.78       250\n",
            "   macro avg       0.74      0.69      0.70       250\n",
            "weighted avg       0.77      0.78      0.77       250\n",
            "\n"
          ]
        },
        {
          "output_type": "display_data",
          "data": {
            "text/plain": [
              "<Figure size 576x432 with 2 Axes>"
            ],
            "image/png": "[encoded data removed]"
          },
          "metadata": {}
        }
      ]
    },
    {
      "cell_type": "code",
      "source": [
        "#Fairness Metric PPV (precision) for women \n",
        "PPV(1)"
      ],
      "metadata": {
        "colab": {
          "base_uri": "https://localhost:8080/"
        },
        "id": "lPXXlZlatr9l",
        "outputId": "97525219-bda5-44e8-83ac-51bdeb99e41c"
      },
      "execution_count": 114,
      "outputs": [
        {
          "output_type": "execute_result",
          "data": {
            "text/plain": [
              "0.7868852459016393"
            ]
          },
          "metadata": {},
          "execution_count": 114
        }
      ]
    },
    {
      "cell_type": "code",
      "source": [
        "#Fairness Metric PPV (precision) for men \n",
        "PPV(0)"
      ],
      "metadata": {
        "colab": {
          "base_uri": "https://localhost:8080/"
        },
        "id": "aLxrEN71vSqB",
        "outputId": "6dd80d5b-65d5-49e9-badf-dd7bef1c7584"
      },
      "execution_count": 115,
      "outputs": [
        {
          "output_type": "execute_result",
          "data": {
            "text/plain": [
              "0.8188405797101449"
            ]
          },
          "metadata": {},
          "execution_count": 115
        }
      ]
    },
    {
      "cell_type": "markdown",
      "source": [
        "Here we can see the difference between the positive precisions of the model for women (around 78%) and men (around 82%).\\\n",
        "Below, we will see that Aequitas can be used to calculate several fairness metrics without having to calculate each of them. "
      ],
      "metadata": {
        "id": "eIGFEqhaQvvI"
      }
    },
    {
      "cell_type": "markdown",
      "source": [
        "## Aequitas Fairness Metrics\n",
        "\n"
      ],
      "metadata": {
        "id": "UpK3uSQOcU8l"
      }
    },
    {
      "cell_type": "markdown",
      "source": [
        "### Preparing the data for Aequitas"
      ],
      "metadata": {
        "id": "wOK22484d25Z"
      }
    },
    {
      "cell_type": "markdown",
      "source": [
        "To get started with **Aequitas**, preprocessing input data is needed. Input data has slightly different requirements depending on whether you are using Aequitas via the *webapp*, *CLI* or *Python package*. \n",
        "\n",
        "If you plan to bin or discretize continuous features manually, note that get_crosstabs() expects attribute columns to be of type '**string**,' so don't forget to recast any 'categorical' type columns!"
      ],
      "metadata": {
        "id": "XRAcjuSxBEap"
      }
    },
    {
      "cell_type": "markdown",
      "source": [
        "![image.png](data:image/png;base64,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)"
      ],
      "metadata": {
        "id": "ZnbvQF8ACJj_"
      }
    },
    {
      "cell_type": "code",
      "source": [
        "# Aequitas Fairness Metrics \n",
        "# First we need to prepare the table with preds, y_test and X_test\n",
        "df_fair = X_test.copy()\n",
        "df_fair['score'] = preds\n",
        "df_fair['label_value'] = y_test\n",
        "df_fair = df_fair[['score','label_value','Checking_account', 'Duration_months', 'Credit_history', \n",
        "                 'Purpose', 'Credit_amount', 'Savings', 'Present_employment_since', 'Installment_rate', \n",
        "                 'Personal_status_sex', 'Other_debtors','Present_residence_since','Property', 'Age', \n",
        "                 'Other_installment_plans','Housing','existing_credits','Job','People_provide_maintenance_for',\n",
        "                 'Telephone','foreign_worker']]\n",
        "df_fair.score.replace(2,0, inplace=True) # replace 2 by 0(zero)\n",
        "df_fair.label_value.replace(2,0, inplace=True) # replace 2 by 0(zero)\n",
        "# since the female group is \"1\", everybody else is set to \"0\" \n",
        "df_fair.Personal_status_sex.replace(2,0, inplace=True) \n",
        "df_fair.Personal_status_sex.replace(3,0, inplace=True) "
      ],
      "metadata": {
        "id": "nbN7DKKKGTP8"
      },
      "execution_count": 116,
      "outputs": []
    },
    {
      "cell_type": "code",
      "source": [
        "# Verify the counts: 1 - female, 0 - male\n",
        "df_fair.Personal_status_sex.value_counts()"
      ],
      "metadata": {
        "colab": {
          "base_uri": "https://localhost:8080/"
        },
        "id": "1aOtsPemf1R5",
        "outputId": "81118f4d-9799-437e-acab-7fcd615631c6"
      },
      "execution_count": 117,
      "outputs": [
        {
          "output_type": "execute_result",
          "data": {
            "text/plain": [
              "0    177\n",
              "1     73\n",
              "Name: Personal_status_sex, dtype: int64"
            ]
          },
          "metadata": {},
          "execution_count": 117
        }
      ]
    },
    {
      "cell_type": "code",
      "source": [
        "X_test.Personal_status_sex.value_counts()"
      ],
      "metadata": {
        "colab": {
          "base_uri": "https://localhost:8080/"
        },
        "id": "bASo4F_7hSPs",
        "outputId": "ce4691ad-de72-471a-8202-6883c52b5460"
      },
      "execution_count": 118,
      "outputs": [
        {
          "output_type": "execute_result",
          "data": {
            "text/plain": [
              "2    134\n",
              "1     73\n",
              "3     23\n",
              "0     20\n",
              "Name: Personal_status_sex, dtype: int64"
            ]
          },
          "metadata": {},
          "execution_count": 118
        }
      ]
    },
    {
      "cell_type": "markdown",
      "source": [
        "**score**\\\n",
        "By default, **Aequitas** assumes the score column is a binary decision (0 or 1). If the score column contains a non-binary score (e.g. the output from a logistic regression applied to the data), the user sets a threshold to determine the binary decision. \\\n",
        "\n",
        "**label_value**\\\n",
        "This is the ground truth value of a binary decision. The data must be binary (0 or 1).\n",
        "\n",
        "**attributes** (e.g. race, sex, age, income)\\\n",
        "Group columns can be categorical or continuous. If categorical, Aequitas will produce crosstabs with bias metrics for each group_level. If continuous, Aequitas will first bin the data into quartiles.\n",
        "\n"
      ],
      "metadata": {
        "id": "Hk-jC0aRDw4s"
      }
    },
    {
      "cell_type": "code",
      "source": [
        "# Make sure that categorical columns are of type 'string'\n",
        "    \n",
        "col_names = ['Checking_account', 'Credit_history', 'Purpose', 'Savings',\n",
        "       'Present_employment_since', 'Personal_status_sex', 'Other_debtors',\n",
        "       'Property', 'Other_installment_plans', 'Housing', 'Job', 'Telephone',\n",
        "       'foreign_worker']\n",
        "for col in col_names:\n",
        "  df_fair[col] = df_fair[col].astype(str)"
      ],
      "metadata": {
        "id": "rXXqyFqUDnJj"
      },
      "execution_count": 119,
      "outputs": []
    },
    {
      "cell_type": "code",
      "source": [
        "df_fair.info()"
      ],
      "metadata": {
        "colab": {
          "base_uri": "https://localhost:8080/"
        },
        "id": "Q9XBPnTtKJhF",
        "outputId": "e5be8026-cad7-4639-b8b0-2240f5139e14"
      },
      "execution_count": 123,
      "outputs": [
        {
          "output_type": "stream",
          "name": "stdout",
          "text": [
            "<class 'pandas.core.frame.DataFrame'>\n",
            "Int64Index: 250 entries, 521 to 286\n",
            "Data columns (total 22 columns):\n",
            " #   Column                          Non-Null Count  Dtype \n",
            "---  ------                          --------------  ----- \n",
            " 0   score                           250 non-null    int64 \n",
            " 1   label_value                     250 non-null    int64 \n",
            " 2   Checking_account                250 non-null    object\n",
            " 3   Duration_months                 250 non-null    int64 \n",
            " 4   Credit_history                  250 non-null    object\n",
            " 5   Purpose                         250 non-null    object\n",
            " 6   Credit_amount                   250 non-null    int64 \n",
            " 7   Savings                         250 non-null    object\n",
            " 8   Present_employment_since        250 non-null    object\n",
            " 9   Installment_rate                250 non-null    int64 \n",
            " 10  Personal_status_sex             250 non-null    object\n",
            " 11  Other_debtors                   250 non-null    object\n",
            " 12  Present_residence_since         250 non-null    int64 \n",
            " 13  Property                        250 non-null    object\n",
            " 14  Age                             250 non-null    int64 \n",
            " 15  Other_installment_plans         250 non-null    object\n",
            " 16  Housing                         250 non-null    object\n",
            " 17  existing_credits                250 non-null    int64 \n",
            " 18  Job                             250 non-null    object\n",
            " 19  People_provide_maintenance_for  250 non-null    int64 \n",
            " 20  Telephone                       250 non-null    object\n",
            " 21  foreign_worker                  250 non-null    object\n",
            "dtypes: int64(9), object(13)\n",
            "memory usage: 44.9+ KB\n"
          ]
        }
      ]
    },
    {
      "cell_type": "code",
      "source": [
        "df_fair.head()"
      ],
      "metadata": {
        "colab": {
          "base_uri": "https://localhost:8080/",
          "height": 300
        },
        "id": "Phii8PMlHgVI",
        "outputId": "04a534eb-c7c8-4be9-c560-dae60eef3498"
      },
      "execution_count": 120,
      "outputs": [
        {
          "output_type": "execute_result",
          "data": {
            "text/plain": [
              "     score  label_value Checking_account  Duration_months Credit_history  \\\n",
              "521      1            0                0               18              2   \n",
              "737      0            1                0               18              2   \n",
              "740      0            1                0               24              1   \n",
              "660      1            1                2               12              2   \n",
              "411      1            1                3               33              4   \n",
              "\n",
              "    Purpose  Credit_amount Savings Present_employment_since  Installment_rate  \\\n",
              "521       4           3190       0                        2                 2   \n",
              "737       0           4380       1                        2                 3   \n",
              "740       0           2325       1                        3                 2   \n",
              "660       4           1297       0                        2                 3   \n",
              "411       1           7253       0                        3                 3   \n",
              "\n",
              "     ... Present_residence_since Property  Age Other_installment_plans  \\\n",
              "521  ...                       2        0   24                       2   \n",
              "737  ...                       4        2   35                       2   \n",
              "740  ...                       3        2   32                       0   \n",
              "660  ...                       4        0   23                       2   \n",
              "411  ...                       2        2   35                       2   \n",
              "\n",
              "     Housing existing_credits Job  People_provide_maintenance_for Telephone  \\\n",
              "521        1                1   2                               1         0   \n",
              "737        1                1   1                               2         1   \n",
              "740        1                1   2                               1         0   \n",
              "660        0                1   2                               1         0   \n",
              "411        1                2   3                               1         1   \n",
              "\n",
              "     foreign_worker  \n",
              "521               0  \n",
              "737               0  \n",
              "740               0  \n",
              "660               0  \n",
              "411               0  \n",
              "\n",
              "[5 rows x 22 columns]"
            ],
            "text/html": [
              "\n",
              "  <div id=\"df-4b43a03a-a5d2-4509-85f1-6b4a8d21b108\">\n",
              "    <div class=\"colab-df-container\">\n",
              "      <div>\n",
              "<style scoped>\n",
              "    .dataframe tbody tr th:only-of-type {\n",
              "        vertical-align: middle;\n",
              "    }\n",
              "\n",
              "    .dataframe tbody tr th {\n",
              "        vertical-align: top;\n",
              "    }\n",
              "\n",
              "    .dataframe thead th {\n",
              "        text-align: right;\n",
              "    }\n",
              "</style>\n",
              "<table border=\"1\" class=\"dataframe\">\n",
              "  <thead>\n",
              "    <tr style=\"text-align: right;\">\n",
              "      <th></th>\n",
              "      <th>score</th>\n",
              "      <th>label_value</th>\n",
              "      <th>Checking_account</th>\n",
              "      <th>Duration_months</th>\n",
              "      <th>Credit_history</th>\n",
              "      <th>Purpose</th>\n",
              "      <th>Credit_amount</th>\n",
              "      <th>Savings</th>\n",
              "      <th>Present_employment_since</th>\n",
              "      <th>Installment_rate</th>\n",
              "      <th>...</th>\n",
              "      <th>Present_residence_since</th>\n",
              "      <th>Property</th>\n",
              "      <th>Age</th>\n",
              "      <th>Other_installment_plans</th>\n",
              "      <th>Housing</th>\n",
              "      <th>existing_credits</th>\n",
              "      <th>Job</th>\n",
              "      <th>People_provide_maintenance_for</th>\n",
              "      <th>Telephone</th>\n",
              "      <th>foreign_worker</th>\n",
              "    </tr>\n",
              "  </thead>\n",
              "  <tbody>\n",
              "    <tr>\n",
              "      <th>521</th>\n",
              "      <td>1</td>\n",
              "      <td>0</td>\n",
              "      <td>0</td>\n",
              "      <td>18</td>\n",
              "      <td>2</td>\n",
              "      <td>4</td>\n",
              "      <td>3190</td>\n",
              "      <td>0</td>\n",
              "      <td>2</td>\n",
              "      <td>2</td>\n",
              "      <td>...</td>\n",
              "      <td>2</td>\n",
              "      <td>0</td>\n",
              "      <td>24</td>\n",
              "      <td>2</td>\n",
              "      <td>1</td>\n",
              "      <td>1</td>\n",
              "      <td>2</td>\n",
              "      <td>1</td>\n",
              "      <td>0</td>\n",
              "      <td>0</td>\n",
              "    </tr>\n",
              "    <tr>\n",
              "      <th>737</th>\n",
              "      <td>0</td>\n",
              "      <td>1</td>\n",
              "      <td>0</td>\n",
              "      <td>18</td>\n",
              "      <td>2</td>\n",
              "      <td>0</td>\n",
              "      <td>4380</td>\n",
              "      <td>1</td>\n",
              "      <td>2</td>\n",
              "      <td>3</td>\n",
              "      <td>...</td>\n",
              "      <td>4</td>\n",
              "      <td>2</td>\n",
              "      <td>35</td>\n",
              "      <td>2</td>\n",
              "      <td>1</td>\n",
              "      <td>1</td>\n",
              "      <td>1</td>\n",
              "      <td>2</td>\n",
              "      <td>1</td>\n",
              "      <td>0</td>\n",
              "    </tr>\n",
              "    <tr>\n",
              "      <th>740</th>\n",
              "      <td>0</td>\n",
              "      <td>1</td>\n",
              "      <td>0</td>\n",
              "      <td>24</td>\n",
              "      <td>1</td>\n",
              "      <td>0</td>\n",
              "      <td>2325</td>\n",
              "      <td>1</td>\n",
              "      <td>3</td>\n",
              "      <td>2</td>\n",
              "      <td>...</td>\n",
              "      <td>3</td>\n",
              "      <td>2</td>\n",
              "      <td>32</td>\n",
              "      <td>0</td>\n",
              "      <td>1</td>\n",
              "      <td>1</td>\n",
              "      <td>2</td>\n",
              "      <td>1</td>\n",
              "      <td>0</td>\n",
              "      <td>0</td>\n",
              "    </tr>\n",
              "    <tr>\n",
              "      <th>660</th>\n",
              "      <td>1</td>\n",
              "      <td>1</td>\n",
              "      <td>2</td>\n",
              "      <td>12</td>\n",
              "      <td>2</td>\n",
              "      <td>4</td>\n",
              "      <td>1297</td>\n",
              "      <td>0</td>\n",
              "      <td>2</td>\n",
              "      <td>3</td>\n",
              "      <td>...</td>\n",
              "      <td>4</td>\n",
              "      <td>0</td>\n",
              "      <td>23</td>\n",
              "      <td>2</td>\n",
              "      <td>0</td>\n",
              "      <td>1</td>\n",
              "      <td>2</td>\n",
              "      <td>1</td>\n",
              "      <td>0</td>\n",
              "      <td>0</td>\n",
              "    </tr>\n",
              "    <tr>\n",
              "      <th>411</th>\n",
              "      <td>1</td>\n",
              "      <td>1</td>\n",
              "      <td>3</td>\n",
              "      <td>33</td>\n",
              "      <td>4</td>\n",
              "      <td>1</td>\n",
              "      <td>7253</td>\n",
              "      <td>0</td>\n",
              "      <td>3</td>\n",
              "      <td>3</td>\n",
              "      <td>...</td>\n",
              "      <td>2</td>\n",
              "      <td>2</td>\n",
              "      <td>35</td>\n",
              "      <td>2</td>\n",
              "      <td>1</td>\n",
              "      <td>2</td>\n",
              "      <td>3</td>\n",
              "      <td>1</td>\n",
              "      <td>1</td>\n",
              "      <td>0</td>\n",
              "    </tr>\n",
              "  </tbody>\n",
              "</table>\n",
              "<p>5 rows × 22 columns</p>\n",
              "</div>\n",
              "      <button class=\"colab-df-convert\" onclick=\"convertToInteractive('df-4b43a03a-a5d2-4509-85f1-6b4a8d21b108')\"\n",
              "              title=\"Convert this dataframe to an interactive table.\"\n",
              "              style=\"display:none;\">\n",
              "        \n",
              "  <svg xmlns=\"http://www.w3.org/2000/svg\" height=\"24px\"viewBox=\"0 0 24 24\"\n",
              "       width=\"24px\">\n",
              "    <path d=\"M0 0h24v24H0V0z\" fill=\"none\"/>\n",
              "    <path d=\"M18.56 5.44l.94 2.06.94-2.06 2.06-.94-2.06-.94-.94-2.06-.94 2.06-2.06.94zm-11 1L8.5 8.5l.94-2.06 2.06-.94-2.06-.94L8.5 2.5l-.94 2.06-2.06.94zm10 10l.94 2.06.94-2.06 2.06-.94-2.06-.94-.94-2.06-.94 2.06-2.06.94z\"/><path d=\"M17.41 7.96l-1.37-1.37c-.4-.4-.92-.59-1.43-.59-.52 0-1.04.2-1.43.59L10.3 9.45l-7.72 7.72c-.78.78-.78 2.05 0 2.83L4 21.41c.39.39.9.59 1.41.59.51 0 1.02-.2 1.41-.59l7.78-7.78 2.81-2.81c.8-.78.8-2.07 0-2.86zM5.41 20L4 18.59l7.72-7.72 1.47 1.35L5.41 20z\"/>\n",
              "  </svg>\n",
              "      </button>\n",
              "      \n",
              "  <style>\n",
              "    .colab-df-container {\n",
              "      display:flex;\n",
              "      flex-wrap:wrap;\n",
              "      gap: 12px;\n",
              "    }\n",
              "\n",
              "    .colab-df-convert {\n",
              "      background-color: #E8F0FE;\n",
              "      border: none;\n",
              "      border-radius: 50%;\n",
              "      cursor: pointer;\n",
              "      display: none;\n",
              "      fill: #1967D2;\n",
              "      height: 32px;\n",
              "      padding: 0 0 0 0;\n",
              "      width: 32px;\n",
              "    }\n",
              "\n",
              "    .colab-df-convert:hover {\n",
              "      background-color: #E2EBFA;\n",
              "      box-shadow: 0px 1px 2px rgba(60, 64, 67, 0.3), 0px 1px 3px 1px rgba(60, 64, 67, 0.15);\n",
              "      fill: #174EA6;\n",
              "    }\n",
              "\n",
              "    [theme=dark] .colab-df-convert {\n",
              "      background-color: #3B4455;\n",
              "      fill: #D2E3FC;\n",
              "    }\n",
              "\n",
              "    [theme=dark] .colab-df-convert:hover {\n",
              "      background-color: #434B5C;\n",
              "      box-shadow: 0px 1px 3px 1px rgba(0, 0, 0, 0.15);\n",
              "      filter: drop-shadow(0px 1px 2px rgba(0, 0, 0, 0.3));\n",
              "      fill: #FFFFFF;\n",
              "    }\n",
              "  </style>\n",
              "\n",
              "      <script>\n",
              "        const buttonEl =\n",
              "          document.querySelector('#df-4b43a03a-a5d2-4509-85f1-6b4a8d21b108 button.colab-df-convert');\n",
              "        buttonEl.style.display =\n",
              "          google.colab.kernel.accessAllowed ? 'block' : 'none';\n",
              "\n",
              "        async function convertToInteractive(key) {\n",
              "          const element = document.querySelector('#df-4b43a03a-a5d2-4509-85f1-6b4a8d21b108');\n",
              "          const dataTable =\n",
              "            await google.colab.kernel.invokeFunction('convertToInteractive',\n",
              "                                                     [key], {});\n",
              "          if (!dataTable) return;\n",
              "\n",
              "          const docLinkHtml = 'Like what you see? Visit the ' +\n",
              "            '<a target=\"_blank\" href=https://colab.research.google.com/notebooks/data_table.ipynb>data table notebook</a>'\n",
              "            + ' to learn more about interactive tables.';\n",
              "          element.innerHTML = '';\n",
              "          dataTable['output_type'] = 'display_data';\n",
              "          await google.colab.output.renderOutput(dataTable, element);\n",
              "          const docLink = document.createElement('div');\n",
              "          docLink.innerHTML = docLinkHtml;\n",
              "          element.appendChild(docLink);\n",
              "        }\n",
              "      </script>\n",
              "    </div>\n",
              "  </div>\n",
              "  "
            ]
          },
          "metadata": {},
          "execution_count": 120
        }
      ]
    },
    {
      "cell_type": "code",
      "source": [
        "# building a dataframe to use in the Aequitas webapp\n",
        "df_webaequitas=df_fair.copy()\n",
        "df_webaequitas=df_webaequitas.drop(['Checking_account', 'Credit_history', \n",
        "                                    'Purpose', 'Savings', 'Present_employment_since', \n",
        "                                    'Other_debtors', 'Property', 'Other_installment_plans', \n",
        "                                    'Housing', 'Job', 'Telephone', 'foreign_worker'], axis=1)\n",
        "df_webaequitas.Personal_status_sex.replace(\"0\",\"male\", inplace=True) \n",
        "df_webaequitas.Personal_status_sex.replace(\"1\",\"female\", inplace=True)\n",
        "df_webaequitas.Personal_status_sex.value_counts()"
      ],
      "metadata": {
        "colab": {
          "base_uri": "https://localhost:8080/"
        },
        "id": "7HpMQV0oNRx4",
        "outputId": "ff36d262-c59c-4f07-e386-51f89b4caf15"
      },
      "execution_count": 127,
      "outputs": [
        {
          "output_type": "execute_result",
          "data": {
            "text/plain": [
              "male      177\n",
              "female     73\n",
              "Name: Personal_status_sex, dtype: int64"
            ]
          },
          "metadata": {},
          "execution_count": 127
        }
      ]
    },
    {
      "cell_type": "code",
      "source": [
        "TP=0\n",
        "Positives=0\n",
        "for i in range(df_webaequitas.shape[0]): \n",
        "        if df_webaequitas['score'].iloc[i]==df_webaequitas['label_value'].iloc[i]==1 and df_webaequitas['Personal_status_sex'].iloc[i]==\"female\":\n",
        "          TP += 1\n",
        "        if df_webaequitas['score'].iloc[i]==1 and df_webaequitas['Personal_status_sex'].iloc[i]==\"female\":\n",
        "          Positives += 1  \n",
        "\n",
        "TP/Positives"
      ],
      "metadata": {
        "colab": {
          "base_uri": "https://localhost:8080/"
        },
        "id": "i5JEeaLKS4th",
        "outputId": "275f1ebf-13e9-44d1-a536-9a43fdec1da8"
      },
      "execution_count": 137,
      "outputs": [
        {
          "output_type": "execute_result",
          "data": {
            "text/plain": [
              "0.7868852459016393"
            ]
          },
          "metadata": {},
          "execution_count": 137
        }
      ]
    },
    {
      "cell_type": "code",
      "source": [
        "import csv\n",
        "df_webaequitas.to_csv('/content/df_aequitas.csv', index=False)\n",
        "#df_webaequitas.to_csv('/content/df_aequitas.csv', quoting=csv.QUOTE_NONNUMERIC, index=False)"
      ],
      "metadata": {
        "id": "ZIX-KHupG0Ti"
      },
      "execution_count": 128,
      "outputs": []
    },
    {
      "cell_type": "markdown",
      "source": [
        "### Installing Aequitas"
      ],
      "metadata": {
        "id": "VEzisMBJdfKP"
      }
    },
    {
      "cell_type": "code",
      "source": [
        "!pip install aequitas\n",
        "import aequitas"
      ],
      "metadata": {
        "colab": {
          "base_uri": "https://localhost:8080/"
        },
        "id": "ocSBxZxhDR1g",
        "outputId": "58422f62-dddb-4df6-b8bf-3ffaabaf334f"
      },
      "execution_count": 28,
      "outputs": [
        {
          "output_type": "stream",
          "name": "stdout",
          "text": [
            "Collecting aequitas\n",
            "  Downloading aequitas-0.42.0-py3-none-any.whl (2.2 MB)\n",
            "\u001b[K     |████████████████████████████████| 2.2 MB 23.1 MB/s \n",
            "\u001b[?25hRequirement already satisfied: matplotlib>=3.0.3 in /usr/local/lib/python3.7/dist-packages (from aequitas) (3.2.2)\n",
            "Requirement already satisfied: SQLAlchemy>=1.1.1 in /usr/local/lib/python3.7/dist-packages (from aequitas) (1.4.32)\n",
            "Collecting tabulate==0.8.2\n",
            "  Downloading tabulate-0.8.2.tar.gz (45 kB)\n",
            "\u001b[K     |████████████████████████████████| 45 kB 3.2 MB/s \n",
            "\u001b[?25hCollecting Flask-Bootstrap==3.3.7.1\n",
            "  Downloading Flask-Bootstrap-3.3.7.1.tar.gz (456 kB)\n",
            "\u001b[K     |████████████████████████████████| 456 kB 49.3 MB/s \n",
            "\u001b[?25hCollecting pyyaml>=5.1\n",
            "  Downloading PyYAML-6.0-cp37-cp37m-manylinux_2_5_x86_64.manylinux1_x86_64.manylinux_2_12_x86_64.manylinux2010_x86_64.whl (596 kB)\n",
            "\u001b[K     |████████████████████████████████| 596 kB 43.6 MB/s \n",
            "\u001b[?25hCollecting altair==4.1.0\n",
            "  Downloading altair-4.1.0-py3-none-any.whl (727 kB)\n",
            "\u001b[K     |████████████████████████████████| 727 kB 24.2 MB/s \n",
            "\u001b[?25hCollecting ohio>=0.2.0\n",
            "  Downloading ohio-0.5.0-py3-none-any.whl (26 kB)\n",
            "Requirement already satisfied: pandas>=0.24.1 in /usr/local/lib/python3.7/dist-packages (from aequitas) (1.3.5)\n",
            "Collecting millify==0.1.1\n",
            "  Downloading millify-0.1.1.tar.gz (1.2 kB)\n",
            "Requirement already satisfied: seaborn>=0.9.0 in /usr/local/lib/python3.7/dist-packages (from aequitas) (0.11.2)\n",
            "Collecting markdown2==2.3.5\n",
            "  Downloading markdown2-2.3.5.zip (161 kB)\n",
            "\u001b[K     |████████████████████████████████| 161 kB 65.0 MB/s \n",
            "\u001b[?25hCollecting Flask==0.12.2\n",
            "  Downloading Flask-0.12.2-py2.py3-none-any.whl (83 kB)\n",
            "\u001b[K     |████████████████████████████████| 83 kB 1.6 MB/s \n",
            "\u001b[?25hCollecting xhtml2pdf==0.2.2\n",
            "  Downloading xhtml2pdf-0.2.2.tar.gz (97 kB)\n",
            "\u001b[K     |████████████████████████████████| 97 kB 7.6 MB/s \n",
            "\u001b[?25hRequirement already satisfied: numpy in /usr/local/lib/python3.7/dist-packages (from altair==4.1.0->aequitas) (1.21.5)\n",
            "Requirement already satisfied: jsonschema in /usr/local/lib/python3.7/dist-packages (from altair==4.1.0->aequitas) (4.3.3)\n",
            "Requirement already satisfied: jinja2 in /usr/local/lib/python3.7/dist-packages (from altair==4.1.0->aequitas) (2.11.3)\n",
            "Requirement already satisfied: toolz in /usr/local/lib/python3.7/dist-packages (from altair==4.1.0->aequitas) (0.11.2)\n",
            "Requirement already satisfied: entrypoints in /usr/local/lib/python3.7/dist-packages (from altair==4.1.0->aequitas) (0.4)\n",
            "Requirement already satisfied: itsdangerous>=0.21 in /usr/local/lib/python3.7/dist-packages (from Flask==0.12.2->aequitas) (1.1.0)\n",
            "Requirement already satisfied: click>=2.0 in /usr/local/lib/python3.7/dist-packages (from Flask==0.12.2->aequitas) (7.1.2)\n",
            "Requirement already satisfied: Werkzeug>=0.7 in /usr/local/lib/python3.7/dist-packages (from Flask==0.12.2->aequitas) (1.0.1)\n",
            "Collecting dominate\n",
            "  Downloading dominate-2.6.0-py2.py3-none-any.whl (29 kB)\n",
            "Collecting visitor\n",
            "  Downloading visitor-0.1.3.tar.gz (3.3 kB)\n",
            "Requirement already satisfied: html5lib>=1.0 in /usr/local/lib/python3.7/dist-packages (from xhtml2pdf==0.2.2->aequitas) (1.0.1)\n",
            "Requirement already satisfied: httplib2 in /usr/local/lib/python3.7/dist-packages (from xhtml2pdf==0.2.2->aequitas) (0.17.4)\n",
            "Collecting pyPdf2\n",
            "  Downloading PyPDF2-1.26.0.tar.gz (77 kB)\n",
            "\u001b[K     |████████████████████████████████| 77 kB 6.4 MB/s \n",
            "\u001b[?25hRequirement already satisfied: Pillow in /usr/local/lib/python3.7/dist-packages (from xhtml2pdf==0.2.2->aequitas) (7.1.2)\n",
            "Collecting reportlab>=3.0\n",
            "  Downloading reportlab-3.6.9-cp37-cp37m-manylinux_2_17_x86_64.manylinux2014_x86_64.whl (2.7 MB)\n",
            "\u001b[K     |████████████████████████████████| 2.7 MB 54.2 MB/s \n",
            "\u001b[?25hRequirement already satisfied: six in /usr/local/lib/python3.7/dist-packages (from xhtml2pdf==0.2.2->aequitas) (1.15.0)\n",
            "Requirement already satisfied: webencodings in /usr/local/lib/python3.7/dist-packages (from html5lib>=1.0->xhtml2pdf==0.2.2->aequitas) (0.5.1)\n",
            "Requirement already satisfied: MarkupSafe>=0.23 in /usr/local/lib/python3.7/dist-packages (from jinja2->altair==4.1.0->aequitas) (2.0.1)\n",
            "Requirement already satisfied: python-dateutil>=2.1 in /usr/local/lib/python3.7/dist-packages (from matplotlib>=3.0.3->aequitas) (2.8.2)\n",
            "Requirement already satisfied: pyparsing!=2.0.4,!=2.1.2,!=2.1.6,>=2.0.1 in /usr/local/lib/python3.7/dist-packages (from matplotlib>=3.0.3->aequitas) (3.0.7)\n",
            "Requirement already satisfied: kiwisolver>=1.0.1 in /usr/local/lib/python3.7/dist-packages (from matplotlib>=3.0.3->aequitas) (1.4.0)\n",
            "Requirement already satisfied: cycler>=0.10 in /usr/local/lib/python3.7/dist-packages (from matplotlib>=3.0.3->aequitas) (0.11.0)\n",
            "Requirement already satisfied: typing-extensions in /usr/local/lib/python3.7/dist-packages (from kiwisolver>=1.0.1->matplotlib>=3.0.3->aequitas) (3.10.0.2)\n",
            "Requirement already satisfied: pytz>=2017.3 in /usr/local/lib/python3.7/dist-packages (from pandas>=0.24.1->aequitas) (2018.9)\n",
            "Requirement already satisfied: scipy>=1.0 in /usr/local/lib/python3.7/dist-packages (from seaborn>=0.9.0->aequitas) (1.4.1)\n",
            "Requirement already satisfied: importlib-metadata in /usr/local/lib/python3.7/dist-packages (from SQLAlchemy>=1.1.1->aequitas) (4.11.3)\n",
            "Requirement already satisfied: greenlet!=0.4.17 in /usr/local/lib/python3.7/dist-packages (from SQLAlchemy>=1.1.1->aequitas) (1.1.2)\n",
            "Requirement already satisfied: zipp>=0.5 in /usr/local/lib/python3.7/dist-packages (from importlib-metadata->SQLAlchemy>=1.1.1->aequitas) (3.7.0)\n",
            "Requirement already satisfied: pyrsistent!=0.17.0,!=0.17.1,!=0.17.2,>=0.14.0 in /usr/local/lib/python3.7/dist-packages (from jsonschema->altair==4.1.0->aequitas) (0.18.1)\n",
            "Requirement already satisfied: attrs>=17.4.0 in /usr/local/lib/python3.7/dist-packages (from jsonschema->altair==4.1.0->aequitas) (21.4.0)\n",
            "Requirement already satisfied: importlib-resources>=1.4.0 in /usr/local/lib/python3.7/dist-packages (from jsonschema->altair==4.1.0->aequitas) (5.4.0)\n",
            "Building wheels for collected packages: Flask-Bootstrap, markdown2, millify, tabulate, xhtml2pdf, pyPdf2, visitor\n",
            "  Building wheel for Flask-Bootstrap (setup.py) ... \u001b[?25l\u001b[?25hdone\n",
            "  Created wheel for Flask-Bootstrap: filename=Flask_Bootstrap-3.3.7.1-py3-none-any.whl size=460123 sha256=92d40846d0d659af9ddbef01f8577b1023963a902a2c82e91c650e0ba5b61fb0\n",
            "  Stored in directory: /root/.cache/pip/wheels/67/a2/d6/50d039c9b59b4caca6d7b53839c8100354a52ab7553d2456eb\n",
            "  Building wheel for markdown2 (setup.py) ... \u001b[?25l\u001b[?25hdone\n",
            "  Created wheel for markdown2: filename=markdown2-2.3.5-py3-none-any.whl size=33327 sha256=645ecfd37b1da5d778f8af31977011891cfe59936f6e8e1f44f392c23bd2ded5\n",
            "  Stored in directory: /root/.cache/pip/wheels/46/b9/ae/4050b5eeeedc7cba8ed5a0203189c89c0fa980f683822bfa31\n",
            "  Building wheel for millify (setup.py) ... \u001b[?25l\u001b[?25hdone\n",
            "  Created wheel for millify: filename=millify-0.1.1-py3-none-any.whl size=1866 sha256=c88de5f0185e3070e88ef58ad83db659bac3387ea16c78e6bf03a81fc76b6cbe\n",
            "  Stored in directory: /root/.cache/pip/wheels/38/26/25/c2a8bb99a5cf348903e6ac35a29878e221cc9daeb698545148\n",
            "  Building wheel for tabulate (setup.py) ... \u001b[?25l\u001b[?25hdone\n",
            "  Created wheel for tabulate: filename=tabulate-0.8.2-py3-none-any.whl size=23550 sha256=c93bc12be676dbf6e3144be54c46bc4f6dd9a121f62f9373f9747fe63b2f0a63\n",
            "  Stored in directory: /root/.cache/pip/wheels/33/63/72/4156fe55e8e06830d7aed3d20a6d1aacc753536843ab7330f6\n",
            "  Building wheel for xhtml2pdf (setup.py) ... \u001b[?25l\u001b[?25hdone\n",
            "  Created wheel for xhtml2pdf: filename=xhtml2pdf-0.2.2-py3-none-any.whl size=230265 sha256=06e9bd6b4e208fb001476ab95d90e8edae4df317e34058221c997455ddbb7fc8\n",
            "  Stored in directory: /root/.cache/pip/wheels/65/e6/3a/9851102d40dd8e643a4ff3ce5d69988f95d1d9b7448e37a916\n",
            "  Building wheel for pyPdf2 (setup.py) ... \u001b[?25l\u001b[?25hdone\n",
            "  Created wheel for pyPdf2: filename=PyPDF2-1.26.0-py3-none-any.whl size=61102 sha256=966b4c43e7fae0226c408adbddf71199d3073e0515aa34600e51469c95bf6aa0\n",
            "  Stored in directory: /root/.cache/pip/wheels/80/1a/24/648467ade3a77ed20f35cfd2badd32134e96dd25ca811e64b3\n",
            "  Building wheel for visitor (setup.py) ... \u001b[?25l\u001b[?25hdone\n",
            "  Created wheel for visitor: filename=visitor-0.1.3-py3-none-any.whl size=3946 sha256=f92b3e480cb3830bbf6a105ccf6a149141329e864675f17cd2923299093e4310\n",
            "  Stored in directory: /root/.cache/pip/wheels/64/34/11/053f47218984c9a31a00f911ed98dda036b867481dcc527a12\n",
            "Successfully built Flask-Bootstrap markdown2 millify tabulate xhtml2pdf pyPdf2 visitor\n",
            "Installing collected packages: visitor, reportlab, pyPdf2, Flask, dominate, xhtml2pdf, tabulate, pyyaml, ohio, millify, markdown2, Flask-Bootstrap, altair, aequitas\n",
            "  Attempting uninstall: Flask\n",
            "    Found existing installation: Flask 1.1.4\n",
            "    Uninstalling Flask-1.1.4:\n",
            "      Successfully uninstalled Flask-1.1.4\n",
            "  Attempting uninstall: tabulate\n",
            "    Found existing installation: tabulate 0.8.9\n",
            "    Uninstalling tabulate-0.8.9:\n",
            "      Successfully uninstalled tabulate-0.8.9\n",
            "  Attempting uninstall: pyyaml\n",
            "    Found existing installation: PyYAML 3.13\n",
            "    Uninstalling PyYAML-3.13:\n",
            "      Successfully uninstalled PyYAML-3.13\n",
            "  Attempting uninstall: altair\n",
            "    Found existing installation: altair 4.2.0\n",
            "    Uninstalling altair-4.2.0:\n",
            "      Successfully uninstalled altair-4.2.0\n",
            "Successfully installed Flask-0.12.2 Flask-Bootstrap-3.3.7.1 aequitas-0.42.0 altair-4.1.0 dominate-2.6.0 markdown2-2.3.5 millify-0.1.1 ohio-0.5.0 pyPdf2-1.26.0 pyyaml-6.0 reportlab-3.6.9 tabulate-0.8.2 visitor-0.1.3 xhtml2pdf-0.2.2\n"
          ]
        }
      ]
    },
    {
      "cell_type": "code",
      "source": [
        "from aequitas.preprocessing import preprocess_input_df\n",
        "\n",
        "df, _ = preprocess_input_df(df_fair)"
      ],
      "metadata": {
        "id": "L5J2nKOzRikX"
      },
      "execution_count": 30,
      "outputs": []
    },
    {
      "cell_type": "code",
      "source": [
        "df.head()"
      ],
      "metadata": {
        "id": "Xh8m-pNwhymg"
      },
      "execution_count": null,
      "outputs": []
    },
    {
      "cell_type": "code",
      "source": [
        "from aequitas.group import Group\n",
        "from aequitas.bias import Bias\n",
        "from aequitas.fairness import Fairness\n",
        "import aequitas.plot as ap"
      ],
      "metadata": {
        "id": "ry9s2GRzVT1B"
      },
      "execution_count": 32,
      "outputs": []
    },
    {
      "cell_type": "code",
      "source": [
        "attributes_and_reference_groups={'Personal_status_sex':'0'} # '0' - male is our reference group\n",
        "attributes_to_audit = list(attributes_and_reference_groups.keys())"
      ],
      "metadata": {
        "id": "xiY19qzBVU3A"
      },
      "execution_count": 72,
      "outputs": []
    },
    {
      "cell_type": "code",
      "source": [
        "metrics = ['ppr']"
      ],
      "metadata": {
        "id": "6fpAwzCDVUrP"
      },
      "execution_count": 73,
      "outputs": []
    },
    {
      "cell_type": "code",
      "source": [
        "disparity_tolerance = 1.2"
      ],
      "metadata": {
        "id": "RyPz2XjGWt2_"
      },
      "execution_count": 71,
      "outputs": []
    },
    {
      "cell_type": "code",
      "source": [
        "# Initialize Aequitas\n",
        "g = Group()\n",
        "b = Bias()\n",
        "\n",
        "# get_crosstabs returns a dataframe of the group counts and group value bias metrics.\n",
        "xtab, _ = g.get_crosstabs(df, attr_cols=attributes_to_audit)\n",
        "bdf = b.get_disparity_predefined_groups(xtab, original_df=df, ref_groups_dict=attributes_and_reference_groups)"
      ],
      "metadata": {
        "colab": {
          "base_uri": "https://localhost:8080/"
        },
        "id": "_wXiSxAfWtsy",
        "outputId": "e23fa567-4cff-4be0-993e-7d4812069159"
      },
      "execution_count": 74,
      "outputs": [
        {
          "output_type": "stream",
          "name": "stdout",
          "text": [
            "get_disparity_predefined_group()\n"
          ]
        }
      ]
    },
    {
      "cell_type": "code",
      "source": [
        "ap.disparity(bdf, metrics, 'Personal_status_sex', fairness_threshold = disparity_tolerance)"
      ],
      "metadata": {
        "colab": {
          "base_uri": "https://localhost:8080/",
          "height": 320
        },
        "id": "8tJaEMaTWtha",
        "outputId": "ea5f5ea2-7505-4424-e81e-bfd872eabac2"
      },
      "execution_count": 75,
      "outputs": [
        {
          "output_type": "execute_result",
          "data": {
            "text/html": [
              "\n",
              "<div id=\"altair-viz-cf6da88b367147d7a09cf3c6256b744a\"></div>\n",
              "<script type=\"text/javascript\">\n",
              "  (function(spec, embedOpt){\n",
              "    let outputDiv = document.currentScript.previousElementSibling;\n",
              "    if (outputDiv.id !== \"altair-viz-cf6da88b367147d7a09cf3c6256b744a\") {\n",
              "      outputDiv = document.getElementById(\"altair-viz-cf6da88b367147d7a09cf3c6256b744a\");\n",
              "    }\n",
              "    const paths = {\n",
              "      \"vega\": \"https://cdn.jsdelivr.net/npm//vega@5?noext\",\n",
              "      \"vega-lib\": \"https://cdn.jsdelivr.net/npm//vega-lib?noext\",\n",
              "      \"vega-lite\": \"https://cdn.jsdelivr.net/npm//vega-lite@4.8.1?noext\",\n",
              "      \"vega-embed\": \"https://cdn.jsdelivr.net/npm//vega-embed@6?noext\",\n",
              "    };\n",
              "\n",
              "    function loadScript(lib) {\n",
              "      return new Promise(function(resolve, reject) {\n",
              "        var s = document.createElement('script');\n",
              "        s.src = paths[lib];\n",
              "        s.async = true;\n",
              "        s.onload = () => resolve(paths[lib]);\n",
              "        s.onerror = () => reject(`Error loading script: ${paths[lib]}`);\n",
              "        document.getElementsByTagName(\"head\")[0].appendChild(s);\n",
              "      });\n",
              "    }\n",
              "\n",
              "    function showError(err) {\n",
              "      outputDiv.innerHTML = `<div class=\"error\" style=\"color:red;\">${err}</div>`;\n",
              "      throw err;\n",
              "    }\n",
              "\n",
              "    function displayChart(vegaEmbed) {\n",
              "      vegaEmbed(outputDiv, spec, embedOpt)\n",
              "        .catch(err => showError(`Javascript Error: ${err.message}<br>This usually means there's a typo in your chart specification. See the javascript console for the full traceback.`));\n",
              "    }\n",
              "\n",
              "    if(typeof define === \"function\" && define.amd) {\n",
              "      requirejs.config({paths});\n",
              "      require([\"vega-embed\"], displayChart, err => showError(`Error loading script: ${err.message}`));\n",
              "    } else if (typeof vegaEmbed === \"function\") {\n",
              "      displayChart(vegaEmbed);\n",
              "    } else {\n",
              "      loadScript(\"vega\")\n",
              "        .then(() => loadScript(\"vega-lite\"))\n",
              "        .then(() => loadScript(\"vega-embed\"))\n",
              "        .catch(showError)\n",
              "        .then(() => displayChart(vegaEmbed));\n",
              "    }\n",
              "  })({\"config\": {\"view\": {\"continuousWidth\": 400, \"continuousHeight\": 300, \"strokeWidth\": 0}, \"axisLeft\": {\"labelColor\": \"rgb(117,117,117)\", \"labelFont\": \"Arial\", \"labelFontSize\": 16}, \"title\": {\"align\": \"center\", \"baseline\": \"middle\", \"color\": \"rgb(117,117,117)\", \"font\": \"Arial\", \"fontSize\": 20, \"fontWeight\": \"bold\"}}, \"layer\": [{\"data\": {\"name\": \"data-39e0d77574aba576c27ccb6982247729\"}, \"mark\": {\"type\": \"rule\", \"stroke\": \"rgb(117,117,117)\", \"strokeWidth\": 1.25, \"tooltip\": \"\"}, \"encoding\": {\"x\": {\"type\": \"quantitative\", \"field\": \"x\", \"scale\": {\"domain\": [-2, 2], \"range\": [40.0, 760.0]}}, \"x2\": {\"field\": \"x2\"}, \"y\": {\"type\": \"nominal\", \"axis\": {\"domain\": false, \"labelAngle\": 0, \"labelPadding\": -30, \"orient\": \"left\", \"ticks\": false, \"title\": \"\"}, \"field\": \"metric\", \"scale\": {\"domain\": [\"PPR\"], \"range\": [30, 225.0]}}}}, {\"data\": {\"name\": \"data-79dd248bdaa0ea02c535240e8ad022c8\"}, \"mark\": {\"type\": \"rule\", \"stroke\": \"rgb(117,117,117)\", \"strokeDash\": [5, 5], \"strokeWidth\": 1}, \"encoding\": {\"tooltip\": {\"value\": \"0 [REF]\"}, \"x\": {\"value\": 400.0}, \"y\": {\"value\": 20.833333333333336}, \"y2\": {\"value\": 229.16666666666666}}}, {\"data\": {\"name\": \"data-c233327f4cd9b4c2df31bf8015c83e4a\"}, \"mark\": {\"type\": \"text\", \"align\": \"center\", \"color\": \"rgb(117,117,117)\", \"font\": \"Arial\", \"fontSize\": 12, \"fontWeight\": \"normal\", \"tooltip\": \"\"}, \"encoding\": {\"text\": {\"type\": \"nominal\", \"field\": \"label\"}, \"x\": {\"type\": \"quantitative\", \"field\": \"value\", \"scale\": {\"domain\": [-2, 2], \"range\": [40.0, 760.0]}}, \"y\": {\"value\": 17.5}}}, {\"layer\": [{\"mark\": {\"type\": \"text\", \"align\": \"left\", \"fill\": \"rgb(117,117,117)\", \"font\": \"Arial\", \"fontSize\": 12, \"fontWeight\": \"normal\", \"tooltip\": \"\"}, \"encoding\": {\"text\": {\"value\": \"Times Smaller\"}, \"x\": {\"value\": 40.0}, \"y\": {\"value\": 7.5}}}, {\"mark\": {\"type\": \"text\", \"align\": \"right\", \"fill\": \"rgb(117,117,117)\", \"font\": \"Arial\", \"fontSize\": 12, \"fontWeight\": \"normal\", \"tooltip\": \"\"}, \"encoding\": {\"text\": {\"value\": \"Times Larger\"}, \"x\": {\"value\": 760.0}, \"y\": {\"value\": 7.5}}}, {\"mark\": {\"type\": \"text\", \"align\": \"center\", \"fill\": \"rgb(117,117,117)\", \"font\": \"Arial\", \"fontSize\": 12, \"fontWeight\": \"normal\", \"tooltip\": \"\"}, \"encoding\": {\"text\": {\"value\": \"Equal\"}, \"x\": {\"value\": 400.0}, \"y\": {\"value\": 7.5}}}], \"data\": {\"name\": \"data-79dd248bdaa0ea02c535240e8ad022c8\"}}, {\"layer\": [{\"mark\": {\"type\": \"rule\", \"opacity\": 0.8, \"stroke\": \"rgb(217, 46, 28)\", \"strokeWidth\": 1.25, \"tooltip\": \"\"}, \"encoding\": {\"x\": {\"type\": \"quantitative\", \"field\": \"min\", \"scale\": {\"domain\": [-2, 2], \"range\": [40.0, 760.0]}}, \"y\": {\"value\": 25.0}, \"y2\": {\"value\": 225.0}}}, {\"mark\": {\"type\": \"rule\", \"opacity\": 0.8, \"stroke\": \"rgb(217, 46, 28)\", \"strokeWidth\": 1.25, \"tooltip\": \"\"}, \"encoding\": {\"x\": {\"type\": \"quantitative\", \"field\": \"max\", \"scale\": {\"domain\": [-2, 2], \"range\": [40.0, 760.0]}}, \"y\": {\"value\": 25.0}, \"y2\": {\"value\": 225.0}}}, {\"layer\": [{\"mark\": {\"type\": \"rect\", \"fill\": \"rgb(217, 46, 28)\", \"opacity\": 0.1, \"tooltip\": \"\"}, \"encoding\": {\"x\": {\"type\": \"quantitative\", \"field\": \"min\", \"scale\": {\"domain\": [-2, 2], \"range\": [40.0, 760.0]}}, \"x2\": {\"field\": \"lower_end\"}, \"y\": {\"value\": 25.0}, \"y2\": {\"value\": 225.0}}}, {\"mark\": {\"type\": \"rect\", \"fill\": \"rgb(217, 46, 28)\", \"opacity\": 0.1, \"tooltip\": \"\"}, \"encoding\": {\"x\": {\"type\": \"quantitative\", \"field\": \"max\", \"scale\": {\"domain\": [-2, 2], \"range\": [40.0, 760.0]}}, \"x2\": {\"field\": \"upper_end\"}, \"y\": {\"value\": 25.0}, \"y2\": {\"value\": 225.0}}}]}, {\"data\": {\"name\": \"data-79dd248bdaa0ea02c535240e8ad022c8\"}, \"mark\": {\"type\": \"text\", \"align\": \"left\", \"baseline\": \"top\", \"fill\": \"rgb(217, 46, 28)\", \"font\": \"Arial\", \"fontSize\": 12, \"fontWeight\": \"normal\", \"tooltip\": \"\"}, \"encoding\": {\"text\": {\"value\": \"The metric value for any group should not be 1.2 (or more) times smaller or larger than that of the reference group 0.\"}, \"x\": {\"value\": 0}, \"y\": {\"value\": 233.33333333333334}}}], \"data\": {\"name\": \"data-25f3550964acc203f87c85ed125cfad2\"}}, {\"layer\": [{\"mark\": \"circle\"}, {\"data\": {\"name\": \"data-e5d6287b028b4ec3e742a5b1fc4b8eca\"}, \"mark\": {\"type\": \"circle\", \"opacity\": 0.2}, \"encoding\": {\"color\": {\"condition\": {\"type\": \"nominal\", \"field\": \"attribute_value\", \"legend\": null, \"scale\": {\"domain\": [\"0\", \"1\"], \"range\": [\"rgb(117,117,117)\", \"rgb(100, 143, 255)\", \"rgb(254, 97, 0)\", \"rgb(220, 38, 127)\", \"rgb(255, 176, 0)\", \"rgb(120, 94, 240)\"]}, \"selection\": \"selector021\"}, \"value\": \"rgb(224,224,224)\"}, \"size\": {\"type\": \"quantitative\", \"field\": \"group_size\", \"legend\": null, \"scale\": {\"domain\": [0, 212.4], \"range\": [0, 7853.981633974483]}}, \"tooltip\": [{\"type\": \"nominal\", \"field\": \"attribute_value\", \"title\": \"Group\"}, {\"type\": \"nominal\", \"field\": \"tooltip_group_size\", \"title\": \"Group Size\"}, {\"type\": \"nominal\", \"field\": \"tooltip_disparity_explanation_ppr\", \"title\": \"Disparity\"}, {\"type\": \"quantitative\", \"field\": \"ppr\", \"format\": \".2f\", \"title\": \"PPR\"}], \"x\": {\"type\": \"quantitative\", \"axis\": {\"domain\": false, \"labels\": false, \"ticks\": false, \"title\": null, \"values\": [1, 2, -2, -1]}, \"field\": \"ppr_disparity_scaled\", \"scale\": {\"domain\": [-2, 2], \"range\": [40.0, 760.0]}}, \"y\": {\"type\": \"nominal\", \"axis\": {\"domain\": false, \"grid\": false, \"labels\": false, \"ticks\": false, \"title\": \" \"}, \"field\": \"metric_variable\", \"scale\": {\"domain\": [\"PPR\"], \"range\": [30, 225.0]}}}, \"selection\": {\"selector023\": {\"type\": \"multi\", \"empty\": \"all\", \"fields\": [\"attribute_value\"]}}, \"transform\": [{\"calculate\": \"'PPR'\", \"as\": \"metric_variable\"}]}, {\"layer\": [{\"mark\": \"point\"}, {\"data\": {\"name\": \"data-e5d6287b028b4ec3e742a5b1fc4b8eca\"}, \"mark\": {\"type\": \"point\", \"filled\": true, \"size\": 60}, \"encoding\": {\"color\": {\"condition\": {\"type\": \"nominal\", \"field\": \"attribute_value\", \"legend\": null, \"scale\": {\"domain\": [\"0\", \"1\"], \"range\": [\"rgb(117,117,117)\", \"rgb(100, 143, 255)\", \"rgb(254, 97, 0)\", \"rgb(220, 38, 127)\", \"rgb(255, 176, 0)\", \"rgb(120, 94, 240)\"]}, \"selection\": \"selector021\"}, \"value\": \"rgb(224,224,224)\"}, \"shape\": {\"type\": \"nominal\", \"field\": \"attribute_value\", \"legend\": null, \"scale\": {\"domain\": [\"0\", \"1\"], \"range\": [\"cross\", \"circle\"]}}, \"tooltip\": [{\"type\": \"nominal\", \"field\": \"attribute_value\", \"title\": \"Group\"}, {\"type\": \"nominal\", \"field\": \"tooltip_group_size\", \"title\": \"Group Size\"}, {\"type\": \"nominal\", \"field\": \"tooltip_disparity_explanation_ppr\", \"title\": \"Disparity\"}, {\"type\": \"quantitative\", \"field\": \"ppr\", \"format\": \".2f\", \"title\": \"PPR\"}], \"x\": {\"type\": \"quantitative\", \"axis\": {\"domain\": false, \"labels\": false, \"ticks\": false, \"title\": null, \"values\": [1, 2, -2, -1]}, \"field\": \"ppr_disparity_scaled\", \"scale\": {\"domain\": [-2, 2], \"range\": [40.0, 760.0]}}, \"y\": {\"type\": \"nominal\", \"axis\": {\"domain\": false, \"grid\": false, \"labels\": false, \"ticks\": false, \"title\": \" \"}, \"field\": \"metric_variable\", \"scale\": {\"domain\": [\"PPR\"], \"range\": [30, 225.0]}}}, \"selection\": {\"selector022\": {\"type\": \"multi\", \"empty\": \"all\", \"fields\": [\"attribute_value\"]}}, \"transform\": [{\"calculate\": \"'PPR'\", \"as\": \"metric_variable\"}]}]}]}, {\"layer\": [{\"mark\": {\"type\": \"point\", \"filled\": true, \"opacity\": 1, \"size\": 39.47841760435743}, \"encoding\": {\"color\": {\"condition\": {\"type\": \"nominal\", \"field\": \"attribute_value\", \"legend\": null, \"scale\": {\"domain\": [\"0\", \"1\"], \"range\": [\"rgb(117,117,117)\", \"rgb(100, 143, 255)\", \"rgb(254, 97, 0)\", \"rgb(220, 38, 127)\", \"rgb(255, 176, 0)\", \"rgb(120, 94, 240)\"]}, \"selection\": \"selector021\"}, \"value\": \"rgb(224,224,224)\"}, \"shape\": {\"type\": \"nominal\", \"field\": \"attribute_value\", \"legend\": null, \"scale\": {\"domain\": [\"0\", \"1\"], \"range\": [\"cross\", \"circle\"]}}, \"x\": {\"value\": 804}, \"y\": {\"type\": \"nominal\", \"axis\": {\"domain\": false, \"grid\": false, \"labels\": false, \"ticks\": false, \"title\": \" \"}, \"field\": \"attribute_value\", \"scale\": {\"domain\": [\"0\", \"1\"], \"range\": [71, 125]}}}, \"selection\": {\"selector021\": {\"type\": \"multi\", \"empty\": \"all\", \"fields\": [\"attribute_value\"]}}}, {\"mark\": {\"type\": \"text\", \"align\": \"left\", \"baseline\": \"middle\", \"font\": \"Arial\", \"fontSize\": 12, \"fontWeight\": \"normal\"}, \"encoding\": {\"color\": {\"condition\": {\"type\": \"nominal\", \"field\": \"attribute_value\", \"legend\": null, \"scale\": {\"domain\": [\"0\", \"1\"], \"range\": [\"rgb(117,117,117)\", \"rgb(100, 143, 255)\", \"rgb(254, 97, 0)\", \"rgb(220, 38, 127)\", \"rgb(255, 176, 0)\", \"rgb(120, 94, 240)\"]}, \"selection\": \"selector021\"}, \"value\": \"rgb(224,224,224)\"}, \"text\": {\"type\": \"nominal\", \"field\": \"label\"}, \"x\": {\"value\": 812}, \"y\": {\"type\": \"nominal\", \"axis\": {\"domain\": false, \"grid\": false, \"labels\": false, \"ticks\": false, \"title\": \" \"}, \"field\": \"attribute_value\", \"scale\": {\"domain\": [\"0\", \"1\"], \"range\": [71, 125]}}}, \"selection\": {\"selector024\": {\"type\": \"multi\", \"empty\": \"all\", \"fields\": [\"attribute_value\"]}}}, {\"data\": {\"name\": \"data-79dd248bdaa0ea02c535240e8ad022c8\"}, \"mark\": {\"type\": \"text\", \"align\": \"left\", \"baseline\": \"middle\", \"color\": \"rgb(117,117,117)\", \"font\": \"Arial\", \"fontSize\": 12, \"fontWeight\": \"normal\"}, \"encoding\": {\"text\": {\"value\": \"Click to highlight a group.\"}, \"x\": {\"value\": 800}, \"y\": {\"value\": 49}}}, {\"data\": {\"name\": \"data-79dd248bdaa0ea02c535240e8ad022c8\"}, \"mark\": {\"type\": \"text\", \"align\": \"left\", \"baseline\": \"middle\", \"color\": \"rgb(117,117,117)\", \"font\": \"Arial\", \"fontSize\": 14, \"fontWeight\": \"normal\"}, \"encoding\": {\"text\": {\"value\": \"Groups\"}, \"x\": {\"value\": 800}, \"y\": {\"value\": 30}}}], \"data\": {\"name\": \"data-711e50c9c74ea5e50c1544827342332e\"}}], \"height\": 250, \"padding\": {\"top\": 15, \"bottom\": 10}, \"resolve\": {\"scale\": {\"size\": \"independent\", \"y\": \"independent\"}}, \"title\": \"Disparities on Personal_Status_Sex\", \"width\": 800, \"$schema\": \"https://vega.github.io/schema/vega-lite/v4.8.1.json\", \"datasets\": {\"data-39e0d77574aba576c27ccb6982247729\": [{\"metric\": \"PPR\", \"x\": -2, \"x2\": 2}], \"data-79dd248bdaa0ea02c535240e8ad022c8\": [{\"a\": 1, \"b\": 0}, {\"a\": 1, \"b\": 0}], \"data-c233327f4cd9b4c2df31bf8015c83e4a\": [{\"value\": 1, \"label\": 2}, {\"value\": 2, \"label\": 3}, {\"value\": -2, \"label\": 3}, {\"value\": -1, \"label\": 2}, {\"value\": 0, \"label\": \"=\"}], \"data-25f3550964acc203f87c85ed125cfad2\": [{\"min\": -0.19999999999999996, \"max\": 0.19999999999999996, \"lower_end\": -2, \"upper_end\": 2}], \"data-e5d6287b028b4ec3e742a5b1fc4b8eca\": [{\"attribute_name\": \"Personal_status_sex\", \"attribute_value\": \"0\", \"group_size\": 177, \"total_entities\": 250, \"ppr\": 0.6934673366834171, \"ppr_disparity\": 1.0, \"ppr_disparity_scaled\": 0.0, \"tooltip_group_size\": \"177 (70.80%)\", \"tooltip_disparity_explanation_ppr\": \"Reference group\"}, {\"attribute_name\": \"Personal_status_sex\", \"attribute_value\": \"1\", \"group_size\": 73, \"total_entities\": 250, \"ppr\": 0.3065326633165829, \"ppr_disparity\": 0.44202898550724634, \"ppr_disparity_scaled\": -1.2622950819672134, \"tooltip_group_size\": \"73 (29.20%)\", \"tooltip_disparity_explanation_ppr\": \"2.26 times smaller PPR than the reference group\"}], \"data-711e50c9c74ea5e50c1544827342332e\": [{\"attribute_value\": \"0\", \"label\": \"0 [REF]\"}, {\"attribute_value\": \"1\", \"label\": \"1\"}]}}, {\"mode\": \"vega-lite\"});\n",
              "</script>"
            ],
            "text/plain": [
              "alt.LayerChart(...)"
            ]
          },
          "metadata": {},
          "execution_count": 75
        }
      ]
    },
    {
      "cell_type": "code",
      "source": [
        "from aequitas.plotting import Plot\n",
        "    \n",
        "aqp = Plot()\n",
        "fpr_plot = aqp.plot_group_metric(xtab, 'precision')"
      ],
      "metadata": {
        "colab": {
          "base_uri": "https://localhost:8080/",
          "height": 370
        },
        "id": "UL4u_2X5j2RH",
        "outputId": "c313d4cc-bc13-4533-b80d-9d7fe4aa2acd"
      },
      "execution_count": 76,
      "outputs": [
        {
          "output_type": "display_data",
          "data": {
            "text/plain": [
              "<Figure size 720x360 with 1 Axes>"
            ],
            "image/png": "[encoded data removed]"
          },
          "metadata": {}
        }
      ]
    },
    {
      "cell_type": "code",
      "source": [
        "absolute_metrics = g.list_absolute_metrics(xtab)\n",
        "xtab[['attribute_name', 'attribute_value'] + absolute_metrics]"
      ],
      "metadata": {
        "colab": {
          "base_uri": "https://localhost:8080/",
          "height": 112
        },
        "id": "6EGNxpkEcuL5",
        "outputId": "0092d81c-5a41-44c4-cf2d-792f7e3a10bf"
      },
      "execution_count": 77,
      "outputs": [
        {
          "output_type": "execute_result",
          "data": {
            "text/plain": [
              "        attribute_name attribute_value       tpr       tnr       for  \\\n",
              "0  Personal_status_sex               0  0.889764  0.500000  0.358974   \n",
              "1  Personal_status_sex               1  0.941176  0.409091  0.250000   \n",
              "\n",
              "        fdr       fpr       fnr       npv  precision       ppr     pprev  \\\n",
              "0  0.181159  0.500000  0.110236  0.641026   0.818841  0.693467  0.779661   \n",
              "1  0.213115  0.590909  0.058824  0.750000   0.786885  0.306533  0.835616   \n",
              "\n",
              "       prev  \n",
              "0  0.717514  \n",
              "1  0.698630  "
            ],
            "text/html": [
              "\n",
              "  <div id=\"df-78695b1b-d7e5-4131-949d-a721b0ab320e\">\n",
              "    <div class=\"colab-df-container\">\n",
              "      <div>\n",
              "<style scoped>\n",
              "    .dataframe tbody tr th:only-of-type {\n",
              "        vertical-align: middle;\n",
              "    }\n",
              "\n",
              "    .dataframe tbody tr th {\n",
              "        vertical-align: top;\n",
              "    }\n",
              "\n",
              "    .dataframe thead th {\n",
              "        text-align: right;\n",
              "    }\n",
              "</style>\n",
              "<table border=\"1\" class=\"dataframe\">\n",
              "  <thead>\n",
              "    <tr style=\"text-align: right;\">\n",
              "      <th></th>\n",
              "      <th>attribute_name</th>\n",
              "      <th>attribute_value</th>\n",
              "      <th>tpr</th>\n",
              "      <th>tnr</th>\n",
              "      <th>for</th>\n",
              "      <th>fdr</th>\n",
              "      <th>fpr</th>\n",
              "      <th>fnr</th>\n",
              "      <th>npv</th>\n",
              "      <th>precision</th>\n",
              "      <th>ppr</th>\n",
              "      <th>pprev</th>\n",
              "      <th>prev</th>\n",
              "    </tr>\n",
              "  </thead>\n",
              "  <tbody>\n",
              "    <tr>\n",
              "      <th>0</th>\n",
              "      <td>Personal_status_sex</td>\n",
              "      <td>0</td>\n",
              "      <td>0.889764</td>\n",
              "      <td>0.500000</td>\n",
              "      <td>0.358974</td>\n",
              "      <td>0.181159</td>\n",
              "      <td>0.500000</td>\n",
              "      <td>0.110236</td>\n",
              "      <td>0.641026</td>\n",
              "      <td>0.818841</td>\n",
              "      <td>0.693467</td>\n",
              "      <td>0.779661</td>\n",
              "      <td>0.717514</td>\n",
              "    </tr>\n",
              "    <tr>\n",
              "      <th>1</th>\n",
              "      <td>Personal_status_sex</td>\n",
              "      <td>1</td>\n",
              "      <td>0.941176</td>\n",
              "      <td>0.409091</td>\n",
              "      <td>0.250000</td>\n",
              "      <td>0.213115</td>\n",
              "      <td>0.590909</td>\n",
              "      <td>0.058824</td>\n",
              "      <td>0.750000</td>\n",
              "      <td>0.786885</td>\n",
              "      <td>0.306533</td>\n",
              "      <td>0.835616</td>\n",
              "      <td>0.698630</td>\n",
              "    </tr>\n",
              "  </tbody>\n",
              "</table>\n",
              "</div>\n",
              "      <button class=\"colab-df-convert\" onclick=\"convertToInteractive('df-78695b1b-d7e5-4131-949d-a721b0ab320e')\"\n",
              "              title=\"Convert this dataframe to an interactive table.\"\n",
              "              style=\"display:none;\">\n",
              "        \n",
              "  <svg xmlns=\"http://www.w3.org/2000/svg\" height=\"24px\"viewBox=\"0 0 24 24\"\n",
              "       width=\"24px\">\n",
              "    <path d=\"M0 0h24v24H0V0z\" fill=\"none\"/>\n",
              "    <path d=\"M18.56 5.44l.94 2.06.94-2.06 2.06-.94-2.06-.94-.94-2.06-.94 2.06-2.06.94zm-11 1L8.5 8.5l.94-2.06 2.06-.94-2.06-.94L8.5 2.5l-.94 2.06-2.06.94zm10 10l.94 2.06.94-2.06 2.06-.94-2.06-.94-.94-2.06-.94 2.06-2.06.94z\"/><path d=\"M17.41 7.96l-1.37-1.37c-.4-.4-.92-.59-1.43-.59-.52 0-1.04.2-1.43.59L10.3 9.45l-7.72 7.72c-.78.78-.78 2.05 0 2.83L4 21.41c.39.39.9.59 1.41.59.51 0 1.02-.2 1.41-.59l7.78-7.78 2.81-2.81c.8-.78.8-2.07 0-2.86zM5.41 20L4 18.59l7.72-7.72 1.47 1.35L5.41 20z\"/>\n",
              "  </svg>\n",
              "      </button>\n",
              "      \n",
              "  <style>\n",
              "    .colab-df-container {\n",
              "      display:flex;\n",
              "      flex-wrap:wrap;\n",
              "      gap: 12px;\n",
              "    }\n",
              "\n",
              "    .colab-df-convert {\n",
              "      background-color: #E8F0FE;\n",
              "      border: none;\n",
              "      border-radius: 50%;\n",
              "      cursor: pointer;\n",
              "      display: none;\n",
              "      fill: #1967D2;\n",
              "      height: 32px;\n",
              "      padding: 0 0 0 0;\n",
              "      width: 32px;\n",
              "    }\n",
              "\n",
              "    .colab-df-convert:hover {\n",
              "      background-color: #E2EBFA;\n",
              "      box-shadow: 0px 1px 2px rgba(60, 64, 67, 0.3), 0px 1px 3px 1px rgba(60, 64, 67, 0.15);\n",
              "      fill: #174EA6;\n",
              "    }\n",
              "\n",
              "    [theme=dark] .colab-df-convert {\n",
              "      background-color: #3B4455;\n",
              "      fill: #D2E3FC;\n",
              "    }\n",
              "\n",
              "    [theme=dark] .colab-df-convert:hover {\n",
              "      background-color: #434B5C;\n",
              "      box-shadow: 0px 1px 3px 1px rgba(0, 0, 0, 0.15);\n",
              "      filter: drop-shadow(0px 1px 2px rgba(0, 0, 0, 0.3));\n",
              "      fill: #FFFFFF;\n",
              "    }\n",
              "  </style>\n",
              "\n",
              "      <script>\n",
              "        const buttonEl =\n",
              "          document.querySelector('#df-78695b1b-d7e5-4131-949d-a721b0ab320e button.colab-df-convert');\n",
              "        buttonEl.style.display =\n",
              "          google.colab.kernel.accessAllowed ? 'block' : 'none';\n",
              "\n",
              "        async function convertToInteractive(key) {\n",
              "          const element = document.querySelector('#df-78695b1b-d7e5-4131-949d-a721b0ab320e');\n",
              "          const dataTable =\n",
              "            await google.colab.kernel.invokeFunction('convertToInteractive',\n",
              "                                                     [key], {});\n",
              "          if (!dataTable) return;\n",
              "\n",
              "          const docLinkHtml = 'Like what you see? Visit the ' +\n",
              "            '<a target=\"_blank\" href=https://colab.research.google.com/notebooks/data_table.ipynb>data table notebook</a>'\n",
              "            + ' to learn more about interactive tables.';\n",
              "          element.innerHTML = '';\n",
              "          dataTable['output_type'] = 'display_data';\n",
              "          await google.colab.output.renderOutput(dataTable, element);\n",
              "          const docLink = document.createElement('div');\n",
              "          docLink.innerHTML = docLinkHtml;\n",
              "          element.appendChild(docLink);\n",
              "        }\n",
              "      </script>\n",
              "    </div>\n",
              "  </div>\n",
              "  "
            ]
          },
          "metadata": {},
          "execution_count": 77
        }
      ]
    },
    {
      "cell_type": "code",
      "source": [
        "bdf[['attribute_name', 'attribute_value'] + b.list_disparities(bdf)]"
      ],
      "metadata": {
        "colab": {
          "base_uri": "https://localhost:8080/",
          "height": 176
        },
        "id": "6JW1wrDdc8fs",
        "outputId": "000a978f-137b-49b9-977e-08eee31e806a"
      },
      "execution_count": 78,
      "outputs": [
        {
          "output_type": "execute_result",
          "data": {
            "text/plain": [
              "        attribute_name attribute_value  ppr_disparity  pprev_disparity  \\\n",
              "0  Personal_status_sex               0       1.000000         1.000000   \n",
              "1  Personal_status_sex               1       0.442029         1.071769   \n",
              "\n",
              "   precision_disparity  fdr_disparity  for_disparity  fpr_disparity  \\\n",
              "0             1.000000       1.000000       1.000000       1.000000   \n",
              "1             0.960975       1.176393       0.696429       1.181818   \n",
              "\n",
              "   fnr_disparity  tpr_disparity  tnr_disparity  npv_disparity  \n",
              "0       1.000000       1.000000       1.000000           1.00  \n",
              "1       0.533613       1.057782       0.818182           1.17  "
            ],
            "text/html": [
              "\n",
              "  <div id=\"df-db5d7181-839f-4ab9-9ab4-7b4b4bc84b01\">\n",
              "    <div class=\"colab-df-container\">\n",
              "      <div>\n",
              "<style scoped>\n",
              "    .dataframe tbody tr th:only-of-type {\n",
              "        vertical-align: middle;\n",
              "    }\n",
              "\n",
              "    .dataframe tbody tr th {\n",
              "        vertical-align: top;\n",
              "    }\n",
              "\n",
              "    .dataframe thead th {\n",
              "        text-align: right;\n",
              "    }\n",
              "</style>\n",
              "<table border=\"1\" class=\"dataframe\">\n",
              "  <thead>\n",
              "    <tr style=\"text-align: right;\">\n",
              "      <th></th>\n",
              "      <th>attribute_name</th>\n",
              "      <th>attribute_value</th>\n",
              "      <th>ppr_disparity</th>\n",
              "      <th>pprev_disparity</th>\n",
              "      <th>precision_disparity</th>\n",
              "      <th>fdr_disparity</th>\n",
              "      <th>for_disparity</th>\n",
              "      <th>fpr_disparity</th>\n",
              "      <th>fnr_disparity</th>\n",
              "      <th>tpr_disparity</th>\n",
              "      <th>tnr_disparity</th>\n",
              "      <th>npv_disparity</th>\n",
              "    </tr>\n",
              "  </thead>\n",
              "  <tbody>\n",
              "    <tr>\n",
              "      <th>0</th>\n",
              "      <td>Personal_status_sex</td>\n",
              "      <td>0</td>\n",
              "      <td>1.000000</td>\n",
              "      <td>1.000000</td>\n",
              "      <td>1.000000</td>\n",
              "      <td>1.000000</td>\n",
              "      <td>1.000000</td>\n",
              "      <td>1.000000</td>\n",
              "      <td>1.000000</td>\n",
              "      <td>1.000000</td>\n",
              "      <td>1.000000</td>\n",
              "      <td>1.00</td>\n",
              "    </tr>\n",
              "    <tr>\n",
              "      <th>1</th>\n",
              "      <td>Personal_status_sex</td>\n",
              "      <td>1</td>\n",
              "      <td>0.442029</td>\n",
              "      <td>1.071769</td>\n",
              "      <td>0.960975</td>\n",
              "      <td>1.176393</td>\n",
              "      <td>0.696429</td>\n",
              "      <td>1.181818</td>\n",
              "      <td>0.533613</td>\n",
              "      <td>1.057782</td>\n",
              "      <td>0.818182</td>\n",
              "      <td>1.17</td>\n",
              "    </tr>\n",
              "  </tbody>\n",
              "</table>\n",
              "</div>\n",
              "      <button class=\"colab-df-convert\" onclick=\"convertToInteractive('df-db5d7181-839f-4ab9-9ab4-7b4b4bc84b01')\"\n",
              "              title=\"Convert this dataframe to an interactive table.\"\n",
              "              style=\"display:none;\">\n",
              "        \n",
              "  <svg xmlns=\"http://www.w3.org/2000/svg\" height=\"24px\"viewBox=\"0 0 24 24\"\n",
              "       width=\"24px\">\n",
              "    <path d=\"M0 0h24v24H0V0z\" fill=\"none\"/>\n",
              "    <path d=\"M18.56 5.44l.94 2.06.94-2.06 2.06-.94-2.06-.94-.94-2.06-.94 2.06-2.06.94zm-11 1L8.5 8.5l.94-2.06 2.06-.94-2.06-.94L8.5 2.5l-.94 2.06-2.06.94zm10 10l.94 2.06.94-2.06 2.06-.94-2.06-.94-.94-2.06-.94 2.06-2.06.94z\"/><path d=\"M17.41 7.96l-1.37-1.37c-.4-.4-.92-.59-1.43-.59-.52 0-1.04.2-1.43.59L10.3 9.45l-7.72 7.72c-.78.78-.78 2.05 0 2.83L4 21.41c.39.39.9.59 1.41.59.51 0 1.02-.2 1.41-.59l7.78-7.78 2.81-2.81c.8-.78.8-2.07 0-2.86zM5.41 20L4 18.59l7.72-7.72 1.47 1.35L5.41 20z\"/>\n",
              "  </svg>\n",
              "      </button>\n",
              "      \n",
              "  <style>\n",
              "    .colab-df-container {\n",
              "      display:flex;\n",
              "      flex-wrap:wrap;\n",
              "      gap: 12px;\n",
              "    }\n",
              "\n",
              "    .colab-df-convert {\n",
              "      background-color: #E8F0FE;\n",
              "      border: none;\n",
              "      border-radius: 50%;\n",
              "      cursor: pointer;\n",
              "      display: none;\n",
              "      fill: #1967D2;\n",
              "      height: 32px;\n",
              "      padding: 0 0 0 0;\n",
              "      width: 32px;\n",
              "    }\n",
              "\n",
              "    .colab-df-convert:hover {\n",
              "      background-color: #E2EBFA;\n",
              "      box-shadow: 0px 1px 2px rgba(60, 64, 67, 0.3), 0px 1px 3px 1px rgba(60, 64, 67, 0.15);\n",
              "      fill: #174EA6;\n",
              "    }\n",
              "\n",
              "    [theme=dark] .colab-df-convert {\n",
              "      background-color: #3B4455;\n",
              "      fill: #D2E3FC;\n",
              "    }\n",
              "\n",
              "    [theme=dark] .colab-df-convert:hover {\n",
              "      background-color: #434B5C;\n",
              "      box-shadow: 0px 1px 3px 1px rgba(0, 0, 0, 0.15);\n",
              "      filter: drop-shadow(0px 1px 2px rgba(0, 0, 0, 0.3));\n",
              "      fill: #FFFFFF;\n",
              "    }\n",
              "  </style>\n",
              "\n",
              "      <script>\n",
              "        const buttonEl =\n",
              "          document.querySelector('#df-db5d7181-839f-4ab9-9ab4-7b4b4bc84b01 button.colab-df-convert');\n",
              "        buttonEl.style.display =\n",
              "          google.colab.kernel.accessAllowed ? 'block' : 'none';\n",
              "\n",
              "        async function convertToInteractive(key) {\n",
              "          const element = document.querySelector('#df-db5d7181-839f-4ab9-9ab4-7b4b4bc84b01');\n",
              "          const dataTable =\n",
              "            await google.colab.kernel.invokeFunction('convertToInteractive',\n",
              "                                                     [key], {});\n",
              "          if (!dataTable) return;\n",
              "\n",
              "          const docLinkHtml = 'Like what you see? Visit the ' +\n",
              "            '<a target=\"_blank\" href=https://colab.research.google.com/notebooks/data_table.ipynb>data table notebook</a>'\n",
              "            + ' to learn more about interactive tables.';\n",
              "          element.innerHTML = '';\n",
              "          dataTable['output_type'] = 'display_data';\n",
              "          await google.colab.output.renderOutput(dataTable, element);\n",
              "          const docLink = document.createElement('div');\n",
              "          docLink.innerHTML = docLinkHtml;\n",
              "          element.appendChild(docLink);\n",
              "        }\n",
              "      </script>\n",
              "    </div>\n",
              "  </div>\n",
              "  "
            ]
          },
          "metadata": {},
          "execution_count": 78
        }
      ]
    },
    {
      "cell_type": "markdown",
      "source": [
        "## Conclusion\n",
        "Aequitas is a good tool to calculate the fairness metrics and compare them for the privileged and unprivileged groups. In this notebook, metrics for male and female groups were compared using the german data for credit score. The same analysis could be done with the group of divorced men in order to check for possible bias against them. "
      ],
      "metadata": {
        "id": "XEfqeusQpfgY"
      }
    },
    {
      "cell_type": "markdown",
      "source": [
        "\n",
        "---\n",
        "\n"
      ],
      "metadata": {
        "id": "55tIX9n_hpH6"
      }
    },
    {
      "cell_type": "markdown",
      "source": [
        "#Fairness through Unawareness\n",
        "The method consists in removing the column that contains/generates the BIAS. In this case, we will remove the Personal_status_sex column. After training the model without the gender/marital status information, we can compare the fairness metrics. "
      ],
      "metadata": {
        "id": "_1F5tRITe7gN"
      }
    },
    {
      "cell_type": "code",
      "source": [
        "# Fairness through Unawareness: Removing the Sensitive column\n",
        "Removedcol = X_test.Personal_status_sex # we will need this column later \n",
        "X_train=X_train.drop(['Personal_status_sex'], axis=1)\n",
        "X_test=X_test.drop(['Personal_status_sex'], axis=1)\n"
      ],
      "metadata": {
        "id": "1O8mEE3XB13R"
      },
      "execution_count": 79,
      "outputs": []
    },
    {
      "cell_type": "code",
      "source": [
        "X_train.shape"
      ],
      "metadata": {
        "colab": {
          "base_uri": "https://localhost:8080/"
        },
        "id": "lah8UN0DtDZk",
        "outputId": "434962ec-8757-4425-9ee8-be9f4909d1e6"
      },
      "execution_count": 81,
      "outputs": [
        {
          "output_type": "execute_result",
          "data": {
            "text/plain": [
              "(750, 19)"
            ]
          },
          "metadata": {},
          "execution_count": 81
        }
      ]
    },
    {
      "cell_type": "code",
      "source": [
        "# Model - XGBoost - First we need to prepare the data for XGBoost:\n",
        "xgboost_train_data = xgb.DMatrix(X_train, label=y_train.astype('category').cat.codes)"
      ],
      "metadata": {
        "id": "_vYULd4UB1cW"
      },
      "execution_count": 82,
      "outputs": []
    },
    {
      "cell_type": "code",
      "source": [
        "# XGBClassifier - XGB Classifier - a boosted ensemble of classifiers\n",
        "reg = xgb.XGBClassifier()\n",
        "xgb_clf = reg.fit(X_train, y_train)\n",
        "\n",
        "preds = xgb_clf.predict(X_test)\n",
        "show_results(y_test, preds) "
      ],
      "metadata": {
        "colab": {
          "base_uri": "https://localhost:8080/",
          "height": 559
        },
        "id": "9EzE-FSnDvZh",
        "outputId": "044ef2f1-070e-4bf2-9202-5c01095249da"
      },
      "execution_count": 83,
      "outputs": [
        {
          "output_type": "stream",
          "name": "stdout",
          "text": [
            "mcc score: 0.4357930791898005\n",
            "              precision    recall  f1-score   support\n",
            "\n",
            "           1       0.81      0.90      0.86       178\n",
            "           2       0.67      0.49      0.56        72\n",
            "\n",
            "    accuracy                           0.78       250\n",
            "   macro avg       0.74      0.70      0.71       250\n",
            "weighted avg       0.77      0.78      0.77       250\n",
            "\n"
          ]
        },
        {
          "output_type": "display_data",
          "data": {
            "text/plain": [
              "<Figure size 576x432 with 2 Axes>"
            ],
            "image/png": "[encoded data removed]"
          },
          "metadata": {}
        }
      ]
    },
    {
      "cell_type": "code",
      "source": [
        "X_test['Personal_status_sex'] = Removedcol"
      ],
      "metadata": {
        "id": "KuhSBEFycgLh"
      },
      "execution_count": 84,
      "outputs": []
    },
    {
      "cell_type": "code",
      "source": [
        "X_test.head()"
      ],
      "metadata": {
        "colab": {
          "base_uri": "https://localhost:8080/",
          "height": 270
        },
        "id": "kbOEUDCEc0Sq",
        "outputId": "2cbf743f-80ab-4e67-f595-fc65cc084bbb"
      },
      "execution_count": 85,
      "outputs": [
        {
          "output_type": "execute_result",
          "data": {
            "text/plain": [
              "     Checking_account  Duration_months  Credit_history  Purpose  \\\n",
              "521                 0               18               2        4   \n",
              "737                 0               18               2        0   \n",
              "740                 0               24               1        0   \n",
              "660                 2               12               2        4   \n",
              "411                 3               33               4        1   \n",
              "\n",
              "     Credit_amount  Savings  Present_employment_since  Installment_rate  \\\n",
              "521           3190        0                         2                 2   \n",
              "737           4380        1                         2                 3   \n",
              "740           2325        1                         3                 2   \n",
              "660           1297        0                         2                 3   \n",
              "411           7253        0                         3                 3   \n",
              "\n",
              "     Other_debtors  Present_residence_since  Property  Age  \\\n",
              "521              0                        2         0   24   \n",
              "737              0                        4         2   35   \n",
              "740              0                        3         2   32   \n",
              "660              0                        4         0   23   \n",
              "411              0                        2         2   35   \n",
              "\n",
              "     Other_installment_plans  Housing  existing_credits  Job  \\\n",
              "521                        2        1                 1    2   \n",
              "737                        2        1                 1    1   \n",
              "740                        0        1                 1    2   \n",
              "660                        2        0                 1    2   \n",
              "411                        2        1                 2    3   \n",
              "\n",
              "     People_provide_maintenance_for  Telephone  foreign_worker  \\\n",
              "521                               1          0               0   \n",
              "737                               2          1               0   \n",
              "740                               1          0               0   \n",
              "660                               1          0               0   \n",
              "411                               1          1               0   \n",
              "\n",
              "     Personal_status_sex  \n",
              "521                    1  \n",
              "737                    2  \n",
              "740                    2  \n",
              "660                    3  \n",
              "411                    2  "
            ],
            "text/html": [
              "\n",
              "  <div id=\"df-6e162122-3f02-4f23-b7a7-46ce40819787\">\n",
              "    <div class=\"colab-df-container\">\n",
              "      <div>\n",
              "<style scoped>\n",
              "    .dataframe tbody tr th:only-of-type {\n",
              "        vertical-align: middle;\n",
              "    }\n",
              "\n",
              "    .dataframe tbody tr th {\n",
              "        vertical-align: top;\n",
              "    }\n",
              "\n",
              "    .dataframe thead th {\n",
              "        text-align: right;\n",
              "    }\n",
              "</style>\n",
              "<table border=\"1\" class=\"dataframe\">\n",
              "  <thead>\n",
              "    <tr style=\"text-align: right;\">\n",
              "      <th></th>\n",
              "      <th>Checking_account</th>\n",
              "      <th>Duration_months</th>\n",
              "      <th>Credit_history</th>\n",
              "      <th>Purpose</th>\n",
              "      <th>Credit_amount</th>\n",
              "      <th>Savings</th>\n",
              "      <th>Present_employment_since</th>\n",
              "      <th>Installment_rate</th>\n",
              "      <th>Other_debtors</th>\n",
              "      <th>Present_residence_since</th>\n",
              "      <th>Property</th>\n",
              "      <th>Age</th>\n",
              "      <th>Other_installment_plans</th>\n",
              "      <th>Housing</th>\n",
              "      <th>existing_credits</th>\n",
              "      <th>Job</th>\n",
              "      <th>People_provide_maintenance_for</th>\n",
              "      <th>Telephone</th>\n",
              "      <th>foreign_worker</th>\n",
              "      <th>Personal_status_sex</th>\n",
              "    </tr>\n",
              "  </thead>\n",
              "  <tbody>\n",
              "    <tr>\n",
              "      <th>521</th>\n",
              "      <td>0</td>\n",
              "      <td>18</td>\n",
              "      <td>2</td>\n",
              "      <td>4</td>\n",
              "      <td>3190</td>\n",
              "      <td>0</td>\n",
              "      <td>2</td>\n",
              "      <td>2</td>\n",
              "      <td>0</td>\n",
              "      <td>2</td>\n",
              "      <td>0</td>\n",
              "      <td>24</td>\n",
              "      <td>2</td>\n",
              "      <td>1</td>\n",
              "      <td>1</td>\n",
              "      <td>2</td>\n",
              "      <td>1</td>\n",
              "      <td>0</td>\n",
              "      <td>0</td>\n",
              "      <td>1</td>\n",
              "    </tr>\n",
              "    <tr>\n",
              "      <th>737</th>\n",
              "      <td>0</td>\n",
              "      <td>18</td>\n",
              "      <td>2</td>\n",
              "      <td>0</td>\n",
              "      <td>4380</td>\n",
              "      <td>1</td>\n",
              "      <td>2</td>\n",
              "      <td>3</td>\n",
              "      <td>0</td>\n",
              "      <td>4</td>\n",
              "      <td>2</td>\n",
              "      <td>35</td>\n",
              "      <td>2</td>\n",
              "      <td>1</td>\n",
              "      <td>1</td>\n",
              "      <td>1</td>\n",
              "      <td>2</td>\n",
              "      <td>1</td>\n",
              "      <td>0</td>\n",
              "      <td>2</td>\n",
              "    </tr>\n",
              "    <tr>\n",
              "      <th>740</th>\n",
              "      <td>0</td>\n",
              "      <td>24</td>\n",
              "      <td>1</td>\n",
              "      <td>0</td>\n",
              "      <td>2325</td>\n",
              "      <td>1</td>\n",
              "      <td>3</td>\n",
              "      <td>2</td>\n",
              "      <td>0</td>\n",
              "      <td>3</td>\n",
              "      <td>2</td>\n",
              "      <td>32</td>\n",
              "      <td>0</td>\n",
              "      <td>1</td>\n",
              "      <td>1</td>\n",
              "      <td>2</td>\n",
              "      <td>1</td>\n",
              "      <td>0</td>\n",
              "      <td>0</td>\n",
              "      <td>2</td>\n",
              "    </tr>\n",
              "    <tr>\n",
              "      <th>660</th>\n",
              "      <td>2</td>\n",
              "      <td>12</td>\n",
              "      <td>2</td>\n",
              "      <td>4</td>\n",
              "      <td>1297</td>\n",
              "      <td>0</td>\n",
              "      <td>2</td>\n",
              "      <td>3</td>\n",
              "      <td>0</td>\n",
              "      <td>4</td>\n",
              "      <td>0</td>\n",
              "      <td>23</td>\n",
              "      <td>2</td>\n",
              "      <td>0</td>\n",
              "      <td>1</td>\n",
              "      <td>2</td>\n",
              "      <td>1</td>\n",
              "      <td>0</td>\n",
              "      <td>0</td>\n",
              "      <td>3</td>\n",
              "    </tr>\n",
              "    <tr>\n",
              "      <th>411</th>\n",
              "      <td>3</td>\n",
              "      <td>33</td>\n",
              "      <td>4</td>\n",
              "      <td>1</td>\n",
              "      <td>7253</td>\n",
              "      <td>0</td>\n",
              "      <td>3</td>\n",
              "      <td>3</td>\n",
              "      <td>0</td>\n",
              "      <td>2</td>\n",
              "      <td>2</td>\n",
              "      <td>35</td>\n",
              "      <td>2</td>\n",
              "      <td>1</td>\n",
              "      <td>2</td>\n",
              "      <td>3</td>\n",
              "      <td>1</td>\n",
              "      <td>1</td>\n",
              "      <td>0</td>\n",
              "      <td>2</td>\n",
              "    </tr>\n",
              "  </tbody>\n",
              "</table>\n",
              "</div>\n",
              "      <button class=\"colab-df-convert\" onclick=\"convertToInteractive('df-6e162122-3f02-4f23-b7a7-46ce40819787')\"\n",
              "              title=\"Convert this dataframe to an interactive table.\"\n",
              "              style=\"display:none;\">\n",
              "        \n",
              "  <svg xmlns=\"http://www.w3.org/2000/svg\" height=\"24px\"viewBox=\"0 0 24 24\"\n",
              "       width=\"24px\">\n",
              "    <path d=\"M0 0h24v24H0V0z\" fill=\"none\"/>\n",
              "    <path d=\"M18.56 5.44l.94 2.06.94-2.06 2.06-.94-2.06-.94-.94-2.06-.94 2.06-2.06.94zm-11 1L8.5 8.5l.94-2.06 2.06-.94-2.06-.94L8.5 2.5l-.94 2.06-2.06.94zm10 10l.94 2.06.94-2.06 2.06-.94-2.06-.94-.94-2.06-.94 2.06-2.06.94z\"/><path d=\"M17.41 7.96l-1.37-1.37c-.4-.4-.92-.59-1.43-.59-.52 0-1.04.2-1.43.59L10.3 9.45l-7.72 7.72c-.78.78-.78 2.05 0 2.83L4 21.41c.39.39.9.59 1.41.59.51 0 1.02-.2 1.41-.59l7.78-7.78 2.81-2.81c.8-.78.8-2.07 0-2.86zM5.41 20L4 18.59l7.72-7.72 1.47 1.35L5.41 20z\"/>\n",
              "  </svg>\n",
              "      </button>\n",
              "      \n",
              "  <style>\n",
              "    .colab-df-container {\n",
              "      display:flex;\n",
              "      flex-wrap:wrap;\n",
              "      gap: 12px;\n",
              "    }\n",
              "\n",
              "    .colab-df-convert {\n",
              "      background-color: #E8F0FE;\n",
              "      border: none;\n",
              "      border-radius: 50%;\n",
              "      cursor: pointer;\n",
              "      display: none;\n",
              "      fill: #1967D2;\n",
              "      height: 32px;\n",
              "      padding: 0 0 0 0;\n",
              "      width: 32px;\n",
              "    }\n",
              "\n",
              "    .colab-df-convert:hover {\n",
              "      background-color: #E2EBFA;\n",
              "      box-shadow: 0px 1px 2px rgba(60, 64, 67, 0.3), 0px 1px 3px 1px rgba(60, 64, 67, 0.15);\n",
              "      fill: #174EA6;\n",
              "    }\n",
              "\n",
              "    [theme=dark] .colab-df-convert {\n",
              "      background-color: #3B4455;\n",
              "      fill: #D2E3FC;\n",
              "    }\n",
              "\n",
              "    [theme=dark] .colab-df-convert:hover {\n",
              "      background-color: #434B5C;\n",
              "      box-shadow: 0px 1px 3px 1px rgba(0, 0, 0, 0.15);\n",
              "      filter: drop-shadow(0px 1px 2px rgba(0, 0, 0, 0.3));\n",
              "      fill: #FFFFFF;\n",
              "    }\n",
              "  </style>\n",
              "\n",
              "      <script>\n",
              "        const buttonEl =\n",
              "          document.querySelector('#df-6e162122-3f02-4f23-b7a7-46ce40819787 button.colab-df-convert');\n",
              "        buttonEl.style.display =\n",
              "          google.colab.kernel.accessAllowed ? 'block' : 'none';\n",
              "\n",
              "        async function convertToInteractive(key) {\n",
              "          const element = document.querySelector('#df-6e162122-3f02-4f23-b7a7-46ce40819787');\n",
              "          const dataTable =\n",
              "            await google.colab.kernel.invokeFunction('convertToInteractive',\n",
              "                                                     [key], {});\n",
              "          if (!dataTable) return;\n",
              "\n",
              "          const docLinkHtml = 'Like what you see? Visit the ' +\n",
              "            '<a target=\"_blank\" href=https://colab.research.google.com/notebooks/data_table.ipynb>data table notebook</a>'\n",
              "            + ' to learn more about interactive tables.';\n",
              "          element.innerHTML = '';\n",
              "          dataTable['output_type'] = 'display_data';\n",
              "          await google.colab.output.renderOutput(dataTable, element);\n",
              "          const docLink = document.createElement('div');\n",
              "          docLink.innerHTML = docLinkHtml;\n",
              "          element.appendChild(docLink);\n",
              "        }\n",
              "      </script>\n",
              "    </div>\n",
              "  </div>\n",
              "  "
            ]
          },
          "metadata": {},
          "execution_count": 85
        }
      ]
    },
    {
      "cell_type": "code",
      "source": [
        "# Aequitas Fairness Metrics \n",
        "# First we need to prepare the table with preds, y_test and X_test\n",
        "df_fair = X_test.copy()\n",
        "df_fair['score'] = preds\n",
        "df_fair['label_value'] = y_test\n",
        "df_fair = df_fair[['score','label_value','Checking_account', 'Duration_months', 'Credit_history', \n",
        "                 'Purpose', 'Credit_amount', 'Savings', 'Present_employment_since', 'Installment_rate', \n",
        "                 'Personal_status_sex', 'Other_debtors','Present_residence_since','Property', 'Age', \n",
        "                 'Other_installment_plans','Housing','existing_credits','Job','People_provide_maintenance_for',\n",
        "                 'Telephone','foreign_worker']]\n",
        "df_fair.score.replace(2,0, inplace=True) # replace 2 by 0(zero)\n",
        "df_fair.label_value.replace(2,0, inplace=True) # replace 2 by 0(zero) \n",
        "df_fair.Personal_status_sex.replace(2,0, inplace=True) \n",
        "df_fair.Personal_status_sex.replace(3,0, inplace=True) "
      ],
      "metadata": {
        "id": "h_xYhLN5pSOS"
      },
      "execution_count": 86,
      "outputs": []
    },
    {
      "cell_type": "code",
      "source": [
        "# Verify the counts: should have \n",
        "df_fair.Personal_status_sex.value_counts()"
      ],
      "metadata": {
        "colab": {
          "base_uri": "https://localhost:8080/"
        },
        "outputId": "e9fe4d57-baf5-46c3-a66c-1c943b0607ba",
        "id": "bY4Hbj7KpSOg"
      },
      "execution_count": 87,
      "outputs": [
        {
          "output_type": "execute_result",
          "data": {
            "text/plain": [
              "0    177\n",
              "1     73\n",
              "Name: Personal_status_sex, dtype: int64"
            ]
          },
          "metadata": {},
          "execution_count": 87
        }
      ]
    },
    {
      "cell_type": "code",
      "source": [
        "X_test.Personal_status_sex.value_counts()"
      ],
      "metadata": {
        "colab": {
          "base_uri": "https://localhost:8080/"
        },
        "outputId": "ec02d03a-52b4-4ae6-94d3-7d2b28519a2b",
        "id": "8Fi4gbE_pSOh"
      },
      "execution_count": 88,
      "outputs": [
        {
          "output_type": "execute_result",
          "data": {
            "text/plain": [
              "2    134\n",
              "1     73\n",
              "3     23\n",
              "0     20\n",
              "Name: Personal_status_sex, dtype: int64"
            ]
          },
          "metadata": {},
          "execution_count": 88
        }
      ]
    },
    {
      "cell_type": "code",
      "source": [
        "# Make sure that categorical columns are of type 'string'\n",
        "    \n",
        "col_names = ['Checking_account', 'Credit_history', 'Purpose', 'Savings',\n",
        "       'Present_employment_since', 'Personal_status_sex', 'Other_debtors',\n",
        "       'Property', 'Other_installment_plans', 'Housing', 'Job', 'Telephone',\n",
        "       'foreign_worker']\n",
        "for col in col_names:\n",
        "  df_fair[col] = df_fair[col].astype(str)"
      ],
      "metadata": {
        "id": "STwRYQ29pSOj"
      },
      "execution_count": 89,
      "outputs": []
    },
    {
      "cell_type": "code",
      "source": [
        "from aequitas.preprocessing import preprocess_input_df\n",
        "\n",
        "df, _ = preprocess_input_df(df_fair)"
      ],
      "metadata": {
        "id": "KKiJt19apkt2"
      },
      "execution_count": 90,
      "outputs": []
    },
    {
      "cell_type": "code",
      "source": [
        "from aequitas.group import Group\n",
        "from aequitas.bias import Bias\n",
        "from aequitas.fairness import Fairness\n",
        "import aequitas.plot as ap"
      ],
      "metadata": {
        "id": "FzeoSf-mp7FA"
      },
      "execution_count": 91,
      "outputs": []
    },
    {
      "cell_type": "code",
      "source": [
        "attributes_and_reference_groups={'Personal_status_sex':'0'}\n",
        "attributes_to_audit = list(attributes_and_reference_groups.keys())"
      ],
      "metadata": {
        "id": "iNR67Az1p7FB"
      },
      "execution_count": 92,
      "outputs": []
    },
    {
      "cell_type": "code",
      "source": [
        "metrics = ['precision']"
      ],
      "metadata": {
        "id": "z2w6Po3Zp7FB"
      },
      "execution_count": 93,
      "outputs": []
    },
    {
      "cell_type": "code",
      "source": [
        "disparity_tolerance = 1.20"
      ],
      "metadata": {
        "id": "4Zk0W_OUp7FB"
      },
      "execution_count": 94,
      "outputs": []
    },
    {
      "cell_type": "code",
      "source": [
        "# Initialize Aequitas\n",
        "g = Group()\n",
        "b = Bias()\n",
        "\n",
        "# get_crosstabs returns a dataframe of the group counts and group value bias metrics.\n",
        "xtab, _ = g.get_crosstabs(df, attr_cols=attributes_to_audit)\n",
        "bdf = b.get_disparity_predefined_groups(xtab, original_df=df, ref_groups_dict=attributes_and_reference_groups)"
      ],
      "metadata": {
        "colab": {
          "base_uri": "https://localhost:8080/"
        },
        "outputId": "ba818b7b-7b9b-4d2e-83d1-78b0a3318d6b",
        "id": "Twl0UrI4p7FC"
      },
      "execution_count": 95,
      "outputs": [
        {
          "output_type": "stream",
          "name": "stdout",
          "text": [
            "get_disparity_predefined_group()\n"
          ]
        }
      ]
    },
    {
      "cell_type": "code",
      "source": [
        "ap.disparity(bdf, metrics, 'Personal_status_sex', fairness_threshold = disparity_tolerance)"
      ],
      "metadata": {
        "colab": {
          "base_uri": "https://localhost:8080/",
          "height": 320
        },
        "outputId": "d528c673-cfbc-4b87-8730-831a192a243f",
        "id": "WP_inkPrp7FC"
      },
      "execution_count": 96,
      "outputs": [
        {
          "output_type": "execute_result",
          "data": {
            "text/html": [
              "\n",
              "<div id=\"altair-viz-2984e02568bb446f801a94444995c32e\"></div>\n",
              "<script type=\"text/javascript\">\n",
              "  (function(spec, embedOpt){\n",
              "    let outputDiv = document.currentScript.previousElementSibling;\n",
              "    if (outputDiv.id !== \"altair-viz-2984e02568bb446f801a94444995c32e\") {\n",
              "      outputDiv = document.getElementById(\"altair-viz-2984e02568bb446f801a94444995c32e\");\n",
              "    }\n",
              "    const paths = {\n",
              "      \"vega\": \"https://cdn.jsdelivr.net/npm//vega@5?noext\",\n",
              "      \"vega-lib\": \"https://cdn.jsdelivr.net/npm//vega-lib?noext\",\n",
              "      \"vega-lite\": \"https://cdn.jsdelivr.net/npm//vega-lite@4.8.1?noext\",\n",
              "      \"vega-embed\": \"https://cdn.jsdelivr.net/npm//vega-embed@6?noext\",\n",
              "    };\n",
              "\n",
              "    function loadScript(lib) {\n",
              "      return new Promise(function(resolve, reject) {\n",
              "        var s = document.createElement('script');\n",
              "        s.src = paths[lib];\n",
              "        s.async = true;\n",
              "        s.onload = () => resolve(paths[lib]);\n",
              "        s.onerror = () => reject(`Error loading script: ${paths[lib]}`);\n",
              "        document.getElementsByTagName(\"head\")[0].appendChild(s);\n",
              "      });\n",
              "    }\n",
              "\n",
              "    function showError(err) {\n",
              "      outputDiv.innerHTML = `<div class=\"error\" style=\"color:red;\">${err}</div>`;\n",
              "      throw err;\n",
              "    }\n",
              "\n",
              "    function displayChart(vegaEmbed) {\n",
              "      vegaEmbed(outputDiv, spec, embedOpt)\n",
              "        .catch(err => showError(`Javascript Error: ${err.message}<br>This usually means there's a typo in your chart specification. See the javascript console for the full traceback.`));\n",
              "    }\n",
              "\n",
              "    if(typeof define === \"function\" && define.amd) {\n",
              "      requirejs.config({paths});\n",
              "      require([\"vega-embed\"], displayChart, err => showError(`Error loading script: ${err.message}`));\n",
              "    } else if (typeof vegaEmbed === \"function\") {\n",
              "      displayChart(vegaEmbed);\n",
              "    } else {\n",
              "      loadScript(\"vega\")\n",
              "        .then(() => loadScript(\"vega-lite\"))\n",
              "        .then(() => loadScript(\"vega-embed\"))\n",
              "        .catch(showError)\n",
              "        .then(() => displayChart(vegaEmbed));\n",
              "    }\n",
              "  })({\"config\": {\"view\": {\"continuousWidth\": 400, \"continuousHeight\": 300, \"strokeWidth\": 0}, \"axisLeft\": {\"labelColor\": \"rgb(117,117,117)\", \"labelFont\": \"Arial\", \"labelFontSize\": 16}, \"title\": {\"align\": \"center\", \"baseline\": \"middle\", \"color\": \"rgb(117,117,117)\", \"font\": \"Arial\", \"fontSize\": 20, \"fontWeight\": \"bold\"}}, \"layer\": [{\"data\": {\"name\": \"data-a27a61e808cb85618ab4a15b8a39420c\"}, \"mark\": {\"type\": \"rule\", \"stroke\": \"rgb(117,117,117)\", \"strokeWidth\": 1.25, \"tooltip\": \"\"}, \"encoding\": {\"x\": {\"type\": \"quantitative\", \"field\": \"x\", \"scale\": {\"domain\": [-2, 2], \"range\": [40.0, 760.0]}}, \"x2\": {\"field\": \"x2\"}, \"y\": {\"type\": \"nominal\", \"axis\": {\"domain\": false, \"labelAngle\": 0, \"labelPadding\": -30, \"orient\": \"left\", \"ticks\": false, \"title\": \"\"}, \"field\": \"metric\", \"scale\": {\"domain\": [\"PRECISION\"], \"range\": [30, 225.0]}}}}, {\"data\": {\"name\": \"data-79dd248bdaa0ea02c535240e8ad022c8\"}, \"mark\": {\"type\": \"rule\", \"stroke\": \"rgb(117,117,117)\", \"strokeDash\": [5, 5], \"strokeWidth\": 1}, \"encoding\": {\"tooltip\": {\"value\": \"0 [REF]\"}, \"x\": {\"value\": 400.0}, \"y\": {\"value\": 20.833333333333336}, \"y2\": {\"value\": 229.16666666666666}}}, {\"data\": {\"name\": \"data-c233327f4cd9b4c2df31bf8015c83e4a\"}, \"mark\": {\"type\": \"text\", \"align\": \"center\", \"color\": \"rgb(117,117,117)\", \"font\": \"Arial\", \"fontSize\": 12, \"fontWeight\": \"normal\", \"tooltip\": \"\"}, \"encoding\": {\"text\": {\"type\": \"nominal\", \"field\": \"label\"}, \"x\": {\"type\": \"quantitative\", \"field\": \"value\", \"scale\": {\"domain\": [-2, 2], \"range\": [40.0, 760.0]}}, \"y\": {\"value\": 17.5}}}, {\"layer\": [{\"mark\": {\"type\": \"text\", \"align\": \"left\", \"fill\": \"rgb(117,117,117)\", \"font\": \"Arial\", \"fontSize\": 12, \"fontWeight\": \"normal\", \"tooltip\": \"\"}, \"encoding\": {\"text\": {\"value\": \"Times Smaller\"}, \"x\": {\"value\": 40.0}, \"y\": {\"value\": 7.5}}}, {\"mark\": {\"type\": \"text\", \"align\": \"right\", \"fill\": \"rgb(117,117,117)\", \"font\": \"Arial\", \"fontSize\": 12, \"fontWeight\": \"normal\", \"tooltip\": \"\"}, \"encoding\": {\"text\": {\"value\": \"Times Larger\"}, \"x\": {\"value\": 760.0}, \"y\": {\"value\": 7.5}}}, {\"mark\": {\"type\": \"text\", \"align\": \"center\", \"fill\": \"rgb(117,117,117)\", \"font\": \"Arial\", \"fontSize\": 12, \"fontWeight\": \"normal\", \"tooltip\": \"\"}, \"encoding\": {\"text\": {\"value\": \"Equal\"}, \"x\": {\"value\": 400.0}, \"y\": {\"value\": 7.5}}}], \"data\": {\"name\": \"data-79dd248bdaa0ea02c535240e8ad022c8\"}}, {\"layer\": [{\"mark\": {\"type\": \"rule\", \"opacity\": 0.8, \"stroke\": \"rgb(217, 46, 28)\", \"strokeWidth\": 1.25, \"tooltip\": \"\"}, \"encoding\": {\"x\": {\"type\": \"quantitative\", \"field\": \"min\", \"scale\": {\"domain\": [-2, 2], \"range\": [40.0, 760.0]}}, \"y\": {\"value\": 25.0}, \"y2\": {\"value\": 225.0}}}, {\"mark\": {\"type\": \"rule\", \"opacity\": 0.8, \"stroke\": \"rgb(217, 46, 28)\", \"strokeWidth\": 1.25, \"tooltip\": \"\"}, \"encoding\": {\"x\": {\"type\": \"quantitative\", \"field\": \"max\", \"scale\": {\"domain\": [-2, 2], \"range\": [40.0, 760.0]}}, \"y\": {\"value\": 25.0}, \"y2\": {\"value\": 225.0}}}, {\"layer\": [{\"mark\": {\"type\": \"rect\", \"fill\": \"rgb(217, 46, 28)\", \"opacity\": 0.1, \"tooltip\": \"\"}, \"encoding\": {\"x\": {\"type\": \"quantitative\", \"field\": \"min\", \"scale\": {\"domain\": [-2, 2], \"range\": [40.0, 760.0]}}, \"x2\": {\"field\": \"lower_end\"}, \"y\": {\"value\": 25.0}, \"y2\": {\"value\": 225.0}}}, {\"mark\": {\"type\": \"rect\", \"fill\": \"rgb(217, 46, 28)\", \"opacity\": 0.1, \"tooltip\": \"\"}, \"encoding\": {\"x\": {\"type\": \"quantitative\", \"field\": \"max\", \"scale\": {\"domain\": [-2, 2], \"range\": [40.0, 760.0]}}, \"x2\": {\"field\": \"upper_end\"}, \"y\": {\"value\": 25.0}, \"y2\": {\"value\": 225.0}}}]}, {\"data\": {\"name\": \"data-79dd248bdaa0ea02c535240e8ad022c8\"}, \"mark\": {\"type\": \"text\", \"align\": \"left\", \"baseline\": \"top\", \"fill\": \"rgb(217, 46, 28)\", \"font\": \"Arial\", \"fontSize\": 12, \"fontWeight\": \"normal\", \"tooltip\": \"\"}, \"encoding\": {\"text\": {\"value\": \"The metric value for any group should not be 1.2 (or more) times smaller or larger than that of the reference group 0.\"}, \"x\": {\"value\": 0}, \"y\": {\"value\": 233.33333333333334}}}], \"data\": {\"name\": \"data-25f3550964acc203f87c85ed125cfad2\"}}, {\"layer\": [{\"mark\": \"circle\"}, {\"data\": {\"name\": \"data-d0849aa91b67fd94bd6d08042a9f52c5\"}, \"mark\": {\"type\": \"circle\", \"opacity\": 0.2}, \"encoding\": {\"color\": {\"condition\": {\"type\": \"nominal\", \"field\": \"attribute_value\", \"legend\": null, \"scale\": {\"domain\": [\"0\", \"1\"], \"range\": [\"rgb(117,117,117)\", \"rgb(100, 143, 255)\", \"rgb(254, 97, 0)\", \"rgb(220, 38, 127)\", \"rgb(255, 176, 0)\", \"rgb(120, 94, 240)\"]}, \"selection\": \"selector025\"}, \"value\": \"rgb(224,224,224)\"}, \"size\": {\"type\": \"quantitative\", \"field\": \"group_size\", \"legend\": null, \"scale\": {\"domain\": [0, 212.4], \"range\": [0, 7853.981633974483]}}, \"tooltip\": [{\"type\": \"nominal\", \"field\": \"attribute_value\", \"title\": \"Group\"}, {\"type\": \"nominal\", \"field\": \"tooltip_group_size\", \"title\": \"Group Size\"}, {\"type\": \"nominal\", \"field\": \"tooltip_disparity_explanation_precision\", \"title\": \"Disparity\"}, {\"type\": \"quantitative\", \"field\": \"precision\", \"format\": \".2f\", \"title\": \"PRECISION\"}], \"x\": {\"type\": \"quantitative\", \"axis\": {\"domain\": false, \"labels\": false, \"ticks\": false, \"title\": null, \"values\": [1, 2, -2, -1]}, \"field\": \"precision_disparity_scaled\", \"scale\": {\"domain\": [-2, 2], \"range\": [40.0, 760.0]}}, \"y\": {\"type\": \"nominal\", \"axis\": {\"domain\": false, \"grid\": false, \"labels\": false, \"ticks\": false, \"title\": \" \"}, \"field\": \"metric_variable\", \"scale\": {\"domain\": [\"PRECISION\"], \"range\": [30, 225.0]}}}, \"selection\": {\"selector027\": {\"type\": \"multi\", \"empty\": \"all\", \"fields\": [\"attribute_value\"]}}, \"transform\": [{\"calculate\": \"'PRECISION'\", \"as\": \"metric_variable\"}]}, {\"layer\": [{\"mark\": \"point\"}, {\"data\": {\"name\": \"data-d0849aa91b67fd94bd6d08042a9f52c5\"}, \"mark\": {\"type\": \"point\", \"filled\": true, \"size\": 60}, \"encoding\": {\"color\": {\"condition\": {\"type\": \"nominal\", \"field\": \"attribute_value\", \"legend\": null, \"scale\": {\"domain\": [\"0\", \"1\"], \"range\": [\"rgb(117,117,117)\", \"rgb(100, 143, 255)\", \"rgb(254, 97, 0)\", \"rgb(220, 38, 127)\", \"rgb(255, 176, 0)\", \"rgb(120, 94, 240)\"]}, \"selection\": \"selector025\"}, \"value\": \"rgb(224,224,224)\"}, \"shape\": {\"type\": \"nominal\", \"field\": \"attribute_value\", \"legend\": null, \"scale\": {\"domain\": [\"0\", \"1\"], \"range\": [\"cross\", \"circle\"]}}, \"tooltip\": [{\"type\": \"nominal\", \"field\": \"attribute_value\", \"title\": \"Group\"}, {\"type\": \"nominal\", \"field\": \"tooltip_group_size\", \"title\": \"Group Size\"}, {\"type\": \"nominal\", \"field\": \"tooltip_disparity_explanation_precision\", \"title\": \"Disparity\"}, {\"type\": \"quantitative\", \"field\": \"precision\", \"format\": \".2f\", \"title\": \"PRECISION\"}], \"x\": {\"type\": \"quantitative\", \"axis\": {\"domain\": false, \"labels\": false, \"ticks\": false, \"title\": null, \"values\": [1, 2, -2, -1]}, \"field\": \"precision_disparity_scaled\", \"scale\": {\"domain\": [-2, 2], \"range\": [40.0, 760.0]}}, \"y\": {\"type\": \"nominal\", \"axis\": {\"domain\": false, \"grid\": false, \"labels\": false, \"ticks\": false, \"title\": \" \"}, \"field\": \"metric_variable\", \"scale\": {\"domain\": [\"PRECISION\"], \"range\": [30, 225.0]}}}, \"selection\": {\"selector026\": {\"type\": \"multi\", \"empty\": \"all\", \"fields\": [\"attribute_value\"]}}, \"transform\": [{\"calculate\": \"'PRECISION'\", \"as\": \"metric_variable\"}]}]}]}, {\"layer\": [{\"mark\": {\"type\": \"point\", \"filled\": true, \"opacity\": 1, \"size\": 39.47841760435743}, \"encoding\": {\"color\": {\"condition\": {\"type\": \"nominal\", \"field\": \"attribute_value\", \"legend\": null, \"scale\": {\"domain\": [\"0\", \"1\"], \"range\": [\"rgb(117,117,117)\", \"rgb(100, 143, 255)\", \"rgb(254, 97, 0)\", \"rgb(220, 38, 127)\", \"rgb(255, 176, 0)\", \"rgb(120, 94, 240)\"]}, \"selection\": \"selector025\"}, \"value\": \"rgb(224,224,224)\"}, \"shape\": {\"type\": \"nominal\", \"field\": \"attribute_value\", \"legend\": null, \"scale\": {\"domain\": [\"0\", \"1\"], \"range\": [\"cross\", \"circle\"]}}, \"x\": {\"value\": 804}, \"y\": {\"type\": \"nominal\", \"axis\": {\"domain\": false, \"grid\": false, \"labels\": false, \"ticks\": false, \"title\": \" \"}, \"field\": \"attribute_value\", \"scale\": {\"domain\": [\"0\", \"1\"], \"range\": [71, 125]}}}, \"selection\": {\"selector025\": {\"type\": \"multi\", \"empty\": \"all\", \"fields\": [\"attribute_value\"]}}}, {\"mark\": {\"type\": \"text\", \"align\": \"left\", \"baseline\": \"middle\", \"font\": \"Arial\", \"fontSize\": 12, \"fontWeight\": \"normal\"}, \"encoding\": {\"color\": {\"condition\": {\"type\": \"nominal\", \"field\": \"attribute_value\", \"legend\": null, \"scale\": {\"domain\": [\"0\", \"1\"], \"range\": [\"rgb(117,117,117)\", \"rgb(100, 143, 255)\", \"rgb(254, 97, 0)\", \"rgb(220, 38, 127)\", \"rgb(255, 176, 0)\", \"rgb(120, 94, 240)\"]}, \"selection\": \"selector025\"}, \"value\": \"rgb(224,224,224)\"}, \"text\": {\"type\": \"nominal\", \"field\": \"label\"}, \"x\": {\"value\": 812}, \"y\": {\"type\": \"nominal\", \"axis\": {\"domain\": false, \"grid\": false, \"labels\": false, \"ticks\": false, \"title\": \" \"}, \"field\": \"attribute_value\", \"scale\": {\"domain\": [\"0\", \"1\"], \"range\": [71, 125]}}}, \"selection\": {\"selector028\": {\"type\": \"multi\", \"empty\": \"all\", \"fields\": [\"attribute_value\"]}}}, {\"data\": {\"name\": \"data-79dd248bdaa0ea02c535240e8ad022c8\"}, \"mark\": {\"type\": \"text\", \"align\": \"left\", \"baseline\": \"middle\", \"color\": \"rgb(117,117,117)\", \"font\": \"Arial\", \"fontSize\": 12, \"fontWeight\": \"normal\"}, \"encoding\": {\"text\": {\"value\": \"Click to highlight a group.\"}, \"x\": {\"value\": 800}, \"y\": {\"value\": 49}}}, {\"data\": {\"name\": \"data-79dd248bdaa0ea02c535240e8ad022c8\"}, \"mark\": {\"type\": \"text\", \"align\": \"left\", \"baseline\": \"middle\", \"color\": \"rgb(117,117,117)\", \"font\": \"Arial\", \"fontSize\": 14, \"fontWeight\": \"normal\"}, \"encoding\": {\"text\": {\"value\": \"Groups\"}, \"x\": {\"value\": 800}, \"y\": {\"value\": 30}}}], \"data\": {\"name\": \"data-711e50c9c74ea5e50c1544827342332e\"}}], \"height\": 250, \"padding\": {\"top\": 15, \"bottom\": 10}, \"resolve\": {\"scale\": {\"size\": \"independent\", \"y\": \"independent\"}}, \"title\": \"Disparities on Personal_Status_Sex\", \"width\": 800, \"$schema\": \"https://vega.github.io/schema/vega-lite/v4.8.1.json\", \"datasets\": {\"data-a27a61e808cb85618ab4a15b8a39420c\": [{\"metric\": \"PRECISION\", \"x\": -2, \"x2\": 2}], \"data-79dd248bdaa0ea02c535240e8ad022c8\": [{\"a\": 1, \"b\": 0}, {\"a\": 1, \"b\": 0}], \"data-c233327f4cd9b4c2df31bf8015c83e4a\": [{\"value\": 1, \"label\": 2}, {\"value\": 2, \"label\": 3}, {\"value\": -2, \"label\": 3}, {\"value\": -1, \"label\": 2}, {\"value\": 0, \"label\": \"=\"}], \"data-25f3550964acc203f87c85ed125cfad2\": [{\"min\": -0.19999999999999996, \"max\": 0.19999999999999996, \"lower_end\": -2, \"upper_end\": 2}], \"data-d0849aa91b67fd94bd6d08042a9f52c5\": [{\"attribute_name\": \"Personal_status_sex\", \"attribute_value\": \"0\", \"group_size\": 177, \"total_entities\": 250, \"precision\": 0.8248175182481752, \"precision_disparity\": 1.0, \"precision_disparity_scaled\": 0.0, \"tooltip_group_size\": \"177 (70.80%)\", \"tooltip_disparity_explanation_precision\": \"Reference group\"}, {\"attribute_name\": \"Personal_status_sex\", \"attribute_value\": \"1\", \"group_size\": 73, \"total_entities\": 250, \"precision\": 0.7868852459016393, \"precision_disparity\": 0.9540113158276512, \"precision_disparity_scaled\": -0.04820559610705599, \"tooltip_group_size\": \"73 (29.20%)\", \"tooltip_disparity_explanation_precision\": \"1.05 times smaller PRECISION than the reference group\"}], \"data-711e50c9c74ea5e50c1544827342332e\": [{\"attribute_value\": \"0\", \"label\": \"0 [REF]\"}, {\"attribute_value\": \"1\", \"label\": \"1\"}]}}, {\"mode\": \"vega-lite\"});\n",
              "</script>"
            ],
            "text/plain": [
              "alt.LayerChart(...)"
            ]
          },
          "metadata": {},
          "execution_count": 96
        }
      ]
    },
    {
      "cell_type": "code",
      "source": [
        "absolute_metrics = g.list_absolute_metrics(xtab)\n",
        "xtab[['attribute_name', 'attribute_value'] + absolute_metrics]"
      ],
      "metadata": {
        "colab": {
          "base_uri": "https://localhost:8080/",
          "height": 112
        },
        "outputId": "34f1b6b0-312d-440f-ec85-cbe163904074",
        "id": "q_QuINl4pvru"
      },
      "execution_count": 97,
      "outputs": [
        {
          "output_type": "execute_result",
          "data": {
            "text/plain": [
              "        attribute_name attribute_value       tpr       tnr   for       fdr  \\\n",
              "0  Personal_status_sex               0  0.889764  0.520000  0.35  0.175182   \n",
              "1  Personal_status_sex               1  0.941176  0.409091  0.25  0.213115   \n",
              "\n",
              "        fpr       fnr   npv  precision       ppr     pprev      prev  \n",
              "0  0.480000  0.110236  0.65   0.824818  0.691919  0.774011  0.717514  \n",
              "1  0.590909  0.058824  0.75   0.786885  0.308081  0.835616  0.698630  "
            ],
            "text/html": [
              "\n",
              "  <div id=\"df-58035842-1b0a-497b-9035-d8ffa92667d5\">\n",
              "    <div class=\"colab-df-container\">\n",
              "      <div>\n",
              "<style scoped>\n",
              "    .dataframe tbody tr th:only-of-type {\n",
              "        vertical-align: middle;\n",
              "    }\n",
              "\n",
              "    .dataframe tbody tr th {\n",
              "        vertical-align: top;\n",
              "    }\n",
              "\n",
              "    .dataframe thead th {\n",
              "        text-align: right;\n",
              "    }\n",
              "</style>\n",
              "<table border=\"1\" class=\"dataframe\">\n",
              "  <thead>\n",
              "    <tr style=\"text-align: right;\">\n",
              "      <th></th>\n",
              "      <th>attribute_name</th>\n",
              "      <th>attribute_value</th>\n",
              "      <th>tpr</th>\n",
              "      <th>tnr</th>\n",
              "      <th>for</th>\n",
              "      <th>fdr</th>\n",
              "      <th>fpr</th>\n",
              "      <th>fnr</th>\n",
              "      <th>npv</th>\n",
              "      <th>precision</th>\n",
              "      <th>ppr</th>\n",
              "      <th>pprev</th>\n",
              "      <th>prev</th>\n",
              "    </tr>\n",
              "  </thead>\n",
              "  <tbody>\n",
              "    <tr>\n",
              "      <th>0</th>\n",
              "      <td>Personal_status_sex</td>\n",
              "      <td>0</td>\n",
              "      <td>0.889764</td>\n",
              "      <td>0.520000</td>\n",
              "      <td>0.35</td>\n",
              "      <td>0.175182</td>\n",
              "      <td>0.480000</td>\n",
              "      <td>0.110236</td>\n",
              "      <td>0.65</td>\n",
              "      <td>0.824818</td>\n",
              "      <td>0.691919</td>\n",
              "      <td>0.774011</td>\n",
              "      <td>0.717514</td>\n",
              "    </tr>\n",
              "    <tr>\n",
              "      <th>1</th>\n",
              "      <td>Personal_status_sex</td>\n",
              "      <td>1</td>\n",
              "      <td>0.941176</td>\n",
              "      <td>0.409091</td>\n",
              "      <td>0.25</td>\n",
              "      <td>0.213115</td>\n",
              "      <td>0.590909</td>\n",
              "      <td>0.058824</td>\n",
              "      <td>0.75</td>\n",
              "      <td>0.786885</td>\n",
              "      <td>0.308081</td>\n",
              "      <td>0.835616</td>\n",
              "      <td>0.698630</td>\n",
              "    </tr>\n",
              "  </tbody>\n",
              "</table>\n",
              "</div>\n",
              "      <button class=\"colab-df-convert\" onclick=\"convertToInteractive('df-58035842-1b0a-497b-9035-d8ffa92667d5')\"\n",
              "              title=\"Convert this dataframe to an interactive table.\"\n",
              "              style=\"display:none;\">\n",
              "        \n",
              "  <svg xmlns=\"http://www.w3.org/2000/svg\" height=\"24px\"viewBox=\"0 0 24 24\"\n",
              "       width=\"24px\">\n",
              "    <path d=\"M0 0h24v24H0V0z\" fill=\"none\"/>\n",
              "    <path d=\"M18.56 5.44l.94 2.06.94-2.06 2.06-.94-2.06-.94-.94-2.06-.94 2.06-2.06.94zm-11 1L8.5 8.5l.94-2.06 2.06-.94-2.06-.94L8.5 2.5l-.94 2.06-2.06.94zm10 10l.94 2.06.94-2.06 2.06-.94-2.06-.94-.94-2.06-.94 2.06-2.06.94z\"/><path d=\"M17.41 7.96l-1.37-1.37c-.4-.4-.92-.59-1.43-.59-.52 0-1.04.2-1.43.59L10.3 9.45l-7.72 7.72c-.78.78-.78 2.05 0 2.83L4 21.41c.39.39.9.59 1.41.59.51 0 1.02-.2 1.41-.59l7.78-7.78 2.81-2.81c.8-.78.8-2.07 0-2.86zM5.41 20L4 18.59l7.72-7.72 1.47 1.35L5.41 20z\"/>\n",
              "  </svg>\n",
              "      </button>\n",
              "      \n",
              "  <style>\n",
              "    .colab-df-container {\n",
              "      display:flex;\n",
              "      flex-wrap:wrap;\n",
              "      gap: 12px;\n",
              "    }\n",
              "\n",
              "    .colab-df-convert {\n",
              "      background-color: #E8F0FE;\n",
              "      border: none;\n",
              "      border-radius: 50%;\n",
              "      cursor: pointer;\n",
              "      display: none;\n",
              "      fill: #1967D2;\n",
              "      height: 32px;\n",
              "      padding: 0 0 0 0;\n",
              "      width: 32px;\n",
              "    }\n",
              "\n",
              "    .colab-df-convert:hover {\n",
              "      background-color: #E2EBFA;\n",
              "      box-shadow: 0px 1px 2px rgba(60, 64, 67, 0.3), 0px 1px 3px 1px rgba(60, 64, 67, 0.15);\n",
              "      fill: #174EA6;\n",
              "    }\n",
              "\n",
              "    [theme=dark] .colab-df-convert {\n",
              "      background-color: #3B4455;\n",
              "      fill: #D2E3FC;\n",
              "    }\n",
              "\n",
              "    [theme=dark] .colab-df-convert:hover {\n",
              "      background-color: #434B5C;\n",
              "      box-shadow: 0px 1px 3px 1px rgba(0, 0, 0, 0.15);\n",
              "      filter: drop-shadow(0px 1px 2px rgba(0, 0, 0, 0.3));\n",
              "      fill: #FFFFFF;\n",
              "    }\n",
              "  </style>\n",
              "\n",
              "      <script>\n",
              "        const buttonEl =\n",
              "          document.querySelector('#df-58035842-1b0a-497b-9035-d8ffa92667d5 button.colab-df-convert');\n",
              "        buttonEl.style.display =\n",
              "          google.colab.kernel.accessAllowed ? 'block' : 'none';\n",
              "\n",
              "        async function convertToInteractive(key) {\n",
              "          const element = document.querySelector('#df-58035842-1b0a-497b-9035-d8ffa92667d5');\n",
              "          const dataTable =\n",
              "            await google.colab.kernel.invokeFunction('convertToInteractive',\n",
              "                                                     [key], {});\n",
              "          if (!dataTable) return;\n",
              "\n",
              "          const docLinkHtml = 'Like what you see? Visit the ' +\n",
              "            '<a target=\"_blank\" href=https://colab.research.google.com/notebooks/data_table.ipynb>data table notebook</a>'\n",
              "            + ' to learn more about interactive tables.';\n",
              "          element.innerHTML = '';\n",
              "          dataTable['output_type'] = 'display_data';\n",
              "          await google.colab.output.renderOutput(dataTable, element);\n",
              "          const docLink = document.createElement('div');\n",
              "          docLink.innerHTML = docLinkHtml;\n",
              "          element.appendChild(docLink);\n",
              "        }\n",
              "      </script>\n",
              "    </div>\n",
              "  </div>\n",
              "  "
            ]
          },
          "metadata": {},
          "execution_count": 97
        }
      ]
    },
    {
      "cell_type": "code",
      "source": [
        "bdf[['attribute_name', 'attribute_value'] + b.list_disparities(bdf)]"
      ],
      "metadata": {
        "colab": {
          "base_uri": "https://localhost:8080/",
          "height": 176
        },
        "outputId": "bb6d5ad4-b08c-4316-c997-103c19d6c072",
        "id": "Ip1xIaIwpvru"
      },
      "execution_count": 98,
      "outputs": [
        {
          "output_type": "execute_result",
          "data": {
            "text/plain": [
              "        attribute_name attribute_value  ppr_disparity  pprev_disparity  \\\n",
              "0  Personal_status_sex               0       1.000000         1.000000   \n",
              "1  Personal_status_sex               1       0.445255         1.079592   \n",
              "\n",
              "   precision_disparity  fdr_disparity  for_disparity  fpr_disparity  \\\n",
              "0             1.000000        1.00000       1.000000       1.000000   \n",
              "1             0.954011        1.21653       0.714286       1.231061   \n",
              "\n",
              "   fnr_disparity  tpr_disparity  tnr_disparity  npv_disparity  \n",
              "0       1.000000       1.000000       1.000000       1.000000  \n",
              "1       0.533613       1.057782       0.786713       1.153846  "
            ],
            "text/html": [
              "\n",
              "  <div id=\"df-c8b666d9-fa56-4204-ae47-36cafaafe0e2\">\n",
              "    <div class=\"colab-df-container\">\n",
              "      <div>\n",
              "<style scoped>\n",
              "    .dataframe tbody tr th:only-of-type {\n",
              "        vertical-align: middle;\n",
              "    }\n",
              "\n",
              "    .dataframe tbody tr th {\n",
              "        vertical-align: top;\n",
              "    }\n",
              "\n",
              "    .dataframe thead th {\n",
              "        text-align: right;\n",
              "    }\n",
              "</style>\n",
              "<table border=\"1\" class=\"dataframe\">\n",
              "  <thead>\n",
              "    <tr style=\"text-align: right;\">\n",
              "      <th></th>\n",
              "      <th>attribute_name</th>\n",
              "      <th>attribute_value</th>\n",
              "      <th>ppr_disparity</th>\n",
              "      <th>pprev_disparity</th>\n",
              "      <th>precision_disparity</th>\n",
              "      <th>fdr_disparity</th>\n",
              "      <th>for_disparity</th>\n",
              "      <th>fpr_disparity</th>\n",
              "      <th>fnr_disparity</th>\n",
              "      <th>tpr_disparity</th>\n",
              "      <th>tnr_disparity</th>\n",
              "      <th>npv_disparity</th>\n",
              "    </tr>\n",
              "  </thead>\n",
              "  <tbody>\n",
              "    <tr>\n",
              "      <th>0</th>\n",
              "      <td>Personal_status_sex</td>\n",
              "      <td>0</td>\n",
              "      <td>1.000000</td>\n",
              "      <td>1.000000</td>\n",
              "      <td>1.000000</td>\n",
              "      <td>1.00000</td>\n",
              "      <td>1.000000</td>\n",
              "      <td>1.000000</td>\n",
              "      <td>1.000000</td>\n",
              "      <td>1.000000</td>\n",
              "      <td>1.000000</td>\n",
              "      <td>1.000000</td>\n",
              "    </tr>\n",
              "    <tr>\n",
              "      <th>1</th>\n",
              "      <td>Personal_status_sex</td>\n",
              "      <td>1</td>\n",
              "      <td>0.445255</td>\n",
              "      <td>1.079592</td>\n",
              "      <td>0.954011</td>\n",
              "      <td>1.21653</td>\n",
              "      <td>0.714286</td>\n",
              "      <td>1.231061</td>\n",
              "      <td>0.533613</td>\n",
              "      <td>1.057782</td>\n",
              "      <td>0.786713</td>\n",
              "      <td>1.153846</td>\n",
              "    </tr>\n",
              "  </tbody>\n",
              "</table>\n",
              "</div>\n",
              "      <button class=\"colab-df-convert\" onclick=\"convertToInteractive('df-c8b666d9-fa56-4204-ae47-36cafaafe0e2')\"\n",
              "              title=\"Convert this dataframe to an interactive table.\"\n",
              "              style=\"display:none;\">\n",
              "        \n",
              "  <svg xmlns=\"http://www.w3.org/2000/svg\" height=\"24px\"viewBox=\"0 0 24 24\"\n",
              "       width=\"24px\">\n",
              "    <path d=\"M0 0h24v24H0V0z\" fill=\"none\"/>\n",
              "    <path d=\"M18.56 5.44l.94 2.06.94-2.06 2.06-.94-2.06-.94-.94-2.06-.94 2.06-2.06.94zm-11 1L8.5 8.5l.94-2.06 2.06-.94-2.06-.94L8.5 2.5l-.94 2.06-2.06.94zm10 10l.94 2.06.94-2.06 2.06-.94-2.06-.94-.94-2.06-.94 2.06-2.06.94z\"/><path d=\"M17.41 7.96l-1.37-1.37c-.4-.4-.92-.59-1.43-.59-.52 0-1.04.2-1.43.59L10.3 9.45l-7.72 7.72c-.78.78-.78 2.05 0 2.83L4 21.41c.39.39.9.59 1.41.59.51 0 1.02-.2 1.41-.59l7.78-7.78 2.81-2.81c.8-.78.8-2.07 0-2.86zM5.41 20L4 18.59l7.72-7.72 1.47 1.35L5.41 20z\"/>\n",
              "  </svg>\n",
              "      </button>\n",
              "      \n",
              "  <style>\n",
              "    .colab-df-container {\n",
              "      display:flex;\n",
              "      flex-wrap:wrap;\n",
              "      gap: 12px;\n",
              "    }\n",
              "\n",
              "    .colab-df-convert {\n",
              "      background-color: #E8F0FE;\n",
              "      border: none;\n",
              "      border-radius: 50%;\n",
              "      cursor: pointer;\n",
              "      display: none;\n",
              "      fill: #1967D2;\n",
              "      height: 32px;\n",
              "      padding: 0 0 0 0;\n",
              "      width: 32px;\n",
              "    }\n",
              "\n",
              "    .colab-df-convert:hover {\n",
              "      background-color: #E2EBFA;\n",
              "      box-shadow: 0px 1px 2px rgba(60, 64, 67, 0.3), 0px 1px 3px 1px rgba(60, 64, 67, 0.15);\n",
              "      fill: #174EA6;\n",
              "    }\n",
              "\n",
              "    [theme=dark] .colab-df-convert {\n",
              "      background-color: #3B4455;\n",
              "      fill: #D2E3FC;\n",
              "    }\n",
              "\n",
              "    [theme=dark] .colab-df-convert:hover {\n",
              "      background-color: #434B5C;\n",
              "      box-shadow: 0px 1px 3px 1px rgba(0, 0, 0, 0.15);\n",
              "      filter: drop-shadow(0px 1px 2px rgba(0, 0, 0, 0.3));\n",
              "      fill: #FFFFFF;\n",
              "    }\n",
              "  </style>\n",
              "\n",
              "      <script>\n",
              "        const buttonEl =\n",
              "          document.querySelector('#df-c8b666d9-fa56-4204-ae47-36cafaafe0e2 button.colab-df-convert');\n",
              "        buttonEl.style.display =\n",
              "          google.colab.kernel.accessAllowed ? 'block' : 'none';\n",
              "\n",
              "        async function convertToInteractive(key) {\n",
              "          const element = document.querySelector('#df-c8b666d9-fa56-4204-ae47-36cafaafe0e2');\n",
              "          const dataTable =\n",
              "            await google.colab.kernel.invokeFunction('convertToInteractive',\n",
              "                                                     [key], {});\n",
              "          if (!dataTable) return;\n",
              "\n",
              "          const docLinkHtml = 'Like what you see? Visit the ' +\n",
              "            '<a target=\"_blank\" href=https://colab.research.google.com/notebooks/data_table.ipynb>data table notebook</a>'\n",
              "            + ' to learn more about interactive tables.';\n",
              "          element.innerHTML = '';\n",
              "          dataTable['output_type'] = 'display_data';\n",
              "          await google.colab.output.renderOutput(dataTable, element);\n",
              "          const docLink = document.createElement('div');\n",
              "          docLink.innerHTML = docLinkHtml;\n",
              "          element.appendChild(docLink);\n",
              "        }\n",
              "      </script>\n",
              "    </div>\n",
              "  </div>\n",
              "  "
            ]
          },
          "metadata": {},
          "execution_count": 98
        }
      ]
    }
  ]
}