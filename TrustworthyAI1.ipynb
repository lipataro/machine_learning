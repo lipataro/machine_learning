{
  "nbformat": 4,
  "nbformat_minor": 0,
  "metadata": {
    "colab": {
      "name": "TrustworthyAI1.ipynb",
      "provenance": []
    },
    "kernelspec": {
      "name": "python3",
      "display_name": "Python 3"
    },
    "language_info": {
      "name": "python"
    }
  },
  "cells": [
    {
      "cell_type": "code",
      "execution_count": 19,
      "metadata": {
        "id": "S3BP6e696nrv"
      },
      "outputs": [],
      "source": [
        "# Import the needed packages\n",
        "import numpy as np\n",
        "import pandas as pd\n",
        "import matplotlib.pyplot as plt\n",
        "import graphviz\n",
        "import seaborn as sns"
      ]
    },
    {
      "cell_type": "code",
      "source": [
        "# Load the data:\n",
        "df_init = pd.read_csv('german_data1.csv', header=None)"
      ],
      "metadata": {
        "id": "96D6w8gU7ifo"
      },
      "execution_count": 4,
      "outputs": []
    },
    {
      "cell_type": "code",
      "source": [
        "# Load the numerical data:\n",
        "df_num = pd.read_csv('german_num.csv', header=None)"
      ],
      "metadata": {
        "id": "S1qxS5UX9pHs"
      },
      "execution_count": 64,
      "outputs": []
    },
    {
      "cell_type": "code",
      "source": [
        "# Giving names to the columns\n",
        "df_init.columns = ['Checking_account', 'Duration_months', 'Credit_history', 'Purpose', 'Credit_amount', 'Savings', 'Present_employment_since', 'Installment_rate', 'Personal_status_sex', 'Other_debtors','Present_residence_since','Property', 'Age', 'Other_installment_plans','Housing','existing_credits','Job','People_provide_maintenance_for','Telephone','foreign_worker', 'Target']"
      ],
      "metadata": {
        "id": "LjkAVUXBAAt-"
      },
      "execution_count": 5,
      "outputs": []
    },
    {
      "cell_type": "code",
      "source": [
        "df_num.shape"
      ],
      "metadata": {
        "colab": {
          "base_uri": "https://localhost:8080/"
        },
        "id": "E-LHW6uoT-Q4",
        "outputId": "1c5954e4-68e5-4782-e16e-779067888484"
      },
      "execution_count": 66,
      "outputs": [
        {
          "output_type": "execute_result",
          "data": {
            "text/plain": [
              "(1000, 25)"
            ]
          },
          "metadata": {},
          "execution_count": 66
        }
      ]
    },
    {
      "cell_type": "code",
      "source": [
        "# It is difficult to understand the numerical data. So we decided to continue with the original data.\n",
        "df_num.head(10)"
      ],
      "metadata": {
        "colab": {
          "base_uri": "https://localhost:8080/",
          "height": 392
        },
        "id": "XnlSbN9cUcF3",
        "outputId": "670ed749-5201-425c-d076-a89f6690569e"
      },
      "execution_count": 59,
      "outputs": [
        {
          "output_type": "execute_result",
          "data": {
            "text/plain": [
              "   0   1   2   3   4   5   6   7   8   9   ...  15  16  17  18  19  20  21  \\\n",
              "0   1   6   4  12   5   5   3   4   1  67  ...   0   0   1   0   0   1   0   \n",
              "1   2  48   2  60   1   3   2   2   1  22  ...   0   0   1   0   0   1   0   \n",
              "2   4  12   4  21   1   4   3   3   1  49  ...   0   0   1   0   0   1   0   \n",
              "3   1  42   2  79   1   4   3   4   2  45  ...   0   0   0   0   0   0   0   \n",
              "4   1  24   3  49   1   3   3   4   4  53  ...   1   0   1   0   0   0   0   \n",
              "5   4  36   2  91   5   3   3   4   4  35  ...   0   0   1   0   0   0   0   \n",
              "6   4  24   2  28   3   5   3   4   2  53  ...   0   0   1   0   0   1   0   \n",
              "7   2  36   2  69   1   3   3   2   3  35  ...   0   1   1   0   1   0   0   \n",
              "8   4  12   2  31   4   4   1   4   1  61  ...   0   0   1   0   0   1   0   \n",
              "9   2  30   4  52   1   1   4   2   3  28  ...   1   0   1   0   0   1   0   \n",
              "\n",
              "   22  23  24  \n",
              "0   0   1   1  \n",
              "1   0   1   2  \n",
              "2   1   0   1  \n",
              "3   0   1   1  \n",
              "4   0   1   2  \n",
              "5   1   0   1  \n",
              "6   0   1   1  \n",
              "7   0   0   1  \n",
              "8   1   0   1  \n",
              "9   0   0   2  \n",
              "\n",
              "[10 rows x 25 columns]"
            ],
            "text/html": [
              "\n",
              "  <div id=\"df-7878e338-133b-4547-ab4b-0e80fdbedddd\">\n",
              "    <div class=\"colab-df-container\">\n",
              "      <div>\n",
              "<style scoped>\n",
              "    .dataframe tbody tr th:only-of-type {\n",
              "        vertical-align: middle;\n",
              "    }\n",
              "\n",
              "    .dataframe tbody tr th {\n",
              "        vertical-align: top;\n",
              "    }\n",
              "\n",
              "    .dataframe thead th {\n",
              "        text-align: right;\n",
              "    }\n",
              "</style>\n",
              "<table border=\"1\" class=\"dataframe\">\n",
              "  <thead>\n",
              "    <tr style=\"text-align: right;\">\n",
              "      <th></th>\n",
              "      <th>0</th>\n",
              "      <th>1</th>\n",
              "      <th>2</th>\n",
              "      <th>3</th>\n",
              "      <th>4</th>\n",
              "      <th>5</th>\n",
              "      <th>6</th>\n",
              "      <th>7</th>\n",
              "      <th>8</th>\n",
              "      <th>9</th>\n",
              "      <th>...</th>\n",
              "      <th>15</th>\n",
              "      <th>16</th>\n",
              "      <th>17</th>\n",
              "      <th>18</th>\n",
              "      <th>19</th>\n",
              "      <th>20</th>\n",
              "      <th>21</th>\n",
              "      <th>22</th>\n",
              "      <th>23</th>\n",
              "      <th>24</th>\n",
              "    </tr>\n",
              "  </thead>\n",
              "  <tbody>\n",
              "    <tr>\n",
              "      <th>0</th>\n",
              "      <td>1</td>\n",
              "      <td>6</td>\n",
              "      <td>4</td>\n",
              "      <td>12</td>\n",
              "      <td>5</td>\n",
              "      <td>5</td>\n",
              "      <td>3</td>\n",
              "      <td>4</td>\n",
              "      <td>1</td>\n",
              "      <td>67</td>\n",
              "      <td>...</td>\n",
              "      <td>0</td>\n",
              "      <td>0</td>\n",
              "      <td>1</td>\n",
              "      <td>0</td>\n",
              "      <td>0</td>\n",
              "      <td>1</td>\n",
              "      <td>0</td>\n",
              "      <td>0</td>\n",
              "      <td>1</td>\n",
              "      <td>1</td>\n",
              "    </tr>\n",
              "    <tr>\n",
              "      <th>1</th>\n",
              "      <td>2</td>\n",
              "      <td>48</td>\n",
              "      <td>2</td>\n",
              "      <td>60</td>\n",
              "      <td>1</td>\n",
              "      <td>3</td>\n",
              "      <td>2</td>\n",
              "      <td>2</td>\n",
              "      <td>1</td>\n",
              "      <td>22</td>\n",
              "      <td>...</td>\n",
              "      <td>0</td>\n",
              "      <td>0</td>\n",
              "      <td>1</td>\n",
              "      <td>0</td>\n",
              "      <td>0</td>\n",
              "      <td>1</td>\n",
              "      <td>0</td>\n",
              "      <td>0</td>\n",
              "      <td>1</td>\n",
              "      <td>2</td>\n",
              "    </tr>\n",
              "    <tr>\n",
              "      <th>2</th>\n",
              "      <td>4</td>\n",
              "      <td>12</td>\n",
              "      <td>4</td>\n",
              "      <td>21</td>\n",
              "      <td>1</td>\n",
              "      <td>4</td>\n",
              "      <td>3</td>\n",
              "      <td>3</td>\n",
              "      <td>1</td>\n",
              "      <td>49</td>\n",
              "      <td>...</td>\n",
              "      <td>0</td>\n",
              "      <td>0</td>\n",
              "      <td>1</td>\n",
              "      <td>0</td>\n",
              "      <td>0</td>\n",
              "      <td>1</td>\n",
              "      <td>0</td>\n",
              "      <td>1</td>\n",
              "      <td>0</td>\n",
              "      <td>1</td>\n",
              "    </tr>\n",
              "    <tr>\n",
              "      <th>3</th>\n",
              "      <td>1</td>\n",
              "      <td>42</td>\n",
              "      <td>2</td>\n",
              "      <td>79</td>\n",
              "      <td>1</td>\n",
              "      <td>4</td>\n",
              "      <td>3</td>\n",
              "      <td>4</td>\n",
              "      <td>2</td>\n",
              "      <td>45</td>\n",
              "      <td>...</td>\n",
              "      <td>0</td>\n",
              "      <td>0</td>\n",
              "      <td>0</td>\n",
              "      <td>0</td>\n",
              "      <td>0</td>\n",
              "      <td>0</td>\n",
              "      <td>0</td>\n",
              "      <td>0</td>\n",
              "      <td>1</td>\n",
              "      <td>1</td>\n",
              "    </tr>\n",
              "    <tr>\n",
              "      <th>4</th>\n",
              "      <td>1</td>\n",
              "      <td>24</td>\n",
              "      <td>3</td>\n",
              "      <td>49</td>\n",
              "      <td>1</td>\n",
              "      <td>3</td>\n",
              "      <td>3</td>\n",
              "      <td>4</td>\n",
              "      <td>4</td>\n",
              "      <td>53</td>\n",
              "      <td>...</td>\n",
              "      <td>1</td>\n",
              "      <td>0</td>\n",
              "      <td>1</td>\n",
              "      <td>0</td>\n",
              "      <td>0</td>\n",
              "      <td>0</td>\n",
              "      <td>0</td>\n",
              "      <td>0</td>\n",
              "      <td>1</td>\n",
              "      <td>2</td>\n",
              "    </tr>\n",
              "    <tr>\n",
              "      <th>5</th>\n",
              "      <td>4</td>\n",
              "      <td>36</td>\n",
              "      <td>2</td>\n",
              "      <td>91</td>\n",
              "      <td>5</td>\n",
              "      <td>3</td>\n",
              "      <td>3</td>\n",
              "      <td>4</td>\n",
              "      <td>4</td>\n",
              "      <td>35</td>\n",
              "      <td>...</td>\n",
              "      <td>0</td>\n",
              "      <td>0</td>\n",
              "      <td>1</td>\n",
              "      <td>0</td>\n",
              "      <td>0</td>\n",
              "      <td>0</td>\n",
              "      <td>0</td>\n",
              "      <td>1</td>\n",
              "      <td>0</td>\n",
              "      <td>1</td>\n",
              "    </tr>\n",
              "    <tr>\n",
              "      <th>6</th>\n",
              "      <td>4</td>\n",
              "      <td>24</td>\n",
              "      <td>2</td>\n",
              "      <td>28</td>\n",
              "      <td>3</td>\n",
              "      <td>5</td>\n",
              "      <td>3</td>\n",
              "      <td>4</td>\n",
              "      <td>2</td>\n",
              "      <td>53</td>\n",
              "      <td>...</td>\n",
              "      <td>0</td>\n",
              "      <td>0</td>\n",
              "      <td>1</td>\n",
              "      <td>0</td>\n",
              "      <td>0</td>\n",
              "      <td>1</td>\n",
              "      <td>0</td>\n",
              "      <td>0</td>\n",
              "      <td>1</td>\n",
              "      <td>1</td>\n",
              "    </tr>\n",
              "    <tr>\n",
              "      <th>7</th>\n",
              "      <td>2</td>\n",
              "      <td>36</td>\n",
              "      <td>2</td>\n",
              "      <td>69</td>\n",
              "      <td>1</td>\n",
              "      <td>3</td>\n",
              "      <td>3</td>\n",
              "      <td>2</td>\n",
              "      <td>3</td>\n",
              "      <td>35</td>\n",
              "      <td>...</td>\n",
              "      <td>0</td>\n",
              "      <td>1</td>\n",
              "      <td>1</td>\n",
              "      <td>0</td>\n",
              "      <td>1</td>\n",
              "      <td>0</td>\n",
              "      <td>0</td>\n",
              "      <td>0</td>\n",
              "      <td>0</td>\n",
              "      <td>1</td>\n",
              "    </tr>\n",
              "    <tr>\n",
              "      <th>8</th>\n",
              "      <td>4</td>\n",
              "      <td>12</td>\n",
              "      <td>2</td>\n",
              "      <td>31</td>\n",
              "      <td>4</td>\n",
              "      <td>4</td>\n",
              "      <td>1</td>\n",
              "      <td>4</td>\n",
              "      <td>1</td>\n",
              "      <td>61</td>\n",
              "      <td>...</td>\n",
              "      <td>0</td>\n",
              "      <td>0</td>\n",
              "      <td>1</td>\n",
              "      <td>0</td>\n",
              "      <td>0</td>\n",
              "      <td>1</td>\n",
              "      <td>0</td>\n",
              "      <td>1</td>\n",
              "      <td>0</td>\n",
              "      <td>1</td>\n",
              "    </tr>\n",
              "    <tr>\n",
              "      <th>9</th>\n",
              "      <td>2</td>\n",
              "      <td>30</td>\n",
              "      <td>4</td>\n",
              "      <td>52</td>\n",
              "      <td>1</td>\n",
              "      <td>1</td>\n",
              "      <td>4</td>\n",
              "      <td>2</td>\n",
              "      <td>3</td>\n",
              "      <td>28</td>\n",
              "      <td>...</td>\n",
              "      <td>1</td>\n",
              "      <td>0</td>\n",
              "      <td>1</td>\n",
              "      <td>0</td>\n",
              "      <td>0</td>\n",
              "      <td>1</td>\n",
              "      <td>0</td>\n",
              "      <td>0</td>\n",
              "      <td>0</td>\n",
              "      <td>2</td>\n",
              "    </tr>\n",
              "  </tbody>\n",
              "</table>\n",
              "<p>10 rows × 25 columns</p>\n",
              "</div>\n",
              "      <button class=\"colab-df-convert\" onclick=\"convertToInteractive('df-7878e338-133b-4547-ab4b-0e80fdbedddd')\"\n",
              "              title=\"Convert this dataframe to an interactive table.\"\n",
              "              style=\"display:none;\">\n",
              "        \n",
              "  <svg xmlns=\"http://www.w3.org/2000/svg\" height=\"24px\"viewBox=\"0 0 24 24\"\n",
              "       width=\"24px\">\n",
              "    <path d=\"M0 0h24v24H0V0z\" fill=\"none\"/>\n",
              "    <path d=\"M18.56 5.44l.94 2.06.94-2.06 2.06-.94-2.06-.94-.94-2.06-.94 2.06-2.06.94zm-11 1L8.5 8.5l.94-2.06 2.06-.94-2.06-.94L8.5 2.5l-.94 2.06-2.06.94zm10 10l.94 2.06.94-2.06 2.06-.94-2.06-.94-.94-2.06-.94 2.06-2.06.94z\"/><path d=\"M17.41 7.96l-1.37-1.37c-.4-.4-.92-.59-1.43-.59-.52 0-1.04.2-1.43.59L10.3 9.45l-7.72 7.72c-.78.78-.78 2.05 0 2.83L4 21.41c.39.39.9.59 1.41.59.51 0 1.02-.2 1.41-.59l7.78-7.78 2.81-2.81c.8-.78.8-2.07 0-2.86zM5.41 20L4 18.59l7.72-7.72 1.47 1.35L5.41 20z\"/>\n",
              "  </svg>\n",
              "      </button>\n",
              "      \n",
              "  <style>\n",
              "    .colab-df-container {\n",
              "      display:flex;\n",
              "      flex-wrap:wrap;\n",
              "      gap: 12px;\n",
              "    }\n",
              "\n",
              "    .colab-df-convert {\n",
              "      background-color: #E8F0FE;\n",
              "      border: none;\n",
              "      border-radius: 50%;\n",
              "      cursor: pointer;\n",
              "      display: none;\n",
              "      fill: #1967D2;\n",
              "      height: 32px;\n",
              "      padding: 0 0 0 0;\n",
              "      width: 32px;\n",
              "    }\n",
              "\n",
              "    .colab-df-convert:hover {\n",
              "      background-color: #E2EBFA;\n",
              "      box-shadow: 0px 1px 2px rgba(60, 64, 67, 0.3), 0px 1px 3px 1px rgba(60, 64, 67, 0.15);\n",
              "      fill: #174EA6;\n",
              "    }\n",
              "\n",
              "    [theme=dark] .colab-df-convert {\n",
              "      background-color: #3B4455;\n",
              "      fill: #D2E3FC;\n",
              "    }\n",
              "\n",
              "    [theme=dark] .colab-df-convert:hover {\n",
              "      background-color: #434B5C;\n",
              "      box-shadow: 0px 1px 3px 1px rgba(0, 0, 0, 0.15);\n",
              "      filter: drop-shadow(0px 1px 2px rgba(0, 0, 0, 0.3));\n",
              "      fill: #FFFFFF;\n",
              "    }\n",
              "  </style>\n",
              "\n",
              "      <script>\n",
              "        const buttonEl =\n",
              "          document.querySelector('#df-7878e338-133b-4547-ab4b-0e80fdbedddd button.colab-df-convert');\n",
              "        buttonEl.style.display =\n",
              "          google.colab.kernel.accessAllowed ? 'block' : 'none';\n",
              "\n",
              "        async function convertToInteractive(key) {\n",
              "          const element = document.querySelector('#df-7878e338-133b-4547-ab4b-0e80fdbedddd');\n",
              "          const dataTable =\n",
              "            await google.colab.kernel.invokeFunction('convertToInteractive',\n",
              "                                                     [key], {});\n",
              "          if (!dataTable) return;\n",
              "\n",
              "          const docLinkHtml = 'Like what you see? Visit the ' +\n",
              "            '<a target=\"_blank\" href=https://colab.research.google.com/notebooks/data_table.ipynb>data table notebook</a>'\n",
              "            + ' to learn more about interactive tables.';\n",
              "          element.innerHTML = '';\n",
              "          dataTable['output_type'] = 'display_data';\n",
              "          await google.colab.output.renderOutput(dataTable, element);\n",
              "          const docLink = document.createElement('div');\n",
              "          docLink.innerHTML = docLinkHtml;\n",
              "          element.appendChild(docLink);\n",
              "        }\n",
              "      </script>\n",
              "    </div>\n",
              "  </div>\n",
              "  "
            ]
          },
          "metadata": {},
          "execution_count": 59
        }
      ]
    },
    {
      "cell_type": "code",
      "source": [
        "df_init.head(10)"
      ],
      "metadata": {
        "colab": {
          "base_uri": "https://localhost:8080/",
          "height": 456
        },
        "id": "TL-btov_-IWD",
        "outputId": "19f3298a-9da3-459d-8b5e-83f74a670545"
      },
      "execution_count": 6,
      "outputs": [
        {
          "output_type": "execute_result",
          "data": {
            "text/plain": [
              "  Checking_account  Duration_months Credit_history Purpose  Credit_amount  \\\n",
              "0              A11                6            A34     A43           1169   \n",
              "1              A12               48            A32     A43           5951   \n",
              "2              A14               12            A34     A46           2096   \n",
              "3              A11               42            A32     A42           7882   \n",
              "4              A11               24            A33     A40           4870   \n",
              "5              A14               36            A32     A46           9055   \n",
              "6              A14               24            A32     A42           2835   \n",
              "7              A12               36            A32     A41           6948   \n",
              "8              A14               12            A32     A43           3059   \n",
              "9              A12               30            A34     A40           5234   \n",
              "\n",
              "  Savings Present_employment_since  Installment_rate Personal_status_sex  \\\n",
              "0     A65                      A75                 4                 A93   \n",
              "1     A61                      A73                 2                 A92   \n",
              "2     A61                      A74                 2                 A93   \n",
              "3     A61                      A74                 2                 A93   \n",
              "4     A61                      A73                 3                 A93   \n",
              "5     A65                      A73                 2                 A93   \n",
              "6     A63                      A75                 3                 A93   \n",
              "7     A61                      A73                 2                 A93   \n",
              "8     A64                      A74                 2                 A91   \n",
              "9     A61                      A71                 4                 A94   \n",
              "\n",
              "  Other_debtors  ...  Property Age  Other_installment_plans Housing  \\\n",
              "0          A101  ...      A121  67                     A143    A152   \n",
              "1          A101  ...      A121  22                     A143    A152   \n",
              "2          A101  ...      A121  49                     A143    A152   \n",
              "3          A103  ...      A122  45                     A143    A153   \n",
              "4          A101  ...      A124  53                     A143    A153   \n",
              "5          A101  ...      A124  35                     A143    A153   \n",
              "6          A101  ...      A122  53                     A143    A152   \n",
              "7          A101  ...      A123  35                     A143    A151   \n",
              "8          A101  ...      A121  61                     A143    A152   \n",
              "9          A101  ...      A123  28                     A143    A152   \n",
              "\n",
              "  existing_credits   Job People_provide_maintenance_for  Telephone  \\\n",
              "0                2  A173                              1       A192   \n",
              "1                1  A173                              1       A191   \n",
              "2                1  A172                              2       A191   \n",
              "3                1  A173                              2       A191   \n",
              "4                2  A173                              2       A191   \n",
              "5                1  A172                              2       A192   \n",
              "6                1  A173                              1       A191   \n",
              "7                1  A174                              1       A192   \n",
              "8                1  A172                              1       A191   \n",
              "9                2  A174                              1       A191   \n",
              "\n",
              "  foreign_worker Target  \n",
              "0           A201      1  \n",
              "1           A201      2  \n",
              "2           A201      1  \n",
              "3           A201      1  \n",
              "4           A201      2  \n",
              "5           A201      1  \n",
              "6           A201      1  \n",
              "7           A201      1  \n",
              "8           A201      1  \n",
              "9           A201      2  \n",
              "\n",
              "[10 rows x 21 columns]"
            ],
            "text/html": [
              "\n",
              "  <div id=\"df-8e0c08de-5fa7-411b-b953-84f01f37a434\">\n",
              "    <div class=\"colab-df-container\">\n",
              "      <div>\n",
              "<style scoped>\n",
              "    .dataframe tbody tr th:only-of-type {\n",
              "        vertical-align: middle;\n",
              "    }\n",
              "\n",
              "    .dataframe tbody tr th {\n",
              "        vertical-align: top;\n",
              "    }\n",
              "\n",
              "    .dataframe thead th {\n",
              "        text-align: right;\n",
              "    }\n",
              "</style>\n",
              "<table border=\"1\" class=\"dataframe\">\n",
              "  <thead>\n",
              "    <tr style=\"text-align: right;\">\n",
              "      <th></th>\n",
              "      <th>Checking_account</th>\n",
              "      <th>Duration_months</th>\n",
              "      <th>Credit_history</th>\n",
              "      <th>Purpose</th>\n",
              "      <th>Credit_amount</th>\n",
              "      <th>Savings</th>\n",
              "      <th>Present_employment_since</th>\n",
              "      <th>Installment_rate</th>\n",
              "      <th>Personal_status_sex</th>\n",
              "      <th>Other_debtors</th>\n",
              "      <th>...</th>\n",
              "      <th>Property</th>\n",
              "      <th>Age</th>\n",
              "      <th>Other_installment_plans</th>\n",
              "      <th>Housing</th>\n",
              "      <th>existing_credits</th>\n",
              "      <th>Job</th>\n",
              "      <th>People_provide_maintenance_for</th>\n",
              "      <th>Telephone</th>\n",
              "      <th>foreign_worker</th>\n",
              "      <th>Target</th>\n",
              "    </tr>\n",
              "  </thead>\n",
              "  <tbody>\n",
              "    <tr>\n",
              "      <th>0</th>\n",
              "      <td>A11</td>\n",
              "      <td>6</td>\n",
              "      <td>A34</td>\n",
              "      <td>A43</td>\n",
              "      <td>1169</td>\n",
              "      <td>A65</td>\n",
              "      <td>A75</td>\n",
              "      <td>4</td>\n",
              "      <td>A93</td>\n",
              "      <td>A101</td>\n",
              "      <td>...</td>\n",
              "      <td>A121</td>\n",
              "      <td>67</td>\n",
              "      <td>A143</td>\n",
              "      <td>A152</td>\n",
              "      <td>2</td>\n",
              "      <td>A173</td>\n",
              "      <td>1</td>\n",
              "      <td>A192</td>\n",
              "      <td>A201</td>\n",
              "      <td>1</td>\n",
              "    </tr>\n",
              "    <tr>\n",
              "      <th>1</th>\n",
              "      <td>A12</td>\n",
              "      <td>48</td>\n",
              "      <td>A32</td>\n",
              "      <td>A43</td>\n",
              "      <td>5951</td>\n",
              "      <td>A61</td>\n",
              "      <td>A73</td>\n",
              "      <td>2</td>\n",
              "      <td>A92</td>\n",
              "      <td>A101</td>\n",
              "      <td>...</td>\n",
              "      <td>A121</td>\n",
              "      <td>22</td>\n",
              "      <td>A143</td>\n",
              "      <td>A152</td>\n",
              "      <td>1</td>\n",
              "      <td>A173</td>\n",
              "      <td>1</td>\n",
              "      <td>A191</td>\n",
              "      <td>A201</td>\n",
              "      <td>2</td>\n",
              "    </tr>\n",
              "    <tr>\n",
              "      <th>2</th>\n",
              "      <td>A14</td>\n",
              "      <td>12</td>\n",
              "      <td>A34</td>\n",
              "      <td>A46</td>\n",
              "      <td>2096</td>\n",
              "      <td>A61</td>\n",
              "      <td>A74</td>\n",
              "      <td>2</td>\n",
              "      <td>A93</td>\n",
              "      <td>A101</td>\n",
              "      <td>...</td>\n",
              "      <td>A121</td>\n",
              "      <td>49</td>\n",
              "      <td>A143</td>\n",
              "      <td>A152</td>\n",
              "      <td>1</td>\n",
              "      <td>A172</td>\n",
              "      <td>2</td>\n",
              "      <td>A191</td>\n",
              "      <td>A201</td>\n",
              "      <td>1</td>\n",
              "    </tr>\n",
              "    <tr>\n",
              "      <th>3</th>\n",
              "      <td>A11</td>\n",
              "      <td>42</td>\n",
              "      <td>A32</td>\n",
              "      <td>A42</td>\n",
              "      <td>7882</td>\n",
              "      <td>A61</td>\n",
              "      <td>A74</td>\n",
              "      <td>2</td>\n",
              "      <td>A93</td>\n",
              "      <td>A103</td>\n",
              "      <td>...</td>\n",
              "      <td>A122</td>\n",
              "      <td>45</td>\n",
              "      <td>A143</td>\n",
              "      <td>A153</td>\n",
              "      <td>1</td>\n",
              "      <td>A173</td>\n",
              "      <td>2</td>\n",
              "      <td>A191</td>\n",
              "      <td>A201</td>\n",
              "      <td>1</td>\n",
              "    </tr>\n",
              "    <tr>\n",
              "      <th>4</th>\n",
              "      <td>A11</td>\n",
              "      <td>24</td>\n",
              "      <td>A33</td>\n",
              "      <td>A40</td>\n",
              "      <td>4870</td>\n",
              "      <td>A61</td>\n",
              "      <td>A73</td>\n",
              "      <td>3</td>\n",
              "      <td>A93</td>\n",
              "      <td>A101</td>\n",
              "      <td>...</td>\n",
              "      <td>A124</td>\n",
              "      <td>53</td>\n",
              "      <td>A143</td>\n",
              "      <td>A153</td>\n",
              "      <td>2</td>\n",
              "      <td>A173</td>\n",
              "      <td>2</td>\n",
              "      <td>A191</td>\n",
              "      <td>A201</td>\n",
              "      <td>2</td>\n",
              "    </tr>\n",
              "    <tr>\n",
              "      <th>5</th>\n",
              "      <td>A14</td>\n",
              "      <td>36</td>\n",
              "      <td>A32</td>\n",
              "      <td>A46</td>\n",
              "      <td>9055</td>\n",
              "      <td>A65</td>\n",
              "      <td>A73</td>\n",
              "      <td>2</td>\n",
              "      <td>A93</td>\n",
              "      <td>A101</td>\n",
              "      <td>...</td>\n",
              "      <td>A124</td>\n",
              "      <td>35</td>\n",
              "      <td>A143</td>\n",
              "      <td>A153</td>\n",
              "      <td>1</td>\n",
              "      <td>A172</td>\n",
              "      <td>2</td>\n",
              "      <td>A192</td>\n",
              "      <td>A201</td>\n",
              "      <td>1</td>\n",
              "    </tr>\n",
              "    <tr>\n",
              "      <th>6</th>\n",
              "      <td>A14</td>\n",
              "      <td>24</td>\n",
              "      <td>A32</td>\n",
              "      <td>A42</td>\n",
              "      <td>2835</td>\n",
              "      <td>A63</td>\n",
              "      <td>A75</td>\n",
              "      <td>3</td>\n",
              "      <td>A93</td>\n",
              "      <td>A101</td>\n",
              "      <td>...</td>\n",
              "      <td>A122</td>\n",
              "      <td>53</td>\n",
              "      <td>A143</td>\n",
              "      <td>A152</td>\n",
              "      <td>1</td>\n",
              "      <td>A173</td>\n",
              "      <td>1</td>\n",
              "      <td>A191</td>\n",
              "      <td>A201</td>\n",
              "      <td>1</td>\n",
              "    </tr>\n",
              "    <tr>\n",
              "      <th>7</th>\n",
              "      <td>A12</td>\n",
              "      <td>36</td>\n",
              "      <td>A32</td>\n",
              "      <td>A41</td>\n",
              "      <td>6948</td>\n",
              "      <td>A61</td>\n",
              "      <td>A73</td>\n",
              "      <td>2</td>\n",
              "      <td>A93</td>\n",
              "      <td>A101</td>\n",
              "      <td>...</td>\n",
              "      <td>A123</td>\n",
              "      <td>35</td>\n",
              "      <td>A143</td>\n",
              "      <td>A151</td>\n",
              "      <td>1</td>\n",
              "      <td>A174</td>\n",
              "      <td>1</td>\n",
              "      <td>A192</td>\n",
              "      <td>A201</td>\n",
              "      <td>1</td>\n",
              "    </tr>\n",
              "    <tr>\n",
              "      <th>8</th>\n",
              "      <td>A14</td>\n",
              "      <td>12</td>\n",
              "      <td>A32</td>\n",
              "      <td>A43</td>\n",
              "      <td>3059</td>\n",
              "      <td>A64</td>\n",
              "      <td>A74</td>\n",
              "      <td>2</td>\n",
              "      <td>A91</td>\n",
              "      <td>A101</td>\n",
              "      <td>...</td>\n",
              "      <td>A121</td>\n",
              "      <td>61</td>\n",
              "      <td>A143</td>\n",
              "      <td>A152</td>\n",
              "      <td>1</td>\n",
              "      <td>A172</td>\n",
              "      <td>1</td>\n",
              "      <td>A191</td>\n",
              "      <td>A201</td>\n",
              "      <td>1</td>\n",
              "    </tr>\n",
              "    <tr>\n",
              "      <th>9</th>\n",
              "      <td>A12</td>\n",
              "      <td>30</td>\n",
              "      <td>A34</td>\n",
              "      <td>A40</td>\n",
              "      <td>5234</td>\n",
              "      <td>A61</td>\n",
              "      <td>A71</td>\n",
              "      <td>4</td>\n",
              "      <td>A94</td>\n",
              "      <td>A101</td>\n",
              "      <td>...</td>\n",
              "      <td>A123</td>\n",
              "      <td>28</td>\n",
              "      <td>A143</td>\n",
              "      <td>A152</td>\n",
              "      <td>2</td>\n",
              "      <td>A174</td>\n",
              "      <td>1</td>\n",
              "      <td>A191</td>\n",
              "      <td>A201</td>\n",
              "      <td>2</td>\n",
              "    </tr>\n",
              "  </tbody>\n",
              "</table>\n",
              "<p>10 rows × 21 columns</p>\n",
              "</div>\n",
              "      <button class=\"colab-df-convert\" onclick=\"convertToInteractive('df-8e0c08de-5fa7-411b-b953-84f01f37a434')\"\n",
              "              title=\"Convert this dataframe to an interactive table.\"\n",
              "              style=\"display:none;\">\n",
              "        \n",
              "  <svg xmlns=\"http://www.w3.org/2000/svg\" height=\"24px\"viewBox=\"0 0 24 24\"\n",
              "       width=\"24px\">\n",
              "    <path d=\"M0 0h24v24H0V0z\" fill=\"none\"/>\n",
              "    <path d=\"M18.56 5.44l.94 2.06.94-2.06 2.06-.94-2.06-.94-.94-2.06-.94 2.06-2.06.94zm-11 1L8.5 8.5l.94-2.06 2.06-.94-2.06-.94L8.5 2.5l-.94 2.06-2.06.94zm10 10l.94 2.06.94-2.06 2.06-.94-2.06-.94-.94-2.06-.94 2.06-2.06.94z\"/><path d=\"M17.41 7.96l-1.37-1.37c-.4-.4-.92-.59-1.43-.59-.52 0-1.04.2-1.43.59L10.3 9.45l-7.72 7.72c-.78.78-.78 2.05 0 2.83L4 21.41c.39.39.9.59 1.41.59.51 0 1.02-.2 1.41-.59l7.78-7.78 2.81-2.81c.8-.78.8-2.07 0-2.86zM5.41 20L4 18.59l7.72-7.72 1.47 1.35L5.41 20z\"/>\n",
              "  </svg>\n",
              "      </button>\n",
              "      \n",
              "  <style>\n",
              "    .colab-df-container {\n",
              "      display:flex;\n",
              "      flex-wrap:wrap;\n",
              "      gap: 12px;\n",
              "    }\n",
              "\n",
              "    .colab-df-convert {\n",
              "      background-color: #E8F0FE;\n",
              "      border: none;\n",
              "      border-radius: 50%;\n",
              "      cursor: pointer;\n",
              "      display: none;\n",
              "      fill: #1967D2;\n",
              "      height: 32px;\n",
              "      padding: 0 0 0 0;\n",
              "      width: 32px;\n",
              "    }\n",
              "\n",
              "    .colab-df-convert:hover {\n",
              "      background-color: #E2EBFA;\n",
              "      box-shadow: 0px 1px 2px rgba(60, 64, 67, 0.3), 0px 1px 3px 1px rgba(60, 64, 67, 0.15);\n",
              "      fill: #174EA6;\n",
              "    }\n",
              "\n",
              "    [theme=dark] .colab-df-convert {\n",
              "      background-color: #3B4455;\n",
              "      fill: #D2E3FC;\n",
              "    }\n",
              "\n",
              "    [theme=dark] .colab-df-convert:hover {\n",
              "      background-color: #434B5C;\n",
              "      box-shadow: 0px 1px 3px 1px rgba(0, 0, 0, 0.15);\n",
              "      filter: drop-shadow(0px 1px 2px rgba(0, 0, 0, 0.3));\n",
              "      fill: #FFFFFF;\n",
              "    }\n",
              "  </style>\n",
              "\n",
              "      <script>\n",
              "        const buttonEl =\n",
              "          document.querySelector('#df-8e0c08de-5fa7-411b-b953-84f01f37a434 button.colab-df-convert');\n",
              "        buttonEl.style.display =\n",
              "          google.colab.kernel.accessAllowed ? 'block' : 'none';\n",
              "\n",
              "        async function convertToInteractive(key) {\n",
              "          const element = document.querySelector('#df-8e0c08de-5fa7-411b-b953-84f01f37a434');\n",
              "          const dataTable =\n",
              "            await google.colab.kernel.invokeFunction('convertToInteractive',\n",
              "                                                     [key], {});\n",
              "          if (!dataTable) return;\n",
              "\n",
              "          const docLinkHtml = 'Like what you see? Visit the ' +\n",
              "            '<a target=\"_blank\" href=https://colab.research.google.com/notebooks/data_table.ipynb>data table notebook</a>'\n",
              "            + ' to learn more about interactive tables.';\n",
              "          element.innerHTML = '';\n",
              "          dataTable['output_type'] = 'display_data';\n",
              "          await google.colab.output.renderOutput(dataTable, element);\n",
              "          const docLink = document.createElement('div');\n",
              "          docLink.innerHTML = docLinkHtml;\n",
              "          element.appendChild(docLink);\n",
              "        }\n",
              "      </script>\n",
              "    </div>\n",
              "  </div>\n",
              "  "
            ]
          },
          "metadata": {},
          "execution_count": 6
        }
      ]
    },
    {
      "cell_type": "code",
      "source": [
        "# Properties of the Numerical columns\n",
        "df_init.describe().T"
      ],
      "metadata": {
        "colab": {
          "base_uri": "https://localhost:8080/",
          "height": 300
        },
        "id": "t9YOfm0zqREu",
        "outputId": "3c0b8add-ce34-4fa6-aeef-1e09bebba6ec"
      },
      "execution_count": 7,
      "outputs": [
        {
          "output_type": "execute_result",
          "data": {
            "text/plain": [
              "                                 count      mean          std    min     25%  \\\n",
              "Duration_months                 1000.0    20.903    12.058814    4.0    12.0   \n",
              "Credit_amount                   1000.0  3271.258  2822.736876  250.0  1365.5   \n",
              "Installment_rate                1000.0     2.973     1.118715    1.0     2.0   \n",
              "Present_residence_since         1000.0     2.845     1.103718    1.0     2.0   \n",
              "Age                             1000.0    35.546    11.375469   19.0    27.0   \n",
              "existing_credits                1000.0     1.407     0.577654    1.0     1.0   \n",
              "People_provide_maintenance_for  1000.0     1.155     0.362086    1.0     1.0   \n",
              "Target                          1000.0     1.300     0.458487    1.0     1.0   \n",
              "\n",
              "                                   50%      75%      max  \n",
              "Duration_months                   18.0    24.00     72.0  \n",
              "Credit_amount                   2319.5  3972.25  18424.0  \n",
              "Installment_rate                   3.0     4.00      4.0  \n",
              "Present_residence_since            3.0     4.00      4.0  \n",
              "Age                               33.0    42.00     75.0  \n",
              "existing_credits                   1.0     2.00      4.0  \n",
              "People_provide_maintenance_for     1.0     1.00      2.0  \n",
              "Target                             1.0     2.00      2.0  "
            ],
            "text/html": [
              "\n",
              "  <div id=\"df-0ff515a1-1bf0-45af-aa81-6d1209902f19\">\n",
              "    <div class=\"colab-df-container\">\n",
              "      <div>\n",
              "<style scoped>\n",
              "    .dataframe tbody tr th:only-of-type {\n",
              "        vertical-align: middle;\n",
              "    }\n",
              "\n",
              "    .dataframe tbody tr th {\n",
              "        vertical-align: top;\n",
              "    }\n",
              "\n",
              "    .dataframe thead th {\n",
              "        text-align: right;\n",
              "    }\n",
              "</style>\n",
              "<table border=\"1\" class=\"dataframe\">\n",
              "  <thead>\n",
              "    <tr style=\"text-align: right;\">\n",
              "      <th></th>\n",
              "      <th>count</th>\n",
              "      <th>mean</th>\n",
              "      <th>std</th>\n",
              "      <th>min</th>\n",
              "      <th>25%</th>\n",
              "      <th>50%</th>\n",
              "      <th>75%</th>\n",
              "      <th>max</th>\n",
              "    </tr>\n",
              "  </thead>\n",
              "  <tbody>\n",
              "    <tr>\n",
              "      <th>Duration_months</th>\n",
              "      <td>1000.0</td>\n",
              "      <td>20.903</td>\n",
              "      <td>12.058814</td>\n",
              "      <td>4.0</td>\n",
              "      <td>12.0</td>\n",
              "      <td>18.0</td>\n",
              "      <td>24.00</td>\n",
              "      <td>72.0</td>\n",
              "    </tr>\n",
              "    <tr>\n",
              "      <th>Credit_amount</th>\n",
              "      <td>1000.0</td>\n",
              "      <td>3271.258</td>\n",
              "      <td>2822.736876</td>\n",
              "      <td>250.0</td>\n",
              "      <td>1365.5</td>\n",
              "      <td>2319.5</td>\n",
              "      <td>3972.25</td>\n",
              "      <td>18424.0</td>\n",
              "    </tr>\n",
              "    <tr>\n",
              "      <th>Installment_rate</th>\n",
              "      <td>1000.0</td>\n",
              "      <td>2.973</td>\n",
              "      <td>1.118715</td>\n",
              "      <td>1.0</td>\n",
              "      <td>2.0</td>\n",
              "      <td>3.0</td>\n",
              "      <td>4.00</td>\n",
              "      <td>4.0</td>\n",
              "    </tr>\n",
              "    <tr>\n",
              "      <th>Present_residence_since</th>\n",
              "      <td>1000.0</td>\n",
              "      <td>2.845</td>\n",
              "      <td>1.103718</td>\n",
              "      <td>1.0</td>\n",
              "      <td>2.0</td>\n",
              "      <td>3.0</td>\n",
              "      <td>4.00</td>\n",
              "      <td>4.0</td>\n",
              "    </tr>\n",
              "    <tr>\n",
              "      <th>Age</th>\n",
              "      <td>1000.0</td>\n",
              "      <td>35.546</td>\n",
              "      <td>11.375469</td>\n",
              "      <td>19.0</td>\n",
              "      <td>27.0</td>\n",
              "      <td>33.0</td>\n",
              "      <td>42.00</td>\n",
              "      <td>75.0</td>\n",
              "    </tr>\n",
              "    <tr>\n",
              "      <th>existing_credits</th>\n",
              "      <td>1000.0</td>\n",
              "      <td>1.407</td>\n",
              "      <td>0.577654</td>\n",
              "      <td>1.0</td>\n",
              "      <td>1.0</td>\n",
              "      <td>1.0</td>\n",
              "      <td>2.00</td>\n",
              "      <td>4.0</td>\n",
              "    </tr>\n",
              "    <tr>\n",
              "      <th>People_provide_maintenance_for</th>\n",
              "      <td>1000.0</td>\n",
              "      <td>1.155</td>\n",
              "      <td>0.362086</td>\n",
              "      <td>1.0</td>\n",
              "      <td>1.0</td>\n",
              "      <td>1.0</td>\n",
              "      <td>1.00</td>\n",
              "      <td>2.0</td>\n",
              "    </tr>\n",
              "    <tr>\n",
              "      <th>Target</th>\n",
              "      <td>1000.0</td>\n",
              "      <td>1.300</td>\n",
              "      <td>0.458487</td>\n",
              "      <td>1.0</td>\n",
              "      <td>1.0</td>\n",
              "      <td>1.0</td>\n",
              "      <td>2.00</td>\n",
              "      <td>2.0</td>\n",
              "    </tr>\n",
              "  </tbody>\n",
              "</table>\n",
              "</div>\n",
              "      <button class=\"colab-df-convert\" onclick=\"convertToInteractive('df-0ff515a1-1bf0-45af-aa81-6d1209902f19')\"\n",
              "              title=\"Convert this dataframe to an interactive table.\"\n",
              "              style=\"display:none;\">\n",
              "        \n",
              "  <svg xmlns=\"http://www.w3.org/2000/svg\" height=\"24px\"viewBox=\"0 0 24 24\"\n",
              "       width=\"24px\">\n",
              "    <path d=\"M0 0h24v24H0V0z\" fill=\"none\"/>\n",
              "    <path d=\"M18.56 5.44l.94 2.06.94-2.06 2.06-.94-2.06-.94-.94-2.06-.94 2.06-2.06.94zm-11 1L8.5 8.5l.94-2.06 2.06-.94-2.06-.94L8.5 2.5l-.94 2.06-2.06.94zm10 10l.94 2.06.94-2.06 2.06-.94-2.06-.94-.94-2.06-.94 2.06-2.06.94z\"/><path d=\"M17.41 7.96l-1.37-1.37c-.4-.4-.92-.59-1.43-.59-.52 0-1.04.2-1.43.59L10.3 9.45l-7.72 7.72c-.78.78-.78 2.05 0 2.83L4 21.41c.39.39.9.59 1.41.59.51 0 1.02-.2 1.41-.59l7.78-7.78 2.81-2.81c.8-.78.8-2.07 0-2.86zM5.41 20L4 18.59l7.72-7.72 1.47 1.35L5.41 20z\"/>\n",
              "  </svg>\n",
              "      </button>\n",
              "      \n",
              "  <style>\n",
              "    .colab-df-container {\n",
              "      display:flex;\n",
              "      flex-wrap:wrap;\n",
              "      gap: 12px;\n",
              "    }\n",
              "\n",
              "    .colab-df-convert {\n",
              "      background-color: #E8F0FE;\n",
              "      border: none;\n",
              "      border-radius: 50%;\n",
              "      cursor: pointer;\n",
              "      display: none;\n",
              "      fill: #1967D2;\n",
              "      height: 32px;\n",
              "      padding: 0 0 0 0;\n",
              "      width: 32px;\n",
              "    }\n",
              "\n",
              "    .colab-df-convert:hover {\n",
              "      background-color: #E2EBFA;\n",
              "      box-shadow: 0px 1px 2px rgba(60, 64, 67, 0.3), 0px 1px 3px 1px rgba(60, 64, 67, 0.15);\n",
              "      fill: #174EA6;\n",
              "    }\n",
              "\n",
              "    [theme=dark] .colab-df-convert {\n",
              "      background-color: #3B4455;\n",
              "      fill: #D2E3FC;\n",
              "    }\n",
              "\n",
              "    [theme=dark] .colab-df-convert:hover {\n",
              "      background-color: #434B5C;\n",
              "      box-shadow: 0px 1px 3px 1px rgba(0, 0, 0, 0.15);\n",
              "      filter: drop-shadow(0px 1px 2px rgba(0, 0, 0, 0.3));\n",
              "      fill: #FFFFFF;\n",
              "    }\n",
              "  </style>\n",
              "\n",
              "      <script>\n",
              "        const buttonEl =\n",
              "          document.querySelector('#df-0ff515a1-1bf0-45af-aa81-6d1209902f19 button.colab-df-convert');\n",
              "        buttonEl.style.display =\n",
              "          google.colab.kernel.accessAllowed ? 'block' : 'none';\n",
              "\n",
              "        async function convertToInteractive(key) {\n",
              "          const element = document.querySelector('#df-0ff515a1-1bf0-45af-aa81-6d1209902f19');\n",
              "          const dataTable =\n",
              "            await google.colab.kernel.invokeFunction('convertToInteractive',\n",
              "                                                     [key], {});\n",
              "          if (!dataTable) return;\n",
              "\n",
              "          const docLinkHtml = 'Like what you see? Visit the ' +\n",
              "            '<a target=\"_blank\" href=https://colab.research.google.com/notebooks/data_table.ipynb>data table notebook</a>'\n",
              "            + ' to learn more about interactive tables.';\n",
              "          element.innerHTML = '';\n",
              "          dataTable['output_type'] = 'display_data';\n",
              "          await google.colab.output.renderOutput(dataTable, element);\n",
              "          const docLink = document.createElement('div');\n",
              "          docLink.innerHTML = docLinkHtml;\n",
              "          element.appendChild(docLink);\n",
              "        }\n",
              "      </script>\n",
              "    </div>\n",
              "  </div>\n",
              "  "
            ]
          },
          "metadata": {},
          "execution_count": 7
        }
      ]
    },
    {
      "cell_type": "code",
      "source": [
        "df_init.isna().sum()"
      ],
      "metadata": {
        "colab": {
          "base_uri": "https://localhost:8080/"
        },
        "id": "2syVy1qJqQ7G",
        "outputId": "710e711e-32ba-493e-bb94-51dd2465a48d"
      },
      "execution_count": 158,
      "outputs": [
        {
          "output_type": "execute_result",
          "data": {
            "text/plain": [
              "Checking_account                  0\n",
              "Duration_months                   0\n",
              "Credit_history                    0\n",
              "Purpose                           0\n",
              "Credit_amount                     0\n",
              "Savings                           0\n",
              "Present_employment_since          0\n",
              "Installment_rate                  0\n",
              "Personal_status_sex               0\n",
              "Other_debtors                     0\n",
              "Present_residence_since           0\n",
              "Property                          0\n",
              "Age                               0\n",
              "Other_installment_plans           0\n",
              "Housing                           0\n",
              "existing_credits                  0\n",
              "Job                               0\n",
              "People_provide_maintenance_for    0\n",
              "Telephone                         0\n",
              "foreign_worker                    0\n",
              "Target                            0\n",
              "dtype: int64"
            ]
          },
          "metadata": {},
          "execution_count": 158
        }
      ]
    },
    {
      "cell_type": "code",
      "source": [
        "# Target column: Good (1) or Bad (2) Credit \n",
        "df_init['Target'].value_counts()"
      ],
      "metadata": {
        "colab": {
          "base_uri": "https://localhost:8080/"
        },
        "id": "DdZfuqBDqQyH",
        "outputId": "f64ee726-03cd-4e42-86ab-59b11f32976a"
      },
      "execution_count": 159,
      "outputs": [
        {
          "output_type": "execute_result",
          "data": {
            "text/plain": [
              "1    700\n",
              "2    300\n",
              "Name: Target, dtype: int64"
            ]
          },
          "metadata": {},
          "execution_count": 159
        }
      ]
    },
    {
      "cell_type": "code",
      "source": [
        "# Properties of the Non-numerical columns\n",
        "cat_cols = [col for col in df_init.columns if df_init[col].dtypes == 'O']\n",
        "\n",
        "for col in cat_cols:\n",
        "    print(df_init[col].value_counts(), \"\\n\\n\")"
      ],
      "metadata": {
        "colab": {
          "base_uri": "https://localhost:8080/"
        },
        "id": "PEXvhtzNqQhR",
        "outputId": "32b0f920-2293-4612-b478-23ce5d1ad6fe"
      },
      "execution_count": 160,
      "outputs": [
        {
          "output_type": "stream",
          "name": "stdout",
          "text": [
            "A14    394\n",
            "A11    274\n",
            "A12    269\n",
            "A13     63\n",
            "Name: Checking_account, dtype: int64 \n",
            "\n",
            "\n",
            "A32    530\n",
            "A34    293\n",
            "A33     88\n",
            "A31     49\n",
            "A30     40\n",
            "Name: Credit_history, dtype: int64 \n",
            "\n",
            "\n",
            "A43     280\n",
            "A40     234\n",
            "A42     181\n",
            "A41     103\n",
            "A49      97\n",
            "A46      50\n",
            "A45      22\n",
            "A44      12\n",
            "A410     12\n",
            "A48       9\n",
            "Name: Purpose, dtype: int64 \n",
            "\n",
            "\n",
            "A61    603\n",
            "A65    183\n",
            "A62    103\n",
            "A63     63\n",
            "A64     48\n",
            "Name: Savings, dtype: int64 \n",
            "\n",
            "\n",
            "A73    339\n",
            "A75    253\n",
            "A74    174\n",
            "A72    172\n",
            "A71     62\n",
            "Name: Present_employment_since, dtype: int64 \n",
            "\n",
            "\n",
            "A93    548\n",
            "A92    310\n",
            "A94     92\n",
            "A91     50\n",
            "Name: Personal_status_sex, dtype: int64 \n",
            "\n",
            "\n",
            "A101    907\n",
            "A103     52\n",
            "A102     41\n",
            "Name: Other_debtors, dtype: int64 \n",
            "\n",
            "\n",
            "A123    332\n",
            "A121    282\n",
            "A122    232\n",
            "A124    154\n",
            "Name: Property, dtype: int64 \n",
            "\n",
            "\n",
            "A143    814\n",
            "A141    139\n",
            "A142     47\n",
            "Name: Other_installment_plans, dtype: int64 \n",
            "\n",
            "\n",
            "A152    713\n",
            "A151    179\n",
            "A153    108\n",
            "Name: Housing, dtype: int64 \n",
            "\n",
            "\n",
            "A173    630\n",
            "A172    200\n",
            "A174    148\n",
            "A171     22\n",
            "Name: Job, dtype: int64 \n",
            "\n",
            "\n",
            "A191    596\n",
            "A192    404\n",
            "Name: Telephone, dtype: int64 \n",
            "\n",
            "\n",
            "A201    963\n",
            "A202     37\n",
            "Name: foreign_worker, dtype: int64 \n",
            "\n",
            "\n"
          ]
        }
      ]
    },
    {
      "cell_type": "code",
      "source": [
        "# Divorced men A91 and women A92 are less likely to get credit than other men. \n",
        "pd.crosstab(df_init.Personal_status_sex, df_init.Target).apply(lambda r: r/r.sum(), axis=1)"
      ],
      "metadata": {
        "colab": {
          "base_uri": "https://localhost:8080/",
          "height": 206
        },
        "id": "INIytKo2jITB",
        "outputId": "70011940-67ef-401f-fd73-4c3433d228b6"
      },
      "execution_count": 13,
      "outputs": [
        {
          "output_type": "execute_result",
          "data": {
            "text/plain": [
              "Target                      1         2\n",
              "Personal_status_sex                    \n",
              "A91                  0.600000  0.400000\n",
              "A92                  0.648387  0.351613\n",
              "A93                  0.733577  0.266423\n",
              "A94                  0.728261  0.271739"
            ],
            "text/html": [
              "\n",
              "  <div id=\"df-079ee5d6-3dd0-4bcc-8053-52d78052de87\">\n",
              "    <div class=\"colab-df-container\">\n",
              "      <div>\n",
              "<style scoped>\n",
              "    .dataframe tbody tr th:only-of-type {\n",
              "        vertical-align: middle;\n",
              "    }\n",
              "\n",
              "    .dataframe tbody tr th {\n",
              "        vertical-align: top;\n",
              "    }\n",
              "\n",
              "    .dataframe thead th {\n",
              "        text-align: right;\n",
              "    }\n",
              "</style>\n",
              "<table border=\"1\" class=\"dataframe\">\n",
              "  <thead>\n",
              "    <tr style=\"text-align: right;\">\n",
              "      <th>Target</th>\n",
              "      <th>1</th>\n",
              "      <th>2</th>\n",
              "    </tr>\n",
              "    <tr>\n",
              "      <th>Personal_status_sex</th>\n",
              "      <th></th>\n",
              "      <th></th>\n",
              "    </tr>\n",
              "  </thead>\n",
              "  <tbody>\n",
              "    <tr>\n",
              "      <th>A91</th>\n",
              "      <td>0.600000</td>\n",
              "      <td>0.400000</td>\n",
              "    </tr>\n",
              "    <tr>\n",
              "      <th>A92</th>\n",
              "      <td>0.648387</td>\n",
              "      <td>0.351613</td>\n",
              "    </tr>\n",
              "    <tr>\n",
              "      <th>A93</th>\n",
              "      <td>0.733577</td>\n",
              "      <td>0.266423</td>\n",
              "    </tr>\n",
              "    <tr>\n",
              "      <th>A94</th>\n",
              "      <td>0.728261</td>\n",
              "      <td>0.271739</td>\n",
              "    </tr>\n",
              "  </tbody>\n",
              "</table>\n",
              "</div>\n",
              "      <button class=\"colab-df-convert\" onclick=\"convertToInteractive('df-079ee5d6-3dd0-4bcc-8053-52d78052de87')\"\n",
              "              title=\"Convert this dataframe to an interactive table.\"\n",
              "              style=\"display:none;\">\n",
              "        \n",
              "  <svg xmlns=\"http://www.w3.org/2000/svg\" height=\"24px\"viewBox=\"0 0 24 24\"\n",
              "       width=\"24px\">\n",
              "    <path d=\"M0 0h24v24H0V0z\" fill=\"none\"/>\n",
              "    <path d=\"M18.56 5.44l.94 2.06.94-2.06 2.06-.94-2.06-.94-.94-2.06-.94 2.06-2.06.94zm-11 1L8.5 8.5l.94-2.06 2.06-.94-2.06-.94L8.5 2.5l-.94 2.06-2.06.94zm10 10l.94 2.06.94-2.06 2.06-.94-2.06-.94-.94-2.06-.94 2.06-2.06.94z\"/><path d=\"M17.41 7.96l-1.37-1.37c-.4-.4-.92-.59-1.43-.59-.52 0-1.04.2-1.43.59L10.3 9.45l-7.72 7.72c-.78.78-.78 2.05 0 2.83L4 21.41c.39.39.9.59 1.41.59.51 0 1.02-.2 1.41-.59l7.78-7.78 2.81-2.81c.8-.78.8-2.07 0-2.86zM5.41 20L4 18.59l7.72-7.72 1.47 1.35L5.41 20z\"/>\n",
              "  </svg>\n",
              "      </button>\n",
              "      \n",
              "  <style>\n",
              "    .colab-df-container {\n",
              "      display:flex;\n",
              "      flex-wrap:wrap;\n",
              "      gap: 12px;\n",
              "    }\n",
              "\n",
              "    .colab-df-convert {\n",
              "      background-color: #E8F0FE;\n",
              "      border: none;\n",
              "      border-radius: 50%;\n",
              "      cursor: pointer;\n",
              "      display: none;\n",
              "      fill: #1967D2;\n",
              "      height: 32px;\n",
              "      padding: 0 0 0 0;\n",
              "      width: 32px;\n",
              "    }\n",
              "\n",
              "    .colab-df-convert:hover {\n",
              "      background-color: #E2EBFA;\n",
              "      box-shadow: 0px 1px 2px rgba(60, 64, 67, 0.3), 0px 1px 3px 1px rgba(60, 64, 67, 0.15);\n",
              "      fill: #174EA6;\n",
              "    }\n",
              "\n",
              "    [theme=dark] .colab-df-convert {\n",
              "      background-color: #3B4455;\n",
              "      fill: #D2E3FC;\n",
              "    }\n",
              "\n",
              "    [theme=dark] .colab-df-convert:hover {\n",
              "      background-color: #434B5C;\n",
              "      box-shadow: 0px 1px 3px 1px rgba(0, 0, 0, 0.15);\n",
              "      filter: drop-shadow(0px 1px 2px rgba(0, 0, 0, 0.3));\n",
              "      fill: #FFFFFF;\n",
              "    }\n",
              "  </style>\n",
              "\n",
              "      <script>\n",
              "        const buttonEl =\n",
              "          document.querySelector('#df-079ee5d6-3dd0-4bcc-8053-52d78052de87 button.colab-df-convert');\n",
              "        buttonEl.style.display =\n",
              "          google.colab.kernel.accessAllowed ? 'block' : 'none';\n",
              "\n",
              "        async function convertToInteractive(key) {\n",
              "          const element = document.querySelector('#df-079ee5d6-3dd0-4bcc-8053-52d78052de87');\n",
              "          const dataTable =\n",
              "            await google.colab.kernel.invokeFunction('convertToInteractive',\n",
              "                                                     [key], {});\n",
              "          if (!dataTable) return;\n",
              "\n",
              "          const docLinkHtml = 'Like what you see? Visit the ' +\n",
              "            '<a target=\"_blank\" href=https://colab.research.google.com/notebooks/data_table.ipynb>data table notebook</a>'\n",
              "            + ' to learn more about interactive tables.';\n",
              "          element.innerHTML = '';\n",
              "          dataTable['output_type'] = 'display_data';\n",
              "          await google.colab.output.renderOutput(dataTable, element);\n",
              "          const docLink = document.createElement('div');\n",
              "          docLink.innerHTML = docLinkHtml;\n",
              "          element.appendChild(docLink);\n",
              "        }\n",
              "      </script>\n",
              "    </div>\n",
              "  </div>\n",
              "  "
            ]
          },
          "metadata": {},
          "execution_count": 13
        }
      ]
    },
    {
      "cell_type": "code",
      "source": [
        "#A91 -> Divorced men\n",
        "#A92 -> Women (married or divorced)\n",
        "df_init.hist(column='Credit_amount', by='Personal_status_sex');\n",
        "#plt.ylim(ymin=0,ymax=420)"
      ],
      "metadata": {
        "colab": {
          "base_uri": "https://localhost:8080/",
          "height": 301
        },
        "id": "t17GTbhZM61e",
        "outputId": "1869a603-6f36-4c50-c968-ae957815cfb1"
      },
      "execution_count": 29,
      "outputs": [
        {
          "output_type": "display_data",
          "data": {
            "text/plain": [
              "<Figure size 432x288 with 4 Axes>"
            ],
            "image/png": "[encoded data removed]"
          },
          "metadata": {
            "needs_background": "light"
          }
        }
      ]
    },
    {
      "cell_type": "code",
      "source": [
        "df_init.hist(column='Age', by='Personal_status_sex');"
      ],
      "metadata": {
        "colab": {
          "base_uri": "https://localhost:8080/",
          "height": 283
        },
        "id": "FhW0rnQLq5jp",
        "outputId": "205f3648-7bce-4925-f92c-93ddd702b376"
      },
      "execution_count": 30,
      "outputs": [
        {
          "output_type": "display_data",
          "data": {
            "text/plain": [
              "<Figure size 432x288 with 4 Axes>"
            ],
            "image/png": "[encoded data removed]"
          },
          "metadata": {
            "needs_background": "light"
          }
        }
      ]
    },
    {
      "cell_type": "code",
      "source": [
        "df_init.hist(column='Age', by='Target');"
      ],
      "metadata": {
        "colab": {
          "base_uri": "https://localhost:8080/",
          "height": 283
        },
        "id": "kXpgpMSLunSO",
        "outputId": "d40ab237-88cd-408f-ffcb-837d6fbf7341"
      },
      "execution_count": 31,
      "outputs": [
        {
          "output_type": "display_data",
          "data": {
            "text/plain": [
              "<Figure size 432x288 with 2 Axes>"
            ],
            "image/png": "[encoded data removed]"
          },
          "metadata": {
            "needs_background": "light"
          }
        }
      ]
    },
    {
      "cell_type": "code",
      "source": [
        "df_init.info()"
      ],
      "metadata": {
        "colab": {
          "base_uri": "https://localhost:8080/"
        },
        "id": "42yT4l4ctswy",
        "outputId": "2a3f44bb-9376-4ac9-d74d-18df342da761"
      },
      "execution_count": 161,
      "outputs": [
        {
          "output_type": "stream",
          "name": "stdout",
          "text": [
            "<class 'pandas.core.frame.DataFrame'>\n",
            "RangeIndex: 1000 entries, 0 to 999\n",
            "Data columns (total 21 columns):\n",
            " #   Column                          Non-Null Count  Dtype \n",
            "---  ------                          --------------  ----- \n",
            " 0   Checking_account                1000 non-null   object\n",
            " 1   Duration_months                 1000 non-null   int64 \n",
            " 2   Credit_history                  1000 non-null   object\n",
            " 3   Purpose                         1000 non-null   object\n",
            " 4   Credit_amount                   1000 non-null   int64 \n",
            " 5   Savings                         1000 non-null   object\n",
            " 6   Present_employment_since        1000 non-null   object\n",
            " 7   Installment_rate                1000 non-null   int64 \n",
            " 8   Personal_status_sex             1000 non-null   object\n",
            " 9   Other_debtors                   1000 non-null   object\n",
            " 10  Present_residence_since         1000 non-null   int64 \n",
            " 11  Property                        1000 non-null   object\n",
            " 12  Age                             1000 non-null   int64 \n",
            " 13  Other_installment_plans         1000 non-null   object\n",
            " 14  Housing                         1000 non-null   object\n",
            " 15  existing_credits                1000 non-null   int64 \n",
            " 16  Job                             1000 non-null   object\n",
            " 17  People_provide_maintenance_for  1000 non-null   int64 \n",
            " 18  Telephone                       1000 non-null   object\n",
            " 19  foreign_worker                  1000 non-null   object\n",
            " 20  Target                          1000 non-null   int64 \n",
            "dtypes: int64(8), object(13)\n",
            "memory usage: 164.2+ KB\n"
          ]
        }
      ]
    },
    {
      "cell_type": "code",
      "source": [
        "# Getting the names of the columns that are not numerical\n",
        "cat_list = df_init.select_dtypes(include=['object']).columns\n",
        "cat_list"
      ],
      "metadata": {
        "colab": {
          "base_uri": "https://localhost:8080/"
        },
        "id": "cfygYLSK6pTH",
        "outputId": "095b51e9-17ff-459a-9cf3-2c49fd1eacc8"
      },
      "execution_count": 169,
      "outputs": [
        {
          "output_type": "execute_result",
          "data": {
            "text/plain": [
              "Index(['Checking_account', 'Credit_history', 'Purpose', 'Savings',\n",
              "       'Present_employment_since', 'Personal_status_sex', 'Other_debtors',\n",
              "       'Property', 'Other_installment_plans', 'Housing', 'Job', 'Telephone',\n",
              "       'foreign_worker'],\n",
              "      dtype='object')"
            ]
          },
          "metadata": {},
          "execution_count": 169
        }
      ]
    },
    {
      "cell_type": "code",
      "source": [
        "# Transforming the columns into numerical ones, using LabelEncoder.\n",
        "from sklearn.preprocessing import LabelEncoder\n",
        "le = LabelEncoder()\n",
        "for i in cat_list:\n",
        "  # print(i)\n",
        "  df[i] = le.fit_transform(df_init[i])"
      ],
      "metadata": {
        "id": "vwj9ze5QB7uL"
      },
      "execution_count": 170,
      "outputs": []
    },
    {
      "cell_type": "code",
      "source": [
        "df.head()"
      ],
      "metadata": {
        "colab": {
          "base_uri": "https://localhost:8080/",
          "height": 300
        },
        "id": "xe-HnSXjPla5",
        "outputId": "accbce03-c084-414d-d475-d9a5f7ff15e1"
      },
      "execution_count": 171,
      "outputs": [
        {
          "output_type": "execute_result",
          "data": {
            "text/plain": [
              "   Checking_account  Duration_months  Credit_history  Purpose  Credit_amount  \\\n",
              "0                 0                6               4        4           1169   \n",
              "1                 1               48               2        4           5951   \n",
              "2                 3               12               4        7           2096   \n",
              "3                 0               42               2        3           7882   \n",
              "4                 0               24               3        0           4870   \n",
              "\n",
              "   Savings  Present_employment_since  Installment_rate  Personal_status_sex  \\\n",
              "0        4                         4                 4                    2   \n",
              "1        0                         2                 2                    1   \n",
              "2        0                         3                 2                    2   \n",
              "3        0                         3                 2                    2   \n",
              "4        0                         2                 3                    2   \n",
              "\n",
              "   Other_debtors  ...  Property  Age  Other_installment_plans  Housing  \\\n",
              "0              0  ...         0   67                        2        1   \n",
              "1              0  ...         0   22                        2        1   \n",
              "2              0  ...         0   49                        2        1   \n",
              "3              2  ...         1   45                        2        2   \n",
              "4              0  ...         3   53                        2        2   \n",
              "\n",
              "   existing_credits  Job  People_provide_maintenance_for  Telephone  \\\n",
              "0                 2    2                               1          1   \n",
              "1                 1    2                               1          0   \n",
              "2                 1    1                               2          0   \n",
              "3                 1    2                               2          0   \n",
              "4                 2    2                               2          0   \n",
              "\n",
              "   foreign_worker  Target  \n",
              "0               0       1  \n",
              "1               0       2  \n",
              "2               0       1  \n",
              "3               0       1  \n",
              "4               0       2  \n",
              "\n",
              "[5 rows x 21 columns]"
            ],
            "text/html": [
              "\n",
              "  <div id=\"df-35aa9fcd-6eba-4116-ad0b-d9aaf4d74f9a\">\n",
              "    <div class=\"colab-df-container\">\n",
              "      <div>\n",
              "<style scoped>\n",
              "    .dataframe tbody tr th:only-of-type {\n",
              "        vertical-align: middle;\n",
              "    }\n",
              "\n",
              "    .dataframe tbody tr th {\n",
              "        vertical-align: top;\n",
              "    }\n",
              "\n",
              "    .dataframe thead th {\n",
              "        text-align: right;\n",
              "    }\n",
              "</style>\n",
              "<table border=\"1\" class=\"dataframe\">\n",
              "  <thead>\n",
              "    <tr style=\"text-align: right;\">\n",
              "      <th></th>\n",
              "      <th>Checking_account</th>\n",
              "      <th>Duration_months</th>\n",
              "      <th>Credit_history</th>\n",
              "      <th>Purpose</th>\n",
              "      <th>Credit_amount</th>\n",
              "      <th>Savings</th>\n",
              "      <th>Present_employment_since</th>\n",
              "      <th>Installment_rate</th>\n",
              "      <th>Personal_status_sex</th>\n",
              "      <th>Other_debtors</th>\n",
              "      <th>...</th>\n",
              "      <th>Property</th>\n",
              "      <th>Age</th>\n",
              "      <th>Other_installment_plans</th>\n",
              "      <th>Housing</th>\n",
              "      <th>existing_credits</th>\n",
              "      <th>Job</th>\n",
              "      <th>People_provide_maintenance_for</th>\n",
              "      <th>Telephone</th>\n",
              "      <th>foreign_worker</th>\n",
              "      <th>Target</th>\n",
              "    </tr>\n",
              "  </thead>\n",
              "  <tbody>\n",
              "    <tr>\n",
              "      <th>0</th>\n",
              "      <td>0</td>\n",
              "      <td>6</td>\n",
              "      <td>4</td>\n",
              "      <td>4</td>\n",
              "      <td>1169</td>\n",
              "      <td>4</td>\n",
              "      <td>4</td>\n",
              "      <td>4</td>\n",
              "      <td>2</td>\n",
              "      <td>0</td>\n",
              "      <td>...</td>\n",
              "      <td>0</td>\n",
              "      <td>67</td>\n",
              "      <td>2</td>\n",
              "      <td>1</td>\n",
              "      <td>2</td>\n",
              "      <td>2</td>\n",
              "      <td>1</td>\n",
              "      <td>1</td>\n",
              "      <td>0</td>\n",
              "      <td>1</td>\n",
              "    </tr>\n",
              "    <tr>\n",
              "      <th>1</th>\n",
              "      <td>1</td>\n",
              "      <td>48</td>\n",
              "      <td>2</td>\n",
              "      <td>4</td>\n",
              "      <td>5951</td>\n",
              "      <td>0</td>\n",
              "      <td>2</td>\n",
              "      <td>2</td>\n",
              "      <td>1</td>\n",
              "      <td>0</td>\n",
              "      <td>...</td>\n",
              "      <td>0</td>\n",
              "      <td>22</td>\n",
              "      <td>2</td>\n",
              "      <td>1</td>\n",
              "      <td>1</td>\n",
              "      <td>2</td>\n",
              "      <td>1</td>\n",
              "      <td>0</td>\n",
              "      <td>0</td>\n",
              "      <td>2</td>\n",
              "    </tr>\n",
              "    <tr>\n",
              "      <th>2</th>\n",
              "      <td>3</td>\n",
              "      <td>12</td>\n",
              "      <td>4</td>\n",
              "      <td>7</td>\n",
              "      <td>2096</td>\n",
              "      <td>0</td>\n",
              "      <td>3</td>\n",
              "      <td>2</td>\n",
              "      <td>2</td>\n",
              "      <td>0</td>\n",
              "      <td>...</td>\n",
              "      <td>0</td>\n",
              "      <td>49</td>\n",
              "      <td>2</td>\n",
              "      <td>1</td>\n",
              "      <td>1</td>\n",
              "      <td>1</td>\n",
              "      <td>2</td>\n",
              "      <td>0</td>\n",
              "      <td>0</td>\n",
              "      <td>1</td>\n",
              "    </tr>\n",
              "    <tr>\n",
              "      <th>3</th>\n",
              "      <td>0</td>\n",
              "      <td>42</td>\n",
              "      <td>2</td>\n",
              "      <td>3</td>\n",
              "      <td>7882</td>\n",
              "      <td>0</td>\n",
              "      <td>3</td>\n",
              "      <td>2</td>\n",
              "      <td>2</td>\n",
              "      <td>2</td>\n",
              "      <td>...</td>\n",
              "      <td>1</td>\n",
              "      <td>45</td>\n",
              "      <td>2</td>\n",
              "      <td>2</td>\n",
              "      <td>1</td>\n",
              "      <td>2</td>\n",
              "      <td>2</td>\n",
              "      <td>0</td>\n",
              "      <td>0</td>\n",
              "      <td>1</td>\n",
              "    </tr>\n",
              "    <tr>\n",
              "      <th>4</th>\n",
              "      <td>0</td>\n",
              "      <td>24</td>\n",
              "      <td>3</td>\n",
              "      <td>0</td>\n",
              "      <td>4870</td>\n",
              "      <td>0</td>\n",
              "      <td>2</td>\n",
              "      <td>3</td>\n",
              "      <td>2</td>\n",
              "      <td>0</td>\n",
              "      <td>...</td>\n",
              "      <td>3</td>\n",
              "      <td>53</td>\n",
              "      <td>2</td>\n",
              "      <td>2</td>\n",
              "      <td>2</td>\n",
              "      <td>2</td>\n",
              "      <td>2</td>\n",
              "      <td>0</td>\n",
              "      <td>0</td>\n",
              "      <td>2</td>\n",
              "    </tr>\n",
              "  </tbody>\n",
              "</table>\n",
              "<p>5 rows × 21 columns</p>\n",
              "</div>\n",
              "      <button class=\"colab-df-convert\" onclick=\"convertToInteractive('df-35aa9fcd-6eba-4116-ad0b-d9aaf4d74f9a')\"\n",
              "              title=\"Convert this dataframe to an interactive table.\"\n",
              "              style=\"display:none;\">\n",
              "        \n",
              "  <svg xmlns=\"http://www.w3.org/2000/svg\" height=\"24px\"viewBox=\"0 0 24 24\"\n",
              "       width=\"24px\">\n",
              "    <path d=\"M0 0h24v24H0V0z\" fill=\"none\"/>\n",
              "    <path d=\"M18.56 5.44l.94 2.06.94-2.06 2.06-.94-2.06-.94-.94-2.06-.94 2.06-2.06.94zm-11 1L8.5 8.5l.94-2.06 2.06-.94-2.06-.94L8.5 2.5l-.94 2.06-2.06.94zm10 10l.94 2.06.94-2.06 2.06-.94-2.06-.94-.94-2.06-.94 2.06-2.06.94z\"/><path d=\"M17.41 7.96l-1.37-1.37c-.4-.4-.92-.59-1.43-.59-.52 0-1.04.2-1.43.59L10.3 9.45l-7.72 7.72c-.78.78-.78 2.05 0 2.83L4 21.41c.39.39.9.59 1.41.59.51 0 1.02-.2 1.41-.59l7.78-7.78 2.81-2.81c.8-.78.8-2.07 0-2.86zM5.41 20L4 18.59l7.72-7.72 1.47 1.35L5.41 20z\"/>\n",
              "  </svg>\n",
              "      </button>\n",
              "      \n",
              "  <style>\n",
              "    .colab-df-container {\n",
              "      display:flex;\n",
              "      flex-wrap:wrap;\n",
              "      gap: 12px;\n",
              "    }\n",
              "\n",
              "    .colab-df-convert {\n",
              "      background-color: #E8F0FE;\n",
              "      border: none;\n",
              "      border-radius: 50%;\n",
              "      cursor: pointer;\n",
              "      display: none;\n",
              "      fill: #1967D2;\n",
              "      height: 32px;\n",
              "      padding: 0 0 0 0;\n",
              "      width: 32px;\n",
              "    }\n",
              "\n",
              "    .colab-df-convert:hover {\n",
              "      background-color: #E2EBFA;\n",
              "      box-shadow: 0px 1px 2px rgba(60, 64, 67, 0.3), 0px 1px 3px 1px rgba(60, 64, 67, 0.15);\n",
              "      fill: #174EA6;\n",
              "    }\n",
              "\n",
              "    [theme=dark] .colab-df-convert {\n",
              "      background-color: #3B4455;\n",
              "      fill: #D2E3FC;\n",
              "    }\n",
              "\n",
              "    [theme=dark] .colab-df-convert:hover {\n",
              "      background-color: #434B5C;\n",
              "      box-shadow: 0px 1px 3px 1px rgba(0, 0, 0, 0.15);\n",
              "      filter: drop-shadow(0px 1px 2px rgba(0, 0, 0, 0.3));\n",
              "      fill: #FFFFFF;\n",
              "    }\n",
              "  </style>\n",
              "\n",
              "      <script>\n",
              "        const buttonEl =\n",
              "          document.querySelector('#df-35aa9fcd-6eba-4116-ad0b-d9aaf4d74f9a button.colab-df-convert');\n",
              "        buttonEl.style.display =\n",
              "          google.colab.kernel.accessAllowed ? 'block' : 'none';\n",
              "\n",
              "        async function convertToInteractive(key) {\n",
              "          const element = document.querySelector('#df-35aa9fcd-6eba-4116-ad0b-d9aaf4d74f9a');\n",
              "          const dataTable =\n",
              "            await google.colab.kernel.invokeFunction('convertToInteractive',\n",
              "                                                     [key], {});\n",
              "          if (!dataTable) return;\n",
              "\n",
              "          const docLinkHtml = 'Like what you see? Visit the ' +\n",
              "            '<a target=\"_blank\" href=https://colab.research.google.com/notebooks/data_table.ipynb>data table notebook</a>'\n",
              "            + ' to learn more about interactive tables.';\n",
              "          element.innerHTML = '';\n",
              "          dataTable['output_type'] = 'display_data';\n",
              "          await google.colab.output.renderOutput(dataTable, element);\n",
              "          const docLink = document.createElement('div');\n",
              "          docLink.innerHTML = docLinkHtml;\n",
              "          element.appendChild(docLink);\n",
              "        }\n",
              "      </script>\n",
              "    </div>\n",
              "  </div>\n",
              "  "
            ]
          },
          "metadata": {},
          "execution_count": 171
        }
      ]
    },
    {
      "cell_type": "code",
      "source": [
        "# Spliting the sample into train and test\n",
        "from sklearn.model_selection import train_test_split\n",
        "y=df.Target\n",
        "X=df.drop(['Target'], axis=1)\n",
        "X_train, X_test, y_train, y_test = train_test_split(X, y, test_size=0.25, random_state=42)"
      ],
      "metadata": {
        "id": "8TGzv8INtsi8"
      },
      "execution_count": 172,
      "outputs": []
    },
    {
      "cell_type": "code",
      "source": [
        "X_train.shape"
      ],
      "metadata": {
        "colab": {
          "base_uri": "https://localhost:8080/"
        },
        "id": "2zhTzwdsPtC_",
        "outputId": "7d151c3c-96c3-4b95-b2ea-9c5f46649579"
      },
      "execution_count": 173,
      "outputs": [
        {
          "output_type": "execute_result",
          "data": {
            "text/plain": [
              "(750, 20)"
            ]
          },
          "metadata": {},
          "execution_count": 173
        }
      ]
    },
    {
      "cell_type": "code",
      "source": [
        "y_test.shape"
      ],
      "metadata": {
        "colab": {
          "base_uri": "https://localhost:8080/"
        },
        "id": "Gnrzq-OtPx82",
        "outputId": "56c2d05f-bdcc-4de3-a076-7ff043790f43"
      },
      "execution_count": 174,
      "outputs": [
        {
          "output_type": "execute_result",
          "data": {
            "text/plain": [
              "(250,)"
            ]
          },
          "metadata": {},
          "execution_count": 174
        }
      ]
    },
    {
      "cell_type": "code",
      "source": [
        "from sklearn import tree\n",
        "from sklearn.metrics import classification_report, matthews_corrcoef, confusion_matrix\n",
        "\n",
        "import xgboost as xgb\n",
        "\n",
        "import seaborn as sns\n",
        "\n",
        "%matplotlib inline\n",
        "sns.set(style='white', context='notebook', rc={'figure.figsize':(10,7)})"
      ],
      "metadata": {
        "id": "CGeI36pJOYml"
      },
      "execution_count": 206,
      "outputs": []
    },
    {
      "cell_type": "code",
      "source": [
        "# This is a function that returns some metrics for the classifier.\n",
        "def show_results(y_test, y_preds):\n",
        "  \"\"\" This function:\n",
        "  - prints the MCC score\n",
        "  - prints a classification report \n",
        "  - prints a heatmap colored confusion matrix \n",
        "  \"\"\"\n",
        "  print(f'mcc score: {matthews_corrcoef(y_test, preds)}')\n",
        "  print(classification_report(y_test, preds))\n",
        "\n",
        "  conf_mat = confusion_matrix(y_test, y_preds) \n",
        "  label_names = df['Target'].astype('category').cat.categories\n",
        "  df_cm = pd.DataFrame(conf_mat, label_names, label_names) \n",
        "\n",
        "  sns.set(font_scale=1.4) \n",
        "  sns.heatmap(df_cm, annot=True, fmt='d', cmap=\"GnBu\")"
      ],
      "metadata": {
        "id": "0c3GOOAiOm_k"
      },
      "execution_count": 215,
      "outputs": []
    },
    {
      "cell_type": "code",
      "source": [
        "# Model - AdaBoost Classifier\n",
        "from sklearn.ensemble import AdaBoostClassifier, RandomForestClassifier\n",
        "abc = AdaBoostClassifier()\n",
        "\n",
        "abc_clf = abc.fit(X_train, y_train)\n",
        "\n",
        "preds = abc_clf.predict(X_test)\n",
        "\n",
        "show_results(y_test, preds) "
      ],
      "metadata": {
        "colab": {
          "base_uri": "https://localhost:8080/",
          "height": 773
        },
        "id": "g7oOUQBntsbq",
        "outputId": "0d74fb20-7794-49c5-816b-e5a860f9dbe4"
      },
      "execution_count": 178,
      "outputs": [
        {
          "output_type": "stream",
          "name": "stdout",
          "text": [
            "mcc score: 0.29686089575972197\n",
            "              precision    recall  f1-score   support\n",
            "\n",
            "           1       0.78      0.87      0.82       178\n",
            "           2       0.55      0.40      0.46        72\n",
            "\n",
            "    accuracy                           0.73       250\n",
            "   macro avg       0.66      0.63      0.64       250\n",
            "weighted avg       0.71      0.73      0.72       250\n",
            "\n"
          ]
        },
        {
          "output_type": "display_data",
          "data": {
            "text/plain": [
              "<Figure size 1008x720 with 2 Axes>"
            ],
            "image/png": "[encoded data removed]"
          },
          "metadata": {}
        }
      ]
    },
    {
      "cell_type": "code",
      "source": [
        "# This is a function that calculates the PPV Fairness metric\n",
        "# PPV = TP/(Predicted Positives)\n",
        "# We can use group = 1 for women, since the categorical value for woman is 1 and group = 0 for men, \n",
        "# which are all the other categories.\n",
        "def PPV(group):\n",
        "    TP = 0\n",
        "    Positives = 0\n",
        "    y_test1 = y_test.reset_index(drop=True)\n",
        "    X_test1 = X_test.reset_index(drop=True)\n",
        "    \n",
        "    for i in range(len(preds)): \n",
        "      if group==1:\n",
        "        if y_test1[i]==preds[i]==X_test1['Personal_status_sex'].iloc[i]==1:\n",
        "          TP += 1\n",
        "        if preds[i]==X_test1['Personal_status_sex'].iloc[i]==1:\n",
        "          Positives += 1\n",
        "      \n",
        "      if group==0:\n",
        "        if y_test1[i]==preds[i]==1 and X_test1['Personal_status_sex'].iloc[i]!=1:\n",
        "          TP += 1\n",
        "        if preds[i]==1 and X_test1['Personal_status_sex'].iloc[i]!=1:\n",
        "          Positives += 1\n",
        "\n",
        "    PPV = TP/Positives  \n",
        "\n",
        "    return(PPV)\n"
      ],
      "metadata": {
        "id": "SpJ4HQkm4wNH"
      },
      "execution_count": 177,
      "outputs": []
    },
    {
      "cell_type": "code",
      "source": [
        "#Fairness Metric PPV for women \n",
        "PPV(1)"
      ],
      "metadata": {
        "colab": {
          "base_uri": "https://localhost:8080/"
        },
        "id": "JP0WYVp65yfx",
        "outputId": "98c70a27-a7fa-4900-c1be-d8c5e912ff7d"
      },
      "execution_count": 179,
      "outputs": [
        {
          "output_type": "execute_result",
          "data": {
            "text/plain": [
              "0.7547169811320755"
            ]
          },
          "metadata": {},
          "execution_count": 179
        }
      ]
    },
    {
      "cell_type": "code",
      "source": [
        "#Fairness Metric PPV for men \n",
        "PPV(0)"
      ],
      "metadata": {
        "colab": {
          "base_uri": "https://localhost:8080/"
        },
        "id": "1uT-SZXW570-",
        "outputId": "c42063fc-799f-4bac-966b-8724590c8169"
      },
      "execution_count": 180,
      "outputs": [
        {
          "output_type": "execute_result",
          "data": {
            "text/plain": [
              "0.7916666666666666"
            ]
          },
          "metadata": {},
          "execution_count": 180
        }
      ]
    },
    {
      "cell_type": "code",
      "source": [
        "# Model - XGBoost - First we need to prepare the data for XGBoost:\n",
        "xgboost_train_data = xgb.DMatrix(X_train, label=y_train.astype('category').cat.codes)"
      ],
      "metadata": {
        "id": "3szAFCb4tsUb"
      },
      "execution_count": 181,
      "outputs": []
    },
    {
      "cell_type": "code",
      "source": [
        "# XGBClassifier - XGB Classifier - a boosted ensemble of classifiers\n",
        "reg = xgb.XGBClassifier()\n",
        "xgb_clf = reg.fit(X_train, y_train)\n",
        "\n",
        "preds = xgb_clf.predict(X_test)\n",
        "show_results(y_test, preds) "
      ],
      "metadata": {
        "colab": {
          "base_uri": "https://localhost:8080/",
          "height": 775
        },
        "id": "YcCEU00WtsNM",
        "outputId": "c119df35-ba0a-4d87-91a0-eb5e90b56d81"
      },
      "execution_count": 182,
      "outputs": [
        {
          "output_type": "stream",
          "name": "stdout",
          "text": [
            "mcc score: 0.42333033065612286\n",
            "              precision    recall  f1-score   support\n",
            "\n",
            "           1       0.81      0.90      0.85       178\n",
            "           2       0.67      0.47      0.55        72\n",
            "\n",
            "    accuracy                           0.78       250\n",
            "   macro avg       0.74      0.69      0.70       250\n",
            "weighted avg       0.77      0.78      0.77       250\n",
            "\n"
          ]
        },
        {
          "output_type": "display_data",
          "data": {
            "text/plain": [
              "<Figure size 1008x720 with 2 Axes>"
            ],
            "image/png": "[encoded data removed]"
          },
          "metadata": {}
        }
      ]
    },
    {
      "cell_type": "code",
      "source": [
        "#Fairness Metric PPV for women \n",
        "PPV(1)"
      ],
      "metadata": {
        "colab": {
          "base_uri": "https://localhost:8080/"
        },
        "id": "lPXXlZlatr9l",
        "outputId": "4bffe58a-c797-49ea-b545-fc8e6bad1654"
      },
      "execution_count": 183,
      "outputs": [
        {
          "output_type": "execute_result",
          "data": {
            "text/plain": [
              "0.7868852459016393"
            ]
          },
          "metadata": {},
          "execution_count": 183
        }
      ]
    },
    {
      "cell_type": "code",
      "source": [
        "#Fairness Metric PPV for men \n",
        "PPV(0)"
      ],
      "metadata": {
        "colab": {
          "base_uri": "https://localhost:8080/"
        },
        "id": "aLxrEN71vSqB",
        "outputId": "1fa8fbb4-7141-454e-ea59-f84ea99a5edc"
      },
      "execution_count": 184,
      "outputs": [
        {
          "output_type": "execute_result",
          "data": {
            "text/plain": [
              "0.8188405797101449"
            ]
          },
          "metadata": {},
          "execution_count": 184
        }
      ]
    },
    {
      "cell_type": "code",
      "source": [
        "# Model - Logistic Regression \n",
        "from sklearn.linear_model import LogisticRegression\n",
        "from sklearn.pipeline import make_pipeline\n",
        "from sklearn.preprocessing import StandardScaler\n",
        "reg = make_pipeline(StandardScaler(), LogisticRegression(random_state=0))\n",
        "#reg = LogisticRegression(random_state=0)\n",
        "clf = reg.fit(X_train, y_train)\n",
        "preds = reg.predict(X_test)"
      ],
      "metadata": {
        "id": "FH7aWOLCERjd"
      },
      "execution_count": 205,
      "outputs": []
    },
    {
      "cell_type": "code",
      "source": [
        "show_results(y_test, preds)"
      ],
      "metadata": {
        "colab": {
          "base_uri": "https://localhost:8080/",
          "height": 610
        },
        "id": "-8xdgc_1GIV0",
        "outputId": "27592433-5aef-4ee6-e0cd-a37bf1c26e27"
      },
      "execution_count": 216,
      "outputs": [
        {
          "output_type": "stream",
          "name": "stdout",
          "text": [
            "mcc score: 0.4123339338668127\n",
            "              precision    recall  f1-score   support\n",
            "\n",
            "           1       0.81      0.88      0.85       178\n",
            "           2       0.63      0.50      0.56        72\n",
            "\n",
            "    accuracy                           0.77       250\n",
            "   macro avg       0.72      0.69      0.70       250\n",
            "weighted avg       0.76      0.77      0.76       250\n",
            "\n"
          ]
        },
        {
          "output_type": "display_data",
          "data": {
            "text/plain": [
              "<Figure size 720x504 with 2 Axes>"
            ],
            "image/png": "[encoded data removed]"
          },
          "metadata": {}
        }
      ]
    },
    {
      "cell_type": "code",
      "source": [
        "#Fairness Metric PPV for women \n",
        "PPV(1)"
      ],
      "metadata": {
        "colab": {
          "base_uri": "https://localhost:8080/"
        },
        "id": "v9SDFm-6FKHp",
        "outputId": "cd300294-1555-458f-c3e6-055a7057a3f8"
      },
      "execution_count": 202,
      "outputs": [
        {
          "output_type": "execute_result",
          "data": {
            "text/plain": [
              "0.8181818181818182"
            ]
          },
          "metadata": {},
          "execution_count": 202
        }
      ]
    },
    {
      "cell_type": "code",
      "source": [
        "#Fairness Metric PPV for men \n",
        "PPV(0)"
      ],
      "metadata": {
        "colab": {
          "base_uri": "https://localhost:8080/"
        },
        "id": "znaDhh4MFJ-q",
        "outputId": "8d62877b-bf5a-4b1c-9f1a-cf5aec095ecf"
      },
      "execution_count": 203,
      "outputs": [
        {
          "output_type": "execute_result",
          "data": {
            "text/plain": [
              "0.8115942028985508"
            ]
          },
          "metadata": {},
          "execution_count": 203
        }
      ]
    },
    {
      "cell_type": "code",
      "source": [
        "# Testing our PPV\n",
        "y_test1 = [1,0,1,0,0]\n",
        "X_test1 = [1,2,3,1,1]\n",
        "preds1 = [1,0,1,1,1]\n"
      ],
      "metadata": {
        "id": "i141JQ9ovyUE"
      },
      "execution_count": 185,
      "outputs": []
    },
    {
      "cell_type": "code",
      "source": [
        "# group=1 for women and group = 0 for men\n",
        "def PPV_test(group):\n",
        "    TP = 0\n",
        "    Positives = 0\n",
        "  #  y_test1 = y_test.reset_index(drop=True)\n",
        "  #  X_test1 = X_test.reset_index(drop=True)\n",
        "    \n",
        "    for i in range(len(preds1)): \n",
        "      if group==1:\n",
        "        if y_test1[i]==preds1[i]==X_test1[i]==1:\n",
        "          TP += 1\n",
        "        if preds1[i]==X_test1[i]==1:\n",
        "          Positives += 1\n",
        "      \n",
        "      if group==0:\n",
        "        if y_test1[i]==preds1[i]==1 and X_test1[i]!=1:\n",
        "          TP += 1\n",
        "        if preds1[i]==1 and X_test1[i]!=1:\n",
        "          Positives += 1\n",
        "\n",
        "    PPV = TP/Positives  \n",
        "\n",
        "    return(PPV)"
      ],
      "metadata": {
        "id": "Zbop2T9AwsID"
      },
      "execution_count": 190,
      "outputs": []
    },
    {
      "cell_type": "code",
      "source": [
        "PPV_test(1)"
      ],
      "metadata": {
        "colab": {
          "base_uri": "https://localhost:8080/"
        },
        "id": "oe1GiBNMxOxI",
        "outputId": "c1177703-7b51-4d56-8209-042698f511b7"
      },
      "execution_count": 191,
      "outputs": [
        {
          "output_type": "execute_result",
          "data": {
            "text/plain": [
              "0.3333333333333333"
            ]
          },
          "metadata": {},
          "execution_count": 191
        }
      ]
    },
    {
      "cell_type": "code",
      "source": [
        "PPV_test(0)"
      ],
      "metadata": {
        "colab": {
          "base_uri": "https://localhost:8080/"
        },
        "id": "76UttWex9cDq",
        "outputId": "209ee869-202e-4d26-883b-539589879e5d"
      },
      "execution_count": 192,
      "outputs": [
        {
          "output_type": "execute_result",
          "data": {
            "text/plain": [
              "1.0"
            ]
          },
          "metadata": {},
          "execution_count": 192
        }
      ]
    },
    {
      "cell_type": "code",
      "source": [
        "male_credit = df_init[\"Credit_amount\"].loc[df_init[\"Personal_status_sex\"].isin(['A94','A91','A93'])].values\n",
        "female_credit = df_init[\"Credit_amount\"].loc[df_init[\"Personal_status_sex\"] == \"A92\"].values\n",
        "total_credit = df_init['Credit_amount'].values\n",
        "\n",
        "sns.displot(male_credit)\n",
        "sns.displot(female_credit)\n",
        "sns.displot(total_credit)\n"
      ],
      "metadata": {
        "colab": {
          "base_uri": "https://localhost:8080/",
          "height": 1000
        },
        "id": "_mucdQlhgSsN",
        "outputId": "f8e1a1fb-357b-4ed2-ef38-8afa8f4b5c09"
      },
      "execution_count": 25,
      "outputs": [
        {
          "output_type": "execute_result",
          "data": {
            "text/plain": [
              "<seaborn.axisgrid.FacetGrid at 0x7f6947a25190>"
            ]
          },
          "metadata": {},
          "execution_count": 25
        },
        {
          "output_type": "display_data",
          "data": {
            "text/plain": [
              "<Figure size 360x360 with 1 Axes>"
            ],
            "image/png": "[encoded data removed]"
          },
          "metadata": {
            "needs_background": "light"
          }
        },
        {
          "output_type": "display_data",
          "data": {
            "text/plain": [
              "<Figure size 360x360 with 1 Axes>"
            ],
            "image/png": "[encoded data removed]"
          },
          "metadata": {
            "needs_background": "light"
          }
        },
        {
          "output_type": "display_data",
          "data": {
            "text/plain": [
              "<Figure size 360x360 with 1 Axes>"
            ],
            "image/png": "[encoded data removed]"
          },
          "metadata": {
            "needs_background": "light"
          }
        }
      ]
    }
  ]
}